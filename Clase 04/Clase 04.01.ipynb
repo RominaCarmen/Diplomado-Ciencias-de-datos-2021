{
 "cells": [
  {
   "cell_type": "markdown",
   "id": "b3767d2c-a0dd-4d1d-aa94-b029540ba831",
   "metadata": {},
   "source": [
    "# Altair - Introduction"
   ]
  },
  {
   "cell_type": "code",
   "execution_count": null,
   "id": "86f7dcec-1c94-4bfc-ad09-885f78e9633c",
   "metadata": {},
   "outputs": [],
   "source": [
    "## Para isntalar desde la pantallade comando\n",
    "#================================================\n",
    "#pip instal vega_datasets altair"
   ]
  },
  {
   "cell_type": "code",
   "execution_count": 1,
   "id": "a809ab51-1d84-4021-8da7-d532ebdcc383",
   "metadata": {},
   "outputs": [],
   "source": [
    "from vega_datasets import data\n",
    "import altair as alt  # pip install altair"
   ]
  },
  {
   "cell_type": "markdown",
   "id": "d6286032-9cb0-4ec0-b1ce-aea9214840a0",
   "metadata": {},
   "source": [
    "<center>\n",
    "<img src=\"https://miro.medium.com/max/770/1*jsb78Rr2cDy6zrE7j2IKig.png\">\n",
    "</center>\n",
    "\n",
    "[Jacques Bertin](https://en.wikipedia.org/wiki/Jacques_Bertin)’s taxonomy of visual encodings from [Sémiologie Graphique](https://books.google.com.ar/books/about/Semiology_of_Graphics.html?id=X5caQwAACAAJ&redir_esc=y), as adapted by [Mike Bostock](https://bost.ocks.org/mike/).\n",
    "\n",
    "\n",
    "<center>\n",
    "<img src=\"../images/altair_layers.png\">\n",
    "</center>\n",
    "\n",
    "[Altair's Visualization Grammar by Eitan Lees](https://www.youtube.com/watch?v=U7w1XumKK60)"
   ]
  },
  {
   "cell_type": "markdown",
   "id": "cdde36c3-b932-40f8-a6c8-f5e7f3c9d6b6",
   "metadata": {},
   "source": [
    "## Load Data"
   ]
  },
  {
   "cell_type": "code",
   "execution_count": 2,
   "id": "c44bbac6-b380-4e91-b258-7a048258ac87",
   "metadata": {},
   "outputs": [
    {
     "data": {
      "text/html": [
       "<div>\n",
       "<style scoped>\n",
       "    .dataframe tbody tr th:only-of-type {\n",
       "        vertical-align: middle;\n",
       "    }\n",
       "\n",
       "    .dataframe tbody tr th {\n",
       "        vertical-align: top;\n",
       "    }\n",
       "\n",
       "    .dataframe thead th {\n",
       "        text-align: right;\n",
       "    }\n",
       "</style>\n",
       "<table border=\"1\" class=\"dataframe\">\n",
       "  <thead>\n",
       "    <tr style=\"text-align: right;\">\n",
       "      <th></th>\n",
       "      <th>Series</th>\n",
       "      <th>X</th>\n",
       "      <th>Y</th>\n",
       "    </tr>\n",
       "  </thead>\n",
       "  <tbody>\n",
       "    <tr>\n",
       "      <th>0</th>\n",
       "      <td>I</td>\n",
       "      <td>10</td>\n",
       "      <td>8.04</td>\n",
       "    </tr>\n",
       "    <tr>\n",
       "      <th>1</th>\n",
       "      <td>I</td>\n",
       "      <td>8</td>\n",
       "      <td>6.95</td>\n",
       "    </tr>\n",
       "    <tr>\n",
       "      <th>2</th>\n",
       "      <td>I</td>\n",
       "      <td>13</td>\n",
       "      <td>7.58</td>\n",
       "    </tr>\n",
       "    <tr>\n",
       "      <th>3</th>\n",
       "      <td>I</td>\n",
       "      <td>9</td>\n",
       "      <td>8.81</td>\n",
       "    </tr>\n",
       "    <tr>\n",
       "      <th>4</th>\n",
       "      <td>I</td>\n",
       "      <td>11</td>\n",
       "      <td>8.33</td>\n",
       "    </tr>\n",
       "  </tbody>\n",
       "</table>\n",
       "</div>"
      ],
      "text/plain": [
       "  Series   X     Y\n",
       "0      I  10  8.04\n",
       "1      I   8  6.95\n",
       "2      I  13  7.58\n",
       "3      I   9  8.81\n",
       "4      I  11  8.33"
      ]
     },
     "execution_count": 2,
     "metadata": {},
     "output_type": "execute_result"
    }
   ],
   "source": [
    "dataset = data(\"anscombe\")\n",
    "dataset.head()"
   ]
  },
  {
   "cell_type": "markdown",
   "id": "032d1482-e25d-49ee-8495-001ca57dbb29",
   "metadata": {},
   "source": [
    "## Marks"
   ]
  },
  {
   "cell_type": "code",
   "execution_count": 4,
   "id": "ffbf885b-c473-47a7-a0df-7e85a24ec659",
   "metadata": {},
   "outputs": [],
   "source": [
    "alt.Chart.mark_area\n",
    "alt.Chart.mark_bar\n",
    "alt.Chart.mark_boxplot\n",
    "alt.Chart.mark_circle\n",
    "alt.Chart.mark_errorband\n",
    "alt.Chart.mark_errorbar\n",
    "alt.Chart.mark_geoshape\n",
    "alt.Chart.mark_image\n",
    "alt.Chart.mark_line\n",
    "alt.Chart.mark_point\n",
    "alt.Chart.mark_rect\n",
    "alt.Chart.mark_rule\n",
    "alt.Chart.mark_square\n",
    "alt.Chart.mark_text\n",
    "alt.Chart.mark_tick\n",
    "alt.Chart.mark_trail;"
   ]
  },
  {
   "cell_type": "markdown",
   "id": "0503dcb9-63a8-4d49-87c2-26a62e4918e8",
   "metadata": {},
   "source": [
    "## Mark Point"
   ]
  },
  {
   "cell_type": "code",
   "execution_count": 6,
   "id": "eaddde1b-ff90-4429-8cda-36895613011a",
   "metadata": {},
   "outputs": [
    {
     "data": {
      "text/html": [
       "\n",
       "<div id=\"altair-viz-7c252cecd3ce45b0b2ecba8fde29971b\"></div>\n",
       "<script type=\"text/javascript\">\n",
       "  (function(spec, embedOpt){\n",
       "    let outputDiv = document.currentScript.previousElementSibling;\n",
       "    if (outputDiv.id !== \"altair-viz-7c252cecd3ce45b0b2ecba8fde29971b\") {\n",
       "      outputDiv = document.getElementById(\"altair-viz-7c252cecd3ce45b0b2ecba8fde29971b\");\n",
       "    }\n",
       "    const paths = {\n",
       "      \"vega\": \"https://cdn.jsdelivr.net/npm//vega@5?noext\",\n",
       "      \"vega-lib\": \"https://cdn.jsdelivr.net/npm//vega-lib?noext\",\n",
       "      \"vega-lite\": \"https://cdn.jsdelivr.net/npm//vega-lite@4.8.1?noext\",\n",
       "      \"vega-embed\": \"https://cdn.jsdelivr.net/npm//vega-embed@6?noext\",\n",
       "    };\n",
       "\n",
       "    function loadScript(lib) {\n",
       "      return new Promise(function(resolve, reject) {\n",
       "        var s = document.createElement('script');\n",
       "        s.src = paths[lib];\n",
       "        s.async = true;\n",
       "        s.onload = () => resolve(paths[lib]);\n",
       "        s.onerror = () => reject(`Error loading script: ${paths[lib]}`);\n",
       "        document.getElementsByTagName(\"head\")[0].appendChild(s);\n",
       "      });\n",
       "    }\n",
       "\n",
       "    function showError(err) {\n",
       "      outputDiv.innerHTML = `<div class=\"error\" style=\"color:red;\">${err}</div>`;\n",
       "      throw err;\n",
       "    }\n",
       "\n",
       "    function displayChart(vegaEmbed) {\n",
       "      vegaEmbed(outputDiv, spec, embedOpt)\n",
       "        .catch(err => showError(`Javascript Error: ${err.message}<br>This usually means there's a typo in your chart specification. See the javascript console for the full traceback.`));\n",
       "    }\n",
       "\n",
       "    if(typeof define === \"function\" && define.amd) {\n",
       "      requirejs.config({paths});\n",
       "      require([\"vega-embed\"], displayChart, err => showError(`Error loading script: ${err.message}`));\n",
       "    } else if (typeof vegaEmbed === \"function\") {\n",
       "      displayChart(vegaEmbed);\n",
       "    } else {\n",
       "      loadScript(\"vega\")\n",
       "        .then(() => loadScript(\"vega-lite\"))\n",
       "        .then(() => loadScript(\"vega-embed\"))\n",
       "        .catch(showError)\n",
       "        .then(() => displayChart(vegaEmbed));\n",
       "    }\n",
       "  })({\"config\": {\"view\": {\"continuousWidth\": 400, \"continuousHeight\": 300}}, \"data\": {\"name\": \"data-3d23a3381c61efd5a9c7a8abc82c6d65\"}, \"mark\": \"point\", \"$schema\": \"https://vega.github.io/schema/vega-lite/v4.8.1.json\", \"datasets\": {\"data-3d23a3381c61efd5a9c7a8abc82c6d65\": [{\"Series\": \"I\", \"X\": 10, \"Y\": 8.04}, {\"Series\": \"I\", \"X\": 8, \"Y\": 6.95}, {\"Series\": \"I\", \"X\": 13, \"Y\": 7.58}, {\"Series\": \"I\", \"X\": 9, \"Y\": 8.81}, {\"Series\": \"I\", \"X\": 11, \"Y\": 8.33}, {\"Series\": \"I\", \"X\": 14, \"Y\": 9.96}, {\"Series\": \"I\", \"X\": 6, \"Y\": 7.24}, {\"Series\": \"I\", \"X\": 4, \"Y\": 4.26}, {\"Series\": \"I\", \"X\": 12, \"Y\": 10.84}, {\"Series\": \"I\", \"X\": 7, \"Y\": 4.8100000000000005}, {\"Series\": \"I\", \"X\": 5, \"Y\": 5.68}, {\"Series\": \"II\", \"X\": 10, \"Y\": 9.14}, {\"Series\": \"II\", \"X\": 8, \"Y\": 8.14}, {\"Series\": \"II\", \"X\": 13, \"Y\": 8.74}, {\"Series\": \"II\", \"X\": 9, \"Y\": 8.77}, {\"Series\": \"II\", \"X\": 11, \"Y\": 9.26}, {\"Series\": \"II\", \"X\": 14, \"Y\": 8.1}, {\"Series\": \"II\", \"X\": 6, \"Y\": 6.13}, {\"Series\": \"II\", \"X\": 4, \"Y\": 3.1}, {\"Series\": \"II\", \"X\": 12, \"Y\": 9.13}, {\"Series\": \"II\", \"X\": 7, \"Y\": 7.26}, {\"Series\": \"II\", \"X\": 5, \"Y\": 4.74}, {\"Series\": \"III\", \"X\": 10, \"Y\": 7.46}, {\"Series\": \"III\", \"X\": 8, \"Y\": 6.77}, {\"Series\": \"III\", \"X\": 13, \"Y\": 12.74}, {\"Series\": \"III\", \"X\": 9, \"Y\": 7.11}, {\"Series\": \"III\", \"X\": 11, \"Y\": 7.8100000000000005}, {\"Series\": \"III\", \"X\": 14, \"Y\": 8.84}, {\"Series\": \"III\", \"X\": 6, \"Y\": 6.08}, {\"Series\": \"III\", \"X\": 4, \"Y\": 5.39}, {\"Series\": \"III\", \"X\": 12, \"Y\": 8.15}, {\"Series\": \"III\", \"X\": 7, \"Y\": 6.42}, {\"Series\": \"III\", \"X\": 5, \"Y\": 5.73}, {\"Series\": \"IV\", \"X\": 8, \"Y\": 6.58}, {\"Series\": \"IV\", \"X\": 8, \"Y\": 5.76}, {\"Series\": \"IV\", \"X\": 8, \"Y\": 7.71}, {\"Series\": \"IV\", \"X\": 8, \"Y\": 8.84}, {\"Series\": \"IV\", \"X\": 8, \"Y\": 8.47}, {\"Series\": \"IV\", \"X\": 8, \"Y\": 7.04}, {\"Series\": \"IV\", \"X\": 8, \"Y\": 5.25}, {\"Series\": \"IV\", \"X\": 19, \"Y\": 12.5}, {\"Series\": \"IV\", \"X\": 8, \"Y\": 5.5600000000000005}, {\"Series\": \"IV\", \"X\": 8, \"Y\": 7.91}, {\"Series\": \"IV\", \"X\": 8, \"Y\": 6.89}]}}, {\"mode\": \"vega-lite\"});\n",
       "</script>"
      ],
      "text/plain": [
       "alt.Chart(...)"
      ]
     },
     "execution_count": 6,
     "metadata": {},
     "output_type": "execute_result"
    }
   ],
   "source": [
    "alt.Chart(dataset).mark_point()"
   ]
  },
  {
   "cell_type": "code",
   "execution_count": 7,
   "id": "ebb41389-d3c5-47f8-9962-39f1520de790",
   "metadata": {},
   "outputs": [
    {
     "data": {
      "text/html": [
       "\n",
       "<div id=\"altair-viz-b7687b4dee764d5bb2dce6984400a0c0\"></div>\n",
       "<script type=\"text/javascript\">\n",
       "  (function(spec, embedOpt){\n",
       "    let outputDiv = document.currentScript.previousElementSibling;\n",
       "    if (outputDiv.id !== \"altair-viz-b7687b4dee764d5bb2dce6984400a0c0\") {\n",
       "      outputDiv = document.getElementById(\"altair-viz-b7687b4dee764d5bb2dce6984400a0c0\");\n",
       "    }\n",
       "    const paths = {\n",
       "      \"vega\": \"https://cdn.jsdelivr.net/npm//vega@5?noext\",\n",
       "      \"vega-lib\": \"https://cdn.jsdelivr.net/npm//vega-lib?noext\",\n",
       "      \"vega-lite\": \"https://cdn.jsdelivr.net/npm//vega-lite@4.8.1?noext\",\n",
       "      \"vega-embed\": \"https://cdn.jsdelivr.net/npm//vega-embed@6?noext\",\n",
       "    };\n",
       "\n",
       "    function loadScript(lib) {\n",
       "      return new Promise(function(resolve, reject) {\n",
       "        var s = document.createElement('script');\n",
       "        s.src = paths[lib];\n",
       "        s.async = true;\n",
       "        s.onload = () => resolve(paths[lib]);\n",
       "        s.onerror = () => reject(`Error loading script: ${paths[lib]}`);\n",
       "        document.getElementsByTagName(\"head\")[0].appendChild(s);\n",
       "      });\n",
       "    }\n",
       "\n",
       "    function showError(err) {\n",
       "      outputDiv.innerHTML = `<div class=\"error\" style=\"color:red;\">${err}</div>`;\n",
       "      throw err;\n",
       "    }\n",
       "\n",
       "    function displayChart(vegaEmbed) {\n",
       "      vegaEmbed(outputDiv, spec, embedOpt)\n",
       "        .catch(err => showError(`Javascript Error: ${err.message}<br>This usually means there's a typo in your chart specification. See the javascript console for the full traceback.`));\n",
       "    }\n",
       "\n",
       "    if(typeof define === \"function\" && define.amd) {\n",
       "      requirejs.config({paths});\n",
       "      require([\"vega-embed\"], displayChart, err => showError(`Error loading script: ${err.message}`));\n",
       "    } else if (typeof vegaEmbed === \"function\") {\n",
       "      displayChart(vegaEmbed);\n",
       "    } else {\n",
       "      loadScript(\"vega\")\n",
       "        .then(() => loadScript(\"vega-lite\"))\n",
       "        .then(() => loadScript(\"vega-embed\"))\n",
       "        .catch(showError)\n",
       "        .then(() => displayChart(vegaEmbed));\n",
       "    }\n",
       "  })({\"config\": {\"view\": {\"continuousWidth\": 400, \"continuousHeight\": 300}}, \"data\": {\"name\": \"data-3d23a3381c61efd5a9c7a8abc82c6d65\"}, \"mark\": \"point\", \"encoding\": {\"x\": {\"type\": \"quantitative\", \"field\": \"X\"}}, \"$schema\": \"https://vega.github.io/schema/vega-lite/v4.8.1.json\", \"datasets\": {\"data-3d23a3381c61efd5a9c7a8abc82c6d65\": [{\"Series\": \"I\", \"X\": 10, \"Y\": 8.04}, {\"Series\": \"I\", \"X\": 8, \"Y\": 6.95}, {\"Series\": \"I\", \"X\": 13, \"Y\": 7.58}, {\"Series\": \"I\", \"X\": 9, \"Y\": 8.81}, {\"Series\": \"I\", \"X\": 11, \"Y\": 8.33}, {\"Series\": \"I\", \"X\": 14, \"Y\": 9.96}, {\"Series\": \"I\", \"X\": 6, \"Y\": 7.24}, {\"Series\": \"I\", \"X\": 4, \"Y\": 4.26}, {\"Series\": \"I\", \"X\": 12, \"Y\": 10.84}, {\"Series\": \"I\", \"X\": 7, \"Y\": 4.8100000000000005}, {\"Series\": \"I\", \"X\": 5, \"Y\": 5.68}, {\"Series\": \"II\", \"X\": 10, \"Y\": 9.14}, {\"Series\": \"II\", \"X\": 8, \"Y\": 8.14}, {\"Series\": \"II\", \"X\": 13, \"Y\": 8.74}, {\"Series\": \"II\", \"X\": 9, \"Y\": 8.77}, {\"Series\": \"II\", \"X\": 11, \"Y\": 9.26}, {\"Series\": \"II\", \"X\": 14, \"Y\": 8.1}, {\"Series\": \"II\", \"X\": 6, \"Y\": 6.13}, {\"Series\": \"II\", \"X\": 4, \"Y\": 3.1}, {\"Series\": \"II\", \"X\": 12, \"Y\": 9.13}, {\"Series\": \"II\", \"X\": 7, \"Y\": 7.26}, {\"Series\": \"II\", \"X\": 5, \"Y\": 4.74}, {\"Series\": \"III\", \"X\": 10, \"Y\": 7.46}, {\"Series\": \"III\", \"X\": 8, \"Y\": 6.77}, {\"Series\": \"III\", \"X\": 13, \"Y\": 12.74}, {\"Series\": \"III\", \"X\": 9, \"Y\": 7.11}, {\"Series\": \"III\", \"X\": 11, \"Y\": 7.8100000000000005}, {\"Series\": \"III\", \"X\": 14, \"Y\": 8.84}, {\"Series\": \"III\", \"X\": 6, \"Y\": 6.08}, {\"Series\": \"III\", \"X\": 4, \"Y\": 5.39}, {\"Series\": \"III\", \"X\": 12, \"Y\": 8.15}, {\"Series\": \"III\", \"X\": 7, \"Y\": 6.42}, {\"Series\": \"III\", \"X\": 5, \"Y\": 5.73}, {\"Series\": \"IV\", \"X\": 8, \"Y\": 6.58}, {\"Series\": \"IV\", \"X\": 8, \"Y\": 5.76}, {\"Series\": \"IV\", \"X\": 8, \"Y\": 7.71}, {\"Series\": \"IV\", \"X\": 8, \"Y\": 8.84}, {\"Series\": \"IV\", \"X\": 8, \"Y\": 8.47}, {\"Series\": \"IV\", \"X\": 8, \"Y\": 7.04}, {\"Series\": \"IV\", \"X\": 8, \"Y\": 5.25}, {\"Series\": \"IV\", \"X\": 19, \"Y\": 12.5}, {\"Series\": \"IV\", \"X\": 8, \"Y\": 5.5600000000000005}, {\"Series\": \"IV\", \"X\": 8, \"Y\": 7.91}, {\"Series\": \"IV\", \"X\": 8, \"Y\": 6.89}]}}, {\"mode\": \"vega-lite\"});\n",
       "</script>"
      ],
      "text/plain": [
       "alt.Chart(...)"
      ]
     },
     "execution_count": 7,
     "metadata": {},
     "output_type": "execute_result"
    }
   ],
   "source": [
    "alt.Chart(dataset).mark_point().encode(\n",
    "    x=\"X\"\n",
    ")"
   ]
  },
  {
   "cell_type": "code",
   "execution_count": 8,
   "id": "4842b07d-3668-4c16-b5aa-ac2e2b4f81cd",
   "metadata": {},
   "outputs": [
    {
     "data": {
      "text/html": [
       "\n",
       "<div id=\"altair-viz-fd786ec50f96414ba161081c4d076352\"></div>\n",
       "<script type=\"text/javascript\">\n",
       "  (function(spec, embedOpt){\n",
       "    let outputDiv = document.currentScript.previousElementSibling;\n",
       "    if (outputDiv.id !== \"altair-viz-fd786ec50f96414ba161081c4d076352\") {\n",
       "      outputDiv = document.getElementById(\"altair-viz-fd786ec50f96414ba161081c4d076352\");\n",
       "    }\n",
       "    const paths = {\n",
       "      \"vega\": \"https://cdn.jsdelivr.net/npm//vega@5?noext\",\n",
       "      \"vega-lib\": \"https://cdn.jsdelivr.net/npm//vega-lib?noext\",\n",
       "      \"vega-lite\": \"https://cdn.jsdelivr.net/npm//vega-lite@4.8.1?noext\",\n",
       "      \"vega-embed\": \"https://cdn.jsdelivr.net/npm//vega-embed@6?noext\",\n",
       "    };\n",
       "\n",
       "    function loadScript(lib) {\n",
       "      return new Promise(function(resolve, reject) {\n",
       "        var s = document.createElement('script');\n",
       "        s.src = paths[lib];\n",
       "        s.async = true;\n",
       "        s.onload = () => resolve(paths[lib]);\n",
       "        s.onerror = () => reject(`Error loading script: ${paths[lib]}`);\n",
       "        document.getElementsByTagName(\"head\")[0].appendChild(s);\n",
       "      });\n",
       "    }\n",
       "\n",
       "    function showError(err) {\n",
       "      outputDiv.innerHTML = `<div class=\"error\" style=\"color:red;\">${err}</div>`;\n",
       "      throw err;\n",
       "    }\n",
       "\n",
       "    function displayChart(vegaEmbed) {\n",
       "      vegaEmbed(outputDiv, spec, embedOpt)\n",
       "        .catch(err => showError(`Javascript Error: ${err.message}<br>This usually means there's a typo in your chart specification. See the javascript console for the full traceback.`));\n",
       "    }\n",
       "\n",
       "    if(typeof define === \"function\" && define.amd) {\n",
       "      requirejs.config({paths});\n",
       "      require([\"vega-embed\"], displayChart, err => showError(`Error loading script: ${err.message}`));\n",
       "    } else if (typeof vegaEmbed === \"function\") {\n",
       "      displayChart(vegaEmbed);\n",
       "    } else {\n",
       "      loadScript(\"vega\")\n",
       "        .then(() => loadScript(\"vega-lite\"))\n",
       "        .then(() => loadScript(\"vega-embed\"))\n",
       "        .catch(showError)\n",
       "        .then(() => displayChart(vegaEmbed));\n",
       "    }\n",
       "  })({\"config\": {\"view\": {\"continuousWidth\": 400, \"continuousHeight\": 300}}, \"data\": {\"name\": \"data-3d23a3381c61efd5a9c7a8abc82c6d65\"}, \"mark\": \"point\", \"encoding\": {\"x\": {\"type\": \"quantitative\", \"field\": \"X\"}, \"y\": {\"type\": \"quantitative\", \"field\": \"Y\"}}, \"$schema\": \"https://vega.github.io/schema/vega-lite/v4.8.1.json\", \"datasets\": {\"data-3d23a3381c61efd5a9c7a8abc82c6d65\": [{\"Series\": \"I\", \"X\": 10, \"Y\": 8.04}, {\"Series\": \"I\", \"X\": 8, \"Y\": 6.95}, {\"Series\": \"I\", \"X\": 13, \"Y\": 7.58}, {\"Series\": \"I\", \"X\": 9, \"Y\": 8.81}, {\"Series\": \"I\", \"X\": 11, \"Y\": 8.33}, {\"Series\": \"I\", \"X\": 14, \"Y\": 9.96}, {\"Series\": \"I\", \"X\": 6, \"Y\": 7.24}, {\"Series\": \"I\", \"X\": 4, \"Y\": 4.26}, {\"Series\": \"I\", \"X\": 12, \"Y\": 10.84}, {\"Series\": \"I\", \"X\": 7, \"Y\": 4.8100000000000005}, {\"Series\": \"I\", \"X\": 5, \"Y\": 5.68}, {\"Series\": \"II\", \"X\": 10, \"Y\": 9.14}, {\"Series\": \"II\", \"X\": 8, \"Y\": 8.14}, {\"Series\": \"II\", \"X\": 13, \"Y\": 8.74}, {\"Series\": \"II\", \"X\": 9, \"Y\": 8.77}, {\"Series\": \"II\", \"X\": 11, \"Y\": 9.26}, {\"Series\": \"II\", \"X\": 14, \"Y\": 8.1}, {\"Series\": \"II\", \"X\": 6, \"Y\": 6.13}, {\"Series\": \"II\", \"X\": 4, \"Y\": 3.1}, {\"Series\": \"II\", \"X\": 12, \"Y\": 9.13}, {\"Series\": \"II\", \"X\": 7, \"Y\": 7.26}, {\"Series\": \"II\", \"X\": 5, \"Y\": 4.74}, {\"Series\": \"III\", \"X\": 10, \"Y\": 7.46}, {\"Series\": \"III\", \"X\": 8, \"Y\": 6.77}, {\"Series\": \"III\", \"X\": 13, \"Y\": 12.74}, {\"Series\": \"III\", \"X\": 9, \"Y\": 7.11}, {\"Series\": \"III\", \"X\": 11, \"Y\": 7.8100000000000005}, {\"Series\": \"III\", \"X\": 14, \"Y\": 8.84}, {\"Series\": \"III\", \"X\": 6, \"Y\": 6.08}, {\"Series\": \"III\", \"X\": 4, \"Y\": 5.39}, {\"Series\": \"III\", \"X\": 12, \"Y\": 8.15}, {\"Series\": \"III\", \"X\": 7, \"Y\": 6.42}, {\"Series\": \"III\", \"X\": 5, \"Y\": 5.73}, {\"Series\": \"IV\", \"X\": 8, \"Y\": 6.58}, {\"Series\": \"IV\", \"X\": 8, \"Y\": 5.76}, {\"Series\": \"IV\", \"X\": 8, \"Y\": 7.71}, {\"Series\": \"IV\", \"X\": 8, \"Y\": 8.84}, {\"Series\": \"IV\", \"X\": 8, \"Y\": 8.47}, {\"Series\": \"IV\", \"X\": 8, \"Y\": 7.04}, {\"Series\": \"IV\", \"X\": 8, \"Y\": 5.25}, {\"Series\": \"IV\", \"X\": 19, \"Y\": 12.5}, {\"Series\": \"IV\", \"X\": 8, \"Y\": 5.5600000000000005}, {\"Series\": \"IV\", \"X\": 8, \"Y\": 7.91}, {\"Series\": \"IV\", \"X\": 8, \"Y\": 6.89}]}}, {\"mode\": \"vega-lite\"});\n",
       "</script>"
      ],
      "text/plain": [
       "alt.Chart(...)"
      ]
     },
     "execution_count": 8,
     "metadata": {},
     "output_type": "execute_result"
    }
   ],
   "source": [
    "alt.Chart(dataset).mark_point().encode(\n",
    "    x='X',\n",
    "    y='Y'\n",
    ")"
   ]
  },
  {
   "cell_type": "code",
   "execution_count": 9,
   "id": "4d8f1a2a-2be7-43ca-9062-6901818bd9c0",
   "metadata": {},
   "outputs": [
    {
     "data": {
      "text/html": [
       "\n",
       "<div id=\"altair-viz-666093121b9548268ec68fff794fc994\"></div>\n",
       "<script type=\"text/javascript\">\n",
       "  (function(spec, embedOpt){\n",
       "    let outputDiv = document.currentScript.previousElementSibling;\n",
       "    if (outputDiv.id !== \"altair-viz-666093121b9548268ec68fff794fc994\") {\n",
       "      outputDiv = document.getElementById(\"altair-viz-666093121b9548268ec68fff794fc994\");\n",
       "    }\n",
       "    const paths = {\n",
       "      \"vega\": \"https://cdn.jsdelivr.net/npm//vega@5?noext\",\n",
       "      \"vega-lib\": \"https://cdn.jsdelivr.net/npm//vega-lib?noext\",\n",
       "      \"vega-lite\": \"https://cdn.jsdelivr.net/npm//vega-lite@4.8.1?noext\",\n",
       "      \"vega-embed\": \"https://cdn.jsdelivr.net/npm//vega-embed@6?noext\",\n",
       "    };\n",
       "\n",
       "    function loadScript(lib) {\n",
       "      return new Promise(function(resolve, reject) {\n",
       "        var s = document.createElement('script');\n",
       "        s.src = paths[lib];\n",
       "        s.async = true;\n",
       "        s.onload = () => resolve(paths[lib]);\n",
       "        s.onerror = () => reject(`Error loading script: ${paths[lib]}`);\n",
       "        document.getElementsByTagName(\"head\")[0].appendChild(s);\n",
       "      });\n",
       "    }\n",
       "\n",
       "    function showError(err) {\n",
       "      outputDiv.innerHTML = `<div class=\"error\" style=\"color:red;\">${err}</div>`;\n",
       "      throw err;\n",
       "    }\n",
       "\n",
       "    function displayChart(vegaEmbed) {\n",
       "      vegaEmbed(outputDiv, spec, embedOpt)\n",
       "        .catch(err => showError(`Javascript Error: ${err.message}<br>This usually means there's a typo in your chart specification. See the javascript console for the full traceback.`));\n",
       "    }\n",
       "\n",
       "    if(typeof define === \"function\" && define.amd) {\n",
       "      requirejs.config({paths});\n",
       "      require([\"vega-embed\"], displayChart, err => showError(`Error loading script: ${err.message}`));\n",
       "    } else if (typeof vegaEmbed === \"function\") {\n",
       "      displayChart(vegaEmbed);\n",
       "    } else {\n",
       "      loadScript(\"vega\")\n",
       "        .then(() => loadScript(\"vega-lite\"))\n",
       "        .then(() => loadScript(\"vega-embed\"))\n",
       "        .catch(showError)\n",
       "        .then(() => displayChart(vegaEmbed));\n",
       "    }\n",
       "  })({\"config\": {\"view\": {\"continuousWidth\": 400, \"continuousHeight\": 300}}, \"data\": {\"name\": \"data-3d23a3381c61efd5a9c7a8abc82c6d65\"}, \"mark\": \"point\", \"encoding\": {\"color\": {\"type\": \"nominal\", \"field\": \"Series\"}, \"x\": {\"type\": \"quantitative\", \"field\": \"X\"}, \"y\": {\"type\": \"quantitative\", \"field\": \"Y\"}}, \"$schema\": \"https://vega.github.io/schema/vega-lite/v4.8.1.json\", \"datasets\": {\"data-3d23a3381c61efd5a9c7a8abc82c6d65\": [{\"Series\": \"I\", \"X\": 10, \"Y\": 8.04}, {\"Series\": \"I\", \"X\": 8, \"Y\": 6.95}, {\"Series\": \"I\", \"X\": 13, \"Y\": 7.58}, {\"Series\": \"I\", \"X\": 9, \"Y\": 8.81}, {\"Series\": \"I\", \"X\": 11, \"Y\": 8.33}, {\"Series\": \"I\", \"X\": 14, \"Y\": 9.96}, {\"Series\": \"I\", \"X\": 6, \"Y\": 7.24}, {\"Series\": \"I\", \"X\": 4, \"Y\": 4.26}, {\"Series\": \"I\", \"X\": 12, \"Y\": 10.84}, {\"Series\": \"I\", \"X\": 7, \"Y\": 4.8100000000000005}, {\"Series\": \"I\", \"X\": 5, \"Y\": 5.68}, {\"Series\": \"II\", \"X\": 10, \"Y\": 9.14}, {\"Series\": \"II\", \"X\": 8, \"Y\": 8.14}, {\"Series\": \"II\", \"X\": 13, \"Y\": 8.74}, {\"Series\": \"II\", \"X\": 9, \"Y\": 8.77}, {\"Series\": \"II\", \"X\": 11, \"Y\": 9.26}, {\"Series\": \"II\", \"X\": 14, \"Y\": 8.1}, {\"Series\": \"II\", \"X\": 6, \"Y\": 6.13}, {\"Series\": \"II\", \"X\": 4, \"Y\": 3.1}, {\"Series\": \"II\", \"X\": 12, \"Y\": 9.13}, {\"Series\": \"II\", \"X\": 7, \"Y\": 7.26}, {\"Series\": \"II\", \"X\": 5, \"Y\": 4.74}, {\"Series\": \"III\", \"X\": 10, \"Y\": 7.46}, {\"Series\": \"III\", \"X\": 8, \"Y\": 6.77}, {\"Series\": \"III\", \"X\": 13, \"Y\": 12.74}, {\"Series\": \"III\", \"X\": 9, \"Y\": 7.11}, {\"Series\": \"III\", \"X\": 11, \"Y\": 7.8100000000000005}, {\"Series\": \"III\", \"X\": 14, \"Y\": 8.84}, {\"Series\": \"III\", \"X\": 6, \"Y\": 6.08}, {\"Series\": \"III\", \"X\": 4, \"Y\": 5.39}, {\"Series\": \"III\", \"X\": 12, \"Y\": 8.15}, {\"Series\": \"III\", \"X\": 7, \"Y\": 6.42}, {\"Series\": \"III\", \"X\": 5, \"Y\": 5.73}, {\"Series\": \"IV\", \"X\": 8, \"Y\": 6.58}, {\"Series\": \"IV\", \"X\": 8, \"Y\": 5.76}, {\"Series\": \"IV\", \"X\": 8, \"Y\": 7.71}, {\"Series\": \"IV\", \"X\": 8, \"Y\": 8.84}, {\"Series\": \"IV\", \"X\": 8, \"Y\": 8.47}, {\"Series\": \"IV\", \"X\": 8, \"Y\": 7.04}, {\"Series\": \"IV\", \"X\": 8, \"Y\": 5.25}, {\"Series\": \"IV\", \"X\": 19, \"Y\": 12.5}, {\"Series\": \"IV\", \"X\": 8, \"Y\": 5.5600000000000005}, {\"Series\": \"IV\", \"X\": 8, \"Y\": 7.91}, {\"Series\": \"IV\", \"X\": 8, \"Y\": 6.89}]}}, {\"mode\": \"vega-lite\"});\n",
       "</script>"
      ],
      "text/plain": [
       "alt.Chart(...)"
      ]
     },
     "execution_count": 9,
     "metadata": {},
     "output_type": "execute_result"
    }
   ],
   "source": [
    "alt.Chart(dataset).mark_point().encode(\n",
    "    x='X',\n",
    "    y='Y',\n",
    "    color=\"Series\"\n",
    ")"
   ]
  },
  {
   "cell_type": "markdown",
   "id": "d43b71b3-354f-4f47-a262-39e383976e5f",
   "metadata": {},
   "source": [
    "## Mark Circle\n",
    "<font color =\"firebrick\"> ##Prueba"
   ]
  },
  {
   "cell_type": "code",
   "execution_count": 51,
   "id": "c9fa7be1-6deb-4242-b357-64d91da6c4f9",
   "metadata": {},
   "outputs": [
    {
     "data": {
      "text/html": [
       "\n",
       "<div id=\"altair-viz-92098dd3e09847bbbc560d9e01947d11\"></div>\n",
       "<script type=\"text/javascript\">\n",
       "  (function(spec, embedOpt){\n",
       "    let outputDiv = document.currentScript.previousElementSibling;\n",
       "    if (outputDiv.id !== \"altair-viz-92098dd3e09847bbbc560d9e01947d11\") {\n",
       "      outputDiv = document.getElementById(\"altair-viz-92098dd3e09847bbbc560d9e01947d11\");\n",
       "    }\n",
       "    const paths = {\n",
       "      \"vega\": \"https://cdn.jsdelivr.net/npm//vega@5?noext\",\n",
       "      \"vega-lib\": \"https://cdn.jsdelivr.net/npm//vega-lib?noext\",\n",
       "      \"vega-lite\": \"https://cdn.jsdelivr.net/npm//vega-lite@4.8.1?noext\",\n",
       "      \"vega-embed\": \"https://cdn.jsdelivr.net/npm//vega-embed@6?noext\",\n",
       "    };\n",
       "\n",
       "    function loadScript(lib) {\n",
       "      return new Promise(function(resolve, reject) {\n",
       "        var s = document.createElement('script');\n",
       "        s.src = paths[lib];\n",
       "        s.async = true;\n",
       "        s.onload = () => resolve(paths[lib]);\n",
       "        s.onerror = () => reject(`Error loading script: ${paths[lib]}`);\n",
       "        document.getElementsByTagName(\"head\")[0].appendChild(s);\n",
       "      });\n",
       "    }\n",
       "\n",
       "    function showError(err) {\n",
       "      outputDiv.innerHTML = `<div class=\"error\" style=\"color:red;\">${err}</div>`;\n",
       "      throw err;\n",
       "    }\n",
       "\n",
       "    function displayChart(vegaEmbed) {\n",
       "      vegaEmbed(outputDiv, spec, embedOpt)\n",
       "        .catch(err => showError(`Javascript Error: ${err.message}<br>This usually means there's a typo in your chart specification. See the javascript console for the full traceback.`));\n",
       "    }\n",
       "\n",
       "    if(typeof define === \"function\" && define.amd) {\n",
       "      requirejs.config({paths});\n",
       "      require([\"vega-embed\"], displayChart, err => showError(`Error loading script: ${err.message}`));\n",
       "    } else if (typeof vegaEmbed === \"function\") {\n",
       "      displayChart(vegaEmbed);\n",
       "    } else {\n",
       "      loadScript(\"vega\")\n",
       "        .then(() => loadScript(\"vega-lite\"))\n",
       "        .then(() => loadScript(\"vega-embed\"))\n",
       "        .catch(showError)\n",
       "        .then(() => displayChart(vegaEmbed));\n",
       "    }\n",
       "  })({\"config\": {\"view\": {\"continuousWidth\": 400, \"continuousHeight\": 300}}, \"data\": {\"name\": \"data-3d23a3381c61efd5a9c7a8abc82c6d65\"}, \"mark\": \"circle\", \"$schema\": \"https://vega.github.io/schema/vega-lite/v4.8.1.json\", \"datasets\": {\"data-3d23a3381c61efd5a9c7a8abc82c6d65\": [{\"Series\": \"I\", \"X\": 10, \"Y\": 8.04}, {\"Series\": \"I\", \"X\": 8, \"Y\": 6.95}, {\"Series\": \"I\", \"X\": 13, \"Y\": 7.58}, {\"Series\": \"I\", \"X\": 9, \"Y\": 8.81}, {\"Series\": \"I\", \"X\": 11, \"Y\": 8.33}, {\"Series\": \"I\", \"X\": 14, \"Y\": 9.96}, {\"Series\": \"I\", \"X\": 6, \"Y\": 7.24}, {\"Series\": \"I\", \"X\": 4, \"Y\": 4.26}, {\"Series\": \"I\", \"X\": 12, \"Y\": 10.84}, {\"Series\": \"I\", \"X\": 7, \"Y\": 4.8100000000000005}, {\"Series\": \"I\", \"X\": 5, \"Y\": 5.68}, {\"Series\": \"II\", \"X\": 10, \"Y\": 9.14}, {\"Series\": \"II\", \"X\": 8, \"Y\": 8.14}, {\"Series\": \"II\", \"X\": 13, \"Y\": 8.74}, {\"Series\": \"II\", \"X\": 9, \"Y\": 8.77}, {\"Series\": \"II\", \"X\": 11, \"Y\": 9.26}, {\"Series\": \"II\", \"X\": 14, \"Y\": 8.1}, {\"Series\": \"II\", \"X\": 6, \"Y\": 6.13}, {\"Series\": \"II\", \"X\": 4, \"Y\": 3.1}, {\"Series\": \"II\", \"X\": 12, \"Y\": 9.13}, {\"Series\": \"II\", \"X\": 7, \"Y\": 7.26}, {\"Series\": \"II\", \"X\": 5, \"Y\": 4.74}, {\"Series\": \"III\", \"X\": 10, \"Y\": 7.46}, {\"Series\": \"III\", \"X\": 8, \"Y\": 6.77}, {\"Series\": \"III\", \"X\": 13, \"Y\": 12.74}, {\"Series\": \"III\", \"X\": 9, \"Y\": 7.11}, {\"Series\": \"III\", \"X\": 11, \"Y\": 7.8100000000000005}, {\"Series\": \"III\", \"X\": 14, \"Y\": 8.84}, {\"Series\": \"III\", \"X\": 6, \"Y\": 6.08}, {\"Series\": \"III\", \"X\": 4, \"Y\": 5.39}, {\"Series\": \"III\", \"X\": 12, \"Y\": 8.15}, {\"Series\": \"III\", \"X\": 7, \"Y\": 6.42}, {\"Series\": \"III\", \"X\": 5, \"Y\": 5.73}, {\"Series\": \"IV\", \"X\": 8, \"Y\": 6.58}, {\"Series\": \"IV\", \"X\": 8, \"Y\": 5.76}, {\"Series\": \"IV\", \"X\": 8, \"Y\": 7.71}, {\"Series\": \"IV\", \"X\": 8, \"Y\": 8.84}, {\"Series\": \"IV\", \"X\": 8, \"Y\": 8.47}, {\"Series\": \"IV\", \"X\": 8, \"Y\": 7.04}, {\"Series\": \"IV\", \"X\": 8, \"Y\": 5.25}, {\"Series\": \"IV\", \"X\": 19, \"Y\": 12.5}, {\"Series\": \"IV\", \"X\": 8, \"Y\": 5.5600000000000005}, {\"Series\": \"IV\", \"X\": 8, \"Y\": 7.91}, {\"Series\": \"IV\", \"X\": 8, \"Y\": 6.89}]}}, {\"mode\": \"vega-lite\"});\n",
       "</script>"
      ],
      "text/plain": [
       "alt.Chart(...)"
      ]
     },
     "execution_count": 51,
     "metadata": {},
     "output_type": "execute_result"
    }
   ],
   "source": [
    "alt.Chart(dataset).mark_circle()"
   ]
  },
  {
   "cell_type": "code",
   "execution_count": 52,
   "id": "30940d15-6030-4abc-b468-53355dc42d57",
   "metadata": {},
   "outputs": [
    {
     "data": {
      "text/html": [
       "\n",
       "<div id=\"altair-viz-77914dc7e609466aa93cb211f140afd4\"></div>\n",
       "<script type=\"text/javascript\">\n",
       "  (function(spec, embedOpt){\n",
       "    let outputDiv = document.currentScript.previousElementSibling;\n",
       "    if (outputDiv.id !== \"altair-viz-77914dc7e609466aa93cb211f140afd4\") {\n",
       "      outputDiv = document.getElementById(\"altair-viz-77914dc7e609466aa93cb211f140afd4\");\n",
       "    }\n",
       "    const paths = {\n",
       "      \"vega\": \"https://cdn.jsdelivr.net/npm//vega@5?noext\",\n",
       "      \"vega-lib\": \"https://cdn.jsdelivr.net/npm//vega-lib?noext\",\n",
       "      \"vega-lite\": \"https://cdn.jsdelivr.net/npm//vega-lite@4.8.1?noext\",\n",
       "      \"vega-embed\": \"https://cdn.jsdelivr.net/npm//vega-embed@6?noext\",\n",
       "    };\n",
       "\n",
       "    function loadScript(lib) {\n",
       "      return new Promise(function(resolve, reject) {\n",
       "        var s = document.createElement('script');\n",
       "        s.src = paths[lib];\n",
       "        s.async = true;\n",
       "        s.onload = () => resolve(paths[lib]);\n",
       "        s.onerror = () => reject(`Error loading script: ${paths[lib]}`);\n",
       "        document.getElementsByTagName(\"head\")[0].appendChild(s);\n",
       "      });\n",
       "    }\n",
       "\n",
       "    function showError(err) {\n",
       "      outputDiv.innerHTML = `<div class=\"error\" style=\"color:red;\">${err}</div>`;\n",
       "      throw err;\n",
       "    }\n",
       "\n",
       "    function displayChart(vegaEmbed) {\n",
       "      vegaEmbed(outputDiv, spec, embedOpt)\n",
       "        .catch(err => showError(`Javascript Error: ${err.message}<br>This usually means there's a typo in your chart specification. See the javascript console for the full traceback.`));\n",
       "    }\n",
       "\n",
       "    if(typeof define === \"function\" && define.amd) {\n",
       "      requirejs.config({paths});\n",
       "      require([\"vega-embed\"], displayChart, err => showError(`Error loading script: ${err.message}`));\n",
       "    } else if (typeof vegaEmbed === \"function\") {\n",
       "      displayChart(vegaEmbed);\n",
       "    } else {\n",
       "      loadScript(\"vega\")\n",
       "        .then(() => loadScript(\"vega-lite\"))\n",
       "        .then(() => loadScript(\"vega-embed\"))\n",
       "        .catch(showError)\n",
       "        .then(() => displayChart(vegaEmbed));\n",
       "    }\n",
       "  })({\"config\": {\"view\": {\"continuousWidth\": 400, \"continuousHeight\": 300}}, \"data\": {\"name\": \"data-3d23a3381c61efd5a9c7a8abc82c6d65\"}, \"mark\": \"circle\", \"encoding\": {\"x\": {\"type\": \"quantitative\", \"field\": \"X\"}}, \"$schema\": \"https://vega.github.io/schema/vega-lite/v4.8.1.json\", \"datasets\": {\"data-3d23a3381c61efd5a9c7a8abc82c6d65\": [{\"Series\": \"I\", \"X\": 10, \"Y\": 8.04}, {\"Series\": \"I\", \"X\": 8, \"Y\": 6.95}, {\"Series\": \"I\", \"X\": 13, \"Y\": 7.58}, {\"Series\": \"I\", \"X\": 9, \"Y\": 8.81}, {\"Series\": \"I\", \"X\": 11, \"Y\": 8.33}, {\"Series\": \"I\", \"X\": 14, \"Y\": 9.96}, {\"Series\": \"I\", \"X\": 6, \"Y\": 7.24}, {\"Series\": \"I\", \"X\": 4, \"Y\": 4.26}, {\"Series\": \"I\", \"X\": 12, \"Y\": 10.84}, {\"Series\": \"I\", \"X\": 7, \"Y\": 4.8100000000000005}, {\"Series\": \"I\", \"X\": 5, \"Y\": 5.68}, {\"Series\": \"II\", \"X\": 10, \"Y\": 9.14}, {\"Series\": \"II\", \"X\": 8, \"Y\": 8.14}, {\"Series\": \"II\", \"X\": 13, \"Y\": 8.74}, {\"Series\": \"II\", \"X\": 9, \"Y\": 8.77}, {\"Series\": \"II\", \"X\": 11, \"Y\": 9.26}, {\"Series\": \"II\", \"X\": 14, \"Y\": 8.1}, {\"Series\": \"II\", \"X\": 6, \"Y\": 6.13}, {\"Series\": \"II\", \"X\": 4, \"Y\": 3.1}, {\"Series\": \"II\", \"X\": 12, \"Y\": 9.13}, {\"Series\": \"II\", \"X\": 7, \"Y\": 7.26}, {\"Series\": \"II\", \"X\": 5, \"Y\": 4.74}, {\"Series\": \"III\", \"X\": 10, \"Y\": 7.46}, {\"Series\": \"III\", \"X\": 8, \"Y\": 6.77}, {\"Series\": \"III\", \"X\": 13, \"Y\": 12.74}, {\"Series\": \"III\", \"X\": 9, \"Y\": 7.11}, {\"Series\": \"III\", \"X\": 11, \"Y\": 7.8100000000000005}, {\"Series\": \"III\", \"X\": 14, \"Y\": 8.84}, {\"Series\": \"III\", \"X\": 6, \"Y\": 6.08}, {\"Series\": \"III\", \"X\": 4, \"Y\": 5.39}, {\"Series\": \"III\", \"X\": 12, \"Y\": 8.15}, {\"Series\": \"III\", \"X\": 7, \"Y\": 6.42}, {\"Series\": \"III\", \"X\": 5, \"Y\": 5.73}, {\"Series\": \"IV\", \"X\": 8, \"Y\": 6.58}, {\"Series\": \"IV\", \"X\": 8, \"Y\": 5.76}, {\"Series\": \"IV\", \"X\": 8, \"Y\": 7.71}, {\"Series\": \"IV\", \"X\": 8, \"Y\": 8.84}, {\"Series\": \"IV\", \"X\": 8, \"Y\": 8.47}, {\"Series\": \"IV\", \"X\": 8, \"Y\": 7.04}, {\"Series\": \"IV\", \"X\": 8, \"Y\": 5.25}, {\"Series\": \"IV\", \"X\": 19, \"Y\": 12.5}, {\"Series\": \"IV\", \"X\": 8, \"Y\": 5.5600000000000005}, {\"Series\": \"IV\", \"X\": 8, \"Y\": 7.91}, {\"Series\": \"IV\", \"X\": 8, \"Y\": 6.89}]}}, {\"mode\": \"vega-lite\"});\n",
       "</script>"
      ],
      "text/plain": [
       "alt.Chart(...)"
      ]
     },
     "execution_count": 52,
     "metadata": {},
     "output_type": "execute_result"
    }
   ],
   "source": [
    "alt.Chart(dataset).mark_circle().encode(\n",
    "    x=\"X\"\n",
    ")"
   ]
  },
  {
   "cell_type": "code",
   "execution_count": 53,
   "id": "2d91729c-6951-49d0-82a3-37b90cec6780",
   "metadata": {},
   "outputs": [
    {
     "data": {
      "text/html": [
       "\n",
       "<div id=\"altair-viz-f19215dd8c9541a4af976a9527803ea5\"></div>\n",
       "<script type=\"text/javascript\">\n",
       "  (function(spec, embedOpt){\n",
       "    let outputDiv = document.currentScript.previousElementSibling;\n",
       "    if (outputDiv.id !== \"altair-viz-f19215dd8c9541a4af976a9527803ea5\") {\n",
       "      outputDiv = document.getElementById(\"altair-viz-f19215dd8c9541a4af976a9527803ea5\");\n",
       "    }\n",
       "    const paths = {\n",
       "      \"vega\": \"https://cdn.jsdelivr.net/npm//vega@5?noext\",\n",
       "      \"vega-lib\": \"https://cdn.jsdelivr.net/npm//vega-lib?noext\",\n",
       "      \"vega-lite\": \"https://cdn.jsdelivr.net/npm//vega-lite@4.8.1?noext\",\n",
       "      \"vega-embed\": \"https://cdn.jsdelivr.net/npm//vega-embed@6?noext\",\n",
       "    };\n",
       "\n",
       "    function loadScript(lib) {\n",
       "      return new Promise(function(resolve, reject) {\n",
       "        var s = document.createElement('script');\n",
       "        s.src = paths[lib];\n",
       "        s.async = true;\n",
       "        s.onload = () => resolve(paths[lib]);\n",
       "        s.onerror = () => reject(`Error loading script: ${paths[lib]}`);\n",
       "        document.getElementsByTagName(\"head\")[0].appendChild(s);\n",
       "      });\n",
       "    }\n",
       "\n",
       "    function showError(err) {\n",
       "      outputDiv.innerHTML = `<div class=\"error\" style=\"color:red;\">${err}</div>`;\n",
       "      throw err;\n",
       "    }\n",
       "\n",
       "    function displayChart(vegaEmbed) {\n",
       "      vegaEmbed(outputDiv, spec, embedOpt)\n",
       "        .catch(err => showError(`Javascript Error: ${err.message}<br>This usually means there's a typo in your chart specification. See the javascript console for the full traceback.`));\n",
       "    }\n",
       "\n",
       "    if(typeof define === \"function\" && define.amd) {\n",
       "      requirejs.config({paths});\n",
       "      require([\"vega-embed\"], displayChart, err => showError(`Error loading script: ${err.message}`));\n",
       "    } else if (typeof vegaEmbed === \"function\") {\n",
       "      displayChart(vegaEmbed);\n",
       "    } else {\n",
       "      loadScript(\"vega\")\n",
       "        .then(() => loadScript(\"vega-lite\"))\n",
       "        .then(() => loadScript(\"vega-embed\"))\n",
       "        .catch(showError)\n",
       "        .then(() => displayChart(vegaEmbed));\n",
       "    }\n",
       "  })({\"config\": {\"view\": {\"continuousWidth\": 400, \"continuousHeight\": 300}}, \"data\": {\"name\": \"data-3d23a3381c61efd5a9c7a8abc82c6d65\"}, \"mark\": \"circle\", \"encoding\": {\"x\": {\"type\": \"quantitative\", \"field\": \"X\"}, \"y\": {\"type\": \"quantitative\", \"field\": \"Y\"}}, \"$schema\": \"https://vega.github.io/schema/vega-lite/v4.8.1.json\", \"datasets\": {\"data-3d23a3381c61efd5a9c7a8abc82c6d65\": [{\"Series\": \"I\", \"X\": 10, \"Y\": 8.04}, {\"Series\": \"I\", \"X\": 8, \"Y\": 6.95}, {\"Series\": \"I\", \"X\": 13, \"Y\": 7.58}, {\"Series\": \"I\", \"X\": 9, \"Y\": 8.81}, {\"Series\": \"I\", \"X\": 11, \"Y\": 8.33}, {\"Series\": \"I\", \"X\": 14, \"Y\": 9.96}, {\"Series\": \"I\", \"X\": 6, \"Y\": 7.24}, {\"Series\": \"I\", \"X\": 4, \"Y\": 4.26}, {\"Series\": \"I\", \"X\": 12, \"Y\": 10.84}, {\"Series\": \"I\", \"X\": 7, \"Y\": 4.8100000000000005}, {\"Series\": \"I\", \"X\": 5, \"Y\": 5.68}, {\"Series\": \"II\", \"X\": 10, \"Y\": 9.14}, {\"Series\": \"II\", \"X\": 8, \"Y\": 8.14}, {\"Series\": \"II\", \"X\": 13, \"Y\": 8.74}, {\"Series\": \"II\", \"X\": 9, \"Y\": 8.77}, {\"Series\": \"II\", \"X\": 11, \"Y\": 9.26}, {\"Series\": \"II\", \"X\": 14, \"Y\": 8.1}, {\"Series\": \"II\", \"X\": 6, \"Y\": 6.13}, {\"Series\": \"II\", \"X\": 4, \"Y\": 3.1}, {\"Series\": \"II\", \"X\": 12, \"Y\": 9.13}, {\"Series\": \"II\", \"X\": 7, \"Y\": 7.26}, {\"Series\": \"II\", \"X\": 5, \"Y\": 4.74}, {\"Series\": \"III\", \"X\": 10, \"Y\": 7.46}, {\"Series\": \"III\", \"X\": 8, \"Y\": 6.77}, {\"Series\": \"III\", \"X\": 13, \"Y\": 12.74}, {\"Series\": \"III\", \"X\": 9, \"Y\": 7.11}, {\"Series\": \"III\", \"X\": 11, \"Y\": 7.8100000000000005}, {\"Series\": \"III\", \"X\": 14, \"Y\": 8.84}, {\"Series\": \"III\", \"X\": 6, \"Y\": 6.08}, {\"Series\": \"III\", \"X\": 4, \"Y\": 5.39}, {\"Series\": \"III\", \"X\": 12, \"Y\": 8.15}, {\"Series\": \"III\", \"X\": 7, \"Y\": 6.42}, {\"Series\": \"III\", \"X\": 5, \"Y\": 5.73}, {\"Series\": \"IV\", \"X\": 8, \"Y\": 6.58}, {\"Series\": \"IV\", \"X\": 8, \"Y\": 5.76}, {\"Series\": \"IV\", \"X\": 8, \"Y\": 7.71}, {\"Series\": \"IV\", \"X\": 8, \"Y\": 8.84}, {\"Series\": \"IV\", \"X\": 8, \"Y\": 8.47}, {\"Series\": \"IV\", \"X\": 8, \"Y\": 7.04}, {\"Series\": \"IV\", \"X\": 8, \"Y\": 5.25}, {\"Series\": \"IV\", \"X\": 19, \"Y\": 12.5}, {\"Series\": \"IV\", \"X\": 8, \"Y\": 5.5600000000000005}, {\"Series\": \"IV\", \"X\": 8, \"Y\": 7.91}, {\"Series\": \"IV\", \"X\": 8, \"Y\": 6.89}]}}, {\"mode\": \"vega-lite\"});\n",
       "</script>"
      ],
      "text/plain": [
       "alt.Chart(...)"
      ]
     },
     "execution_count": 53,
     "metadata": {},
     "output_type": "execute_result"
    }
   ],
   "source": [
    "alt.Chart(dataset).mark_circle().encode(\n",
    "    x='X',\n",
    "    y='Y'\n",
    ")"
   ]
  },
  {
   "cell_type": "markdown",
   "id": "e00344dc-3d73-49d1-a677-10005aac4d68",
   "metadata": {},
   "source": [
    "## Mark Ticks"
   ]
  },
  {
   "cell_type": "code",
   "execution_count": 67,
   "id": "0823d7ed-74e0-4bbe-8a8a-6ee6c0442626",
   "metadata": {},
   "outputs": [
    {
     "data": {
      "text/html": [
       "\n",
       "<div id=\"altair-viz-accdf16d37ae4eefb5e32c1d21954086\"></div>\n",
       "<script type=\"text/javascript\">\n",
       "  (function(spec, embedOpt){\n",
       "    let outputDiv = document.currentScript.previousElementSibling;\n",
       "    if (outputDiv.id !== \"altair-viz-accdf16d37ae4eefb5e32c1d21954086\") {\n",
       "      outputDiv = document.getElementById(\"altair-viz-accdf16d37ae4eefb5e32c1d21954086\");\n",
       "    }\n",
       "    const paths = {\n",
       "      \"vega\": \"https://cdn.jsdelivr.net/npm//vega@5?noext\",\n",
       "      \"vega-lib\": \"https://cdn.jsdelivr.net/npm//vega-lib?noext\",\n",
       "      \"vega-lite\": \"https://cdn.jsdelivr.net/npm//vega-lite@4.8.1?noext\",\n",
       "      \"vega-embed\": \"https://cdn.jsdelivr.net/npm//vega-embed@6?noext\",\n",
       "    };\n",
       "\n",
       "    function loadScript(lib) {\n",
       "      return new Promise(function(resolve, reject) {\n",
       "        var s = document.createElement('script');\n",
       "        s.src = paths[lib];\n",
       "        s.async = true;\n",
       "        s.onload = () => resolve(paths[lib]);\n",
       "        s.onerror = () => reject(`Error loading script: ${paths[lib]}`);\n",
       "        document.getElementsByTagName(\"head\")[0].appendChild(s);\n",
       "      });\n",
       "    }\n",
       "\n",
       "    function showError(err) {\n",
       "      outputDiv.innerHTML = `<div class=\"error\" style=\"color:red;\">${err}</div>`;\n",
       "      throw err;\n",
       "    }\n",
       "\n",
       "    function displayChart(vegaEmbed) {\n",
       "      vegaEmbed(outputDiv, spec, embedOpt)\n",
       "        .catch(err => showError(`Javascript Error: ${err.message}<br>This usually means there's a typo in your chart specification. See the javascript console for the full traceback.`));\n",
       "    }\n",
       "\n",
       "    if(typeof define === \"function\" && define.amd) {\n",
       "      requirejs.config({paths});\n",
       "      require([\"vega-embed\"], displayChart, err => showError(`Error loading script: ${err.message}`));\n",
       "    } else if (typeof vegaEmbed === \"function\") {\n",
       "      displayChart(vegaEmbed);\n",
       "    } else {\n",
       "      loadScript(\"vega\")\n",
       "        .then(() => loadScript(\"vega-lite\"))\n",
       "        .then(() => loadScript(\"vega-embed\"))\n",
       "        .catch(showError)\n",
       "        .then(() => displayChart(vegaEmbed));\n",
       "    }\n",
       "  })({\"config\": {\"view\": {\"continuousWidth\": 400, \"continuousHeight\": 300}}, \"data\": {\"name\": \"data-3d23a3381c61efd5a9c7a8abc82c6d65\"}, \"mark\": \"tick\", \"$schema\": \"https://vega.github.io/schema/vega-lite/v4.8.1.json\", \"datasets\": {\"data-3d23a3381c61efd5a9c7a8abc82c6d65\": [{\"Series\": \"I\", \"X\": 10, \"Y\": 8.04}, {\"Series\": \"I\", \"X\": 8, \"Y\": 6.95}, {\"Series\": \"I\", \"X\": 13, \"Y\": 7.58}, {\"Series\": \"I\", \"X\": 9, \"Y\": 8.81}, {\"Series\": \"I\", \"X\": 11, \"Y\": 8.33}, {\"Series\": \"I\", \"X\": 14, \"Y\": 9.96}, {\"Series\": \"I\", \"X\": 6, \"Y\": 7.24}, {\"Series\": \"I\", \"X\": 4, \"Y\": 4.26}, {\"Series\": \"I\", \"X\": 12, \"Y\": 10.84}, {\"Series\": \"I\", \"X\": 7, \"Y\": 4.8100000000000005}, {\"Series\": \"I\", \"X\": 5, \"Y\": 5.68}, {\"Series\": \"II\", \"X\": 10, \"Y\": 9.14}, {\"Series\": \"II\", \"X\": 8, \"Y\": 8.14}, {\"Series\": \"II\", \"X\": 13, \"Y\": 8.74}, {\"Series\": \"II\", \"X\": 9, \"Y\": 8.77}, {\"Series\": \"II\", \"X\": 11, \"Y\": 9.26}, {\"Series\": \"II\", \"X\": 14, \"Y\": 8.1}, {\"Series\": \"II\", \"X\": 6, \"Y\": 6.13}, {\"Series\": \"II\", \"X\": 4, \"Y\": 3.1}, {\"Series\": \"II\", \"X\": 12, \"Y\": 9.13}, {\"Series\": \"II\", \"X\": 7, \"Y\": 7.26}, {\"Series\": \"II\", \"X\": 5, \"Y\": 4.74}, {\"Series\": \"III\", \"X\": 10, \"Y\": 7.46}, {\"Series\": \"III\", \"X\": 8, \"Y\": 6.77}, {\"Series\": \"III\", \"X\": 13, \"Y\": 12.74}, {\"Series\": \"III\", \"X\": 9, \"Y\": 7.11}, {\"Series\": \"III\", \"X\": 11, \"Y\": 7.8100000000000005}, {\"Series\": \"III\", \"X\": 14, \"Y\": 8.84}, {\"Series\": \"III\", \"X\": 6, \"Y\": 6.08}, {\"Series\": \"III\", \"X\": 4, \"Y\": 5.39}, {\"Series\": \"III\", \"X\": 12, \"Y\": 8.15}, {\"Series\": \"III\", \"X\": 7, \"Y\": 6.42}, {\"Series\": \"III\", \"X\": 5, \"Y\": 5.73}, {\"Series\": \"IV\", \"X\": 8, \"Y\": 6.58}, {\"Series\": \"IV\", \"X\": 8, \"Y\": 5.76}, {\"Series\": \"IV\", \"X\": 8, \"Y\": 7.71}, {\"Series\": \"IV\", \"X\": 8, \"Y\": 8.84}, {\"Series\": \"IV\", \"X\": 8, \"Y\": 8.47}, {\"Series\": \"IV\", \"X\": 8, \"Y\": 7.04}, {\"Series\": \"IV\", \"X\": 8, \"Y\": 5.25}, {\"Series\": \"IV\", \"X\": 19, \"Y\": 12.5}, {\"Series\": \"IV\", \"X\": 8, \"Y\": 5.5600000000000005}, {\"Series\": \"IV\", \"X\": 8, \"Y\": 7.91}, {\"Series\": \"IV\", \"X\": 8, \"Y\": 6.89}]}}, {\"mode\": \"vega-lite\"});\n",
       "</script>"
      ],
      "text/plain": [
       "alt.Chart(...)"
      ]
     },
     "execution_count": 67,
     "metadata": {},
     "output_type": "execute_result"
    }
   ],
   "source": [
    "alt.Chart(dataset).mark_tick()"
   ]
  },
  {
   "cell_type": "code",
   "execution_count": 72,
   "id": "3f7b275d-768a-4571-aada-ef0cfbbd91ea",
   "metadata": {},
   "outputs": [
    {
     "data": {
      "text/html": [
       "\n",
       "<div id=\"altair-viz-edcedab5a90a419781b1bd1af49932f4\"></div>\n",
       "<script type=\"text/javascript\">\n",
       "  (function(spec, embedOpt){\n",
       "    let outputDiv = document.currentScript.previousElementSibling;\n",
       "    if (outputDiv.id !== \"altair-viz-edcedab5a90a419781b1bd1af49932f4\") {\n",
       "      outputDiv = document.getElementById(\"altair-viz-edcedab5a90a419781b1bd1af49932f4\");\n",
       "    }\n",
       "    const paths = {\n",
       "      \"vega\": \"https://cdn.jsdelivr.net/npm//vega@5?noext\",\n",
       "      \"vega-lib\": \"https://cdn.jsdelivr.net/npm//vega-lib?noext\",\n",
       "      \"vega-lite\": \"https://cdn.jsdelivr.net/npm//vega-lite@4.8.1?noext\",\n",
       "      \"vega-embed\": \"https://cdn.jsdelivr.net/npm//vega-embed@6?noext\",\n",
       "    };\n",
       "\n",
       "    function loadScript(lib) {\n",
       "      return new Promise(function(resolve, reject) {\n",
       "        var s = document.createElement('script');\n",
       "        s.src = paths[lib];\n",
       "        s.async = true;\n",
       "        s.onload = () => resolve(paths[lib]);\n",
       "        s.onerror = () => reject(`Error loading script: ${paths[lib]}`);\n",
       "        document.getElementsByTagName(\"head\")[0].appendChild(s);\n",
       "      });\n",
       "    }\n",
       "\n",
       "    function showError(err) {\n",
       "      outputDiv.innerHTML = `<div class=\"error\" style=\"color:red;\">${err}</div>`;\n",
       "      throw err;\n",
       "    }\n",
       "\n",
       "    function displayChart(vegaEmbed) {\n",
       "      vegaEmbed(outputDiv, spec, embedOpt)\n",
       "        .catch(err => showError(`Javascript Error: ${err.message}<br>This usually means there's a typo in your chart specification. See the javascript console for the full traceback.`));\n",
       "    }\n",
       "\n",
       "    if(typeof define === \"function\" && define.amd) {\n",
       "      requirejs.config({paths});\n",
       "      require([\"vega-embed\"], displayChart, err => showError(`Error loading script: ${err.message}`));\n",
       "    } else if (typeof vegaEmbed === \"function\") {\n",
       "      displayChart(vegaEmbed);\n",
       "    } else {\n",
       "      loadScript(\"vega\")\n",
       "        .then(() => loadScript(\"vega-lite\"))\n",
       "        .then(() => loadScript(\"vega-embed\"))\n",
       "        .catch(showError)\n",
       "        .then(() => displayChart(vegaEmbed));\n",
       "    }\n",
       "  })({\"config\": {\"view\": {\"continuousWidth\": 400, \"continuousHeight\": 300}}, \"data\": {\"name\": \"data-3d23a3381c61efd5a9c7a8abc82c6d65\"}, \"mark\": \"tick\", \"encoding\": {\"x\": {\"type\": \"quantitative\", \"field\": \"X\"}}, \"$schema\": \"https://vega.github.io/schema/vega-lite/v4.8.1.json\", \"datasets\": {\"data-3d23a3381c61efd5a9c7a8abc82c6d65\": [{\"Series\": \"I\", \"X\": 10, \"Y\": 8.04}, {\"Series\": \"I\", \"X\": 8, \"Y\": 6.95}, {\"Series\": \"I\", \"X\": 13, \"Y\": 7.58}, {\"Series\": \"I\", \"X\": 9, \"Y\": 8.81}, {\"Series\": \"I\", \"X\": 11, \"Y\": 8.33}, {\"Series\": \"I\", \"X\": 14, \"Y\": 9.96}, {\"Series\": \"I\", \"X\": 6, \"Y\": 7.24}, {\"Series\": \"I\", \"X\": 4, \"Y\": 4.26}, {\"Series\": \"I\", \"X\": 12, \"Y\": 10.84}, {\"Series\": \"I\", \"X\": 7, \"Y\": 4.8100000000000005}, {\"Series\": \"I\", \"X\": 5, \"Y\": 5.68}, {\"Series\": \"II\", \"X\": 10, \"Y\": 9.14}, {\"Series\": \"II\", \"X\": 8, \"Y\": 8.14}, {\"Series\": \"II\", \"X\": 13, \"Y\": 8.74}, {\"Series\": \"II\", \"X\": 9, \"Y\": 8.77}, {\"Series\": \"II\", \"X\": 11, \"Y\": 9.26}, {\"Series\": \"II\", \"X\": 14, \"Y\": 8.1}, {\"Series\": \"II\", \"X\": 6, \"Y\": 6.13}, {\"Series\": \"II\", \"X\": 4, \"Y\": 3.1}, {\"Series\": \"II\", \"X\": 12, \"Y\": 9.13}, {\"Series\": \"II\", \"X\": 7, \"Y\": 7.26}, {\"Series\": \"II\", \"X\": 5, \"Y\": 4.74}, {\"Series\": \"III\", \"X\": 10, \"Y\": 7.46}, {\"Series\": \"III\", \"X\": 8, \"Y\": 6.77}, {\"Series\": \"III\", \"X\": 13, \"Y\": 12.74}, {\"Series\": \"III\", \"X\": 9, \"Y\": 7.11}, {\"Series\": \"III\", \"X\": 11, \"Y\": 7.8100000000000005}, {\"Series\": \"III\", \"X\": 14, \"Y\": 8.84}, {\"Series\": \"III\", \"X\": 6, \"Y\": 6.08}, {\"Series\": \"III\", \"X\": 4, \"Y\": 5.39}, {\"Series\": \"III\", \"X\": 12, \"Y\": 8.15}, {\"Series\": \"III\", \"X\": 7, \"Y\": 6.42}, {\"Series\": \"III\", \"X\": 5, \"Y\": 5.73}, {\"Series\": \"IV\", \"X\": 8, \"Y\": 6.58}, {\"Series\": \"IV\", \"X\": 8, \"Y\": 5.76}, {\"Series\": \"IV\", \"X\": 8, \"Y\": 7.71}, {\"Series\": \"IV\", \"X\": 8, \"Y\": 8.84}, {\"Series\": \"IV\", \"X\": 8, \"Y\": 8.47}, {\"Series\": \"IV\", \"X\": 8, \"Y\": 7.04}, {\"Series\": \"IV\", \"X\": 8, \"Y\": 5.25}, {\"Series\": \"IV\", \"X\": 19, \"Y\": 12.5}, {\"Series\": \"IV\", \"X\": 8, \"Y\": 5.5600000000000005}, {\"Series\": \"IV\", \"X\": 8, \"Y\": 7.91}, {\"Series\": \"IV\", \"X\": 8, \"Y\": 6.89}]}}, {\"mode\": \"vega-lite\"});\n",
       "</script>"
      ],
      "text/plain": [
       "alt.Chart(...)"
      ]
     },
     "execution_count": 72,
     "metadata": {},
     "output_type": "execute_result"
    }
   ],
   "source": [
    "alt.Chart(dataset).mark_tick().encode(\n",
    "    x=\"X\"\n",
    ")"
   ]
  },
  {
   "cell_type": "code",
   "execution_count": 70,
   "id": "93c6544c-b05a-4de7-a4e9-fb3b0eed3464",
   "metadata": {},
   "outputs": [
    {
     "data": {
      "text/html": [
       "\n",
       "<div id=\"altair-viz-a6366f27ea2d494ea93f20685f867e32\"></div>\n",
       "<script type=\"text/javascript\">\n",
       "  (function(spec, embedOpt){\n",
       "    let outputDiv = document.currentScript.previousElementSibling;\n",
       "    if (outputDiv.id !== \"altair-viz-a6366f27ea2d494ea93f20685f867e32\") {\n",
       "      outputDiv = document.getElementById(\"altair-viz-a6366f27ea2d494ea93f20685f867e32\");\n",
       "    }\n",
       "    const paths = {\n",
       "      \"vega\": \"https://cdn.jsdelivr.net/npm//vega@5?noext\",\n",
       "      \"vega-lib\": \"https://cdn.jsdelivr.net/npm//vega-lib?noext\",\n",
       "      \"vega-lite\": \"https://cdn.jsdelivr.net/npm//vega-lite@4.8.1?noext\",\n",
       "      \"vega-embed\": \"https://cdn.jsdelivr.net/npm//vega-embed@6?noext\",\n",
       "    };\n",
       "\n",
       "    function loadScript(lib) {\n",
       "      return new Promise(function(resolve, reject) {\n",
       "        var s = document.createElement('script');\n",
       "        s.src = paths[lib];\n",
       "        s.async = true;\n",
       "        s.onload = () => resolve(paths[lib]);\n",
       "        s.onerror = () => reject(`Error loading script: ${paths[lib]}`);\n",
       "        document.getElementsByTagName(\"head\")[0].appendChild(s);\n",
       "      });\n",
       "    }\n",
       "\n",
       "    function showError(err) {\n",
       "      outputDiv.innerHTML = `<div class=\"error\" style=\"color:red;\">${err}</div>`;\n",
       "      throw err;\n",
       "    }\n",
       "\n",
       "    function displayChart(vegaEmbed) {\n",
       "      vegaEmbed(outputDiv, spec, embedOpt)\n",
       "        .catch(err => showError(`Javascript Error: ${err.message}<br>This usually means there's a typo in your chart specification. See the javascript console for the full traceback.`));\n",
       "    }\n",
       "\n",
       "    if(typeof define === \"function\" && define.amd) {\n",
       "      requirejs.config({paths});\n",
       "      require([\"vega-embed\"], displayChart, err => showError(`Error loading script: ${err.message}`));\n",
       "    } else if (typeof vegaEmbed === \"function\") {\n",
       "      displayChart(vegaEmbed);\n",
       "    } else {\n",
       "      loadScript(\"vega\")\n",
       "        .then(() => loadScript(\"vega-lite\"))\n",
       "        .then(() => loadScript(\"vega-embed\"))\n",
       "        .catch(showError)\n",
       "        .then(() => displayChart(vegaEmbed));\n",
       "    }\n",
       "  })({\"config\": {\"view\": {\"continuousWidth\": 400, \"continuousHeight\": 300}}, \"data\": {\"name\": \"data-3d23a3381c61efd5a9c7a8abc82c6d65\"}, \"mark\": \"tick\", \"encoding\": {\"x\": {\"type\": \"quantitative\", \"field\": \"X\"}, \"y\": {\"type\": \"nominal\", \"field\": \"Series\"}}, \"$schema\": \"https://vega.github.io/schema/vega-lite/v4.8.1.json\", \"datasets\": {\"data-3d23a3381c61efd5a9c7a8abc82c6d65\": [{\"Series\": \"I\", \"X\": 10, \"Y\": 8.04}, {\"Series\": \"I\", \"X\": 8, \"Y\": 6.95}, {\"Series\": \"I\", \"X\": 13, \"Y\": 7.58}, {\"Series\": \"I\", \"X\": 9, \"Y\": 8.81}, {\"Series\": \"I\", \"X\": 11, \"Y\": 8.33}, {\"Series\": \"I\", \"X\": 14, \"Y\": 9.96}, {\"Series\": \"I\", \"X\": 6, \"Y\": 7.24}, {\"Series\": \"I\", \"X\": 4, \"Y\": 4.26}, {\"Series\": \"I\", \"X\": 12, \"Y\": 10.84}, {\"Series\": \"I\", \"X\": 7, \"Y\": 4.8100000000000005}, {\"Series\": \"I\", \"X\": 5, \"Y\": 5.68}, {\"Series\": \"II\", \"X\": 10, \"Y\": 9.14}, {\"Series\": \"II\", \"X\": 8, \"Y\": 8.14}, {\"Series\": \"II\", \"X\": 13, \"Y\": 8.74}, {\"Series\": \"II\", \"X\": 9, \"Y\": 8.77}, {\"Series\": \"II\", \"X\": 11, \"Y\": 9.26}, {\"Series\": \"II\", \"X\": 14, \"Y\": 8.1}, {\"Series\": \"II\", \"X\": 6, \"Y\": 6.13}, {\"Series\": \"II\", \"X\": 4, \"Y\": 3.1}, {\"Series\": \"II\", \"X\": 12, \"Y\": 9.13}, {\"Series\": \"II\", \"X\": 7, \"Y\": 7.26}, {\"Series\": \"II\", \"X\": 5, \"Y\": 4.74}, {\"Series\": \"III\", \"X\": 10, \"Y\": 7.46}, {\"Series\": \"III\", \"X\": 8, \"Y\": 6.77}, {\"Series\": \"III\", \"X\": 13, \"Y\": 12.74}, {\"Series\": \"III\", \"X\": 9, \"Y\": 7.11}, {\"Series\": \"III\", \"X\": 11, \"Y\": 7.8100000000000005}, {\"Series\": \"III\", \"X\": 14, \"Y\": 8.84}, {\"Series\": \"III\", \"X\": 6, \"Y\": 6.08}, {\"Series\": \"III\", \"X\": 4, \"Y\": 5.39}, {\"Series\": \"III\", \"X\": 12, \"Y\": 8.15}, {\"Series\": \"III\", \"X\": 7, \"Y\": 6.42}, {\"Series\": \"III\", \"X\": 5, \"Y\": 5.73}, {\"Series\": \"IV\", \"X\": 8, \"Y\": 6.58}, {\"Series\": \"IV\", \"X\": 8, \"Y\": 5.76}, {\"Series\": \"IV\", \"X\": 8, \"Y\": 7.71}, {\"Series\": \"IV\", \"X\": 8, \"Y\": 8.84}, {\"Series\": \"IV\", \"X\": 8, \"Y\": 8.47}, {\"Series\": \"IV\", \"X\": 8, \"Y\": 7.04}, {\"Series\": \"IV\", \"X\": 8, \"Y\": 5.25}, {\"Series\": \"IV\", \"X\": 19, \"Y\": 12.5}, {\"Series\": \"IV\", \"X\": 8, \"Y\": 5.5600000000000005}, {\"Series\": \"IV\", \"X\": 8, \"Y\": 7.91}, {\"Series\": \"IV\", \"X\": 8, \"Y\": 6.89}]}}, {\"mode\": \"vega-lite\"});\n",
       "</script>"
      ],
      "text/plain": [
       "alt.Chart(...)"
      ]
     },
     "execution_count": 70,
     "metadata": {},
     "output_type": "execute_result"
    }
   ],
   "source": [
    "alt.Chart(dataset).mark_tick().encode(\n",
    "    x='X',\n",
    "    y='Series'\n",
    ")"
   ]
  },
  {
   "cell_type": "code",
   "execution_count": 75,
   "id": "f1f65ef9-9796-459e-873e-c8a0777fb7ad",
   "metadata": {},
   "outputs": [
    {
     "data": {
      "text/html": [
       "\n",
       "<div id=\"altair-viz-4cd5d1bacdc244e98b2c065bf8ddb751\"></div>\n",
       "<script type=\"text/javascript\">\n",
       "  (function(spec, embedOpt){\n",
       "    let outputDiv = document.currentScript.previousElementSibling;\n",
       "    if (outputDiv.id !== \"altair-viz-4cd5d1bacdc244e98b2c065bf8ddb751\") {\n",
       "      outputDiv = document.getElementById(\"altair-viz-4cd5d1bacdc244e98b2c065bf8ddb751\");\n",
       "    }\n",
       "    const paths = {\n",
       "      \"vega\": \"https://cdn.jsdelivr.net/npm//vega@5?noext\",\n",
       "      \"vega-lib\": \"https://cdn.jsdelivr.net/npm//vega-lib?noext\",\n",
       "      \"vega-lite\": \"https://cdn.jsdelivr.net/npm//vega-lite@4.8.1?noext\",\n",
       "      \"vega-embed\": \"https://cdn.jsdelivr.net/npm//vega-embed@6?noext\",\n",
       "    };\n",
       "\n",
       "    function loadScript(lib) {\n",
       "      return new Promise(function(resolve, reject) {\n",
       "        var s = document.createElement('script');\n",
       "        s.src = paths[lib];\n",
       "        s.async = true;\n",
       "        s.onload = () => resolve(paths[lib]);\n",
       "        s.onerror = () => reject(`Error loading script: ${paths[lib]}`);\n",
       "        document.getElementsByTagName(\"head\")[0].appendChild(s);\n",
       "      });\n",
       "    }\n",
       "\n",
       "    function showError(err) {\n",
       "      outputDiv.innerHTML = `<div class=\"error\" style=\"color:red;\">${err}</div>`;\n",
       "      throw err;\n",
       "    }\n",
       "\n",
       "    function displayChart(vegaEmbed) {\n",
       "      vegaEmbed(outputDiv, spec, embedOpt)\n",
       "        .catch(err => showError(`Javascript Error: ${err.message}<br>This usually means there's a typo in your chart specification. See the javascript console for the full traceback.`));\n",
       "    }\n",
       "\n",
       "    if(typeof define === \"function\" && define.amd) {\n",
       "      requirejs.config({paths});\n",
       "      require([\"vega-embed\"], displayChart, err => showError(`Error loading script: ${err.message}`));\n",
       "    } else if (typeof vegaEmbed === \"function\") {\n",
       "      displayChart(vegaEmbed);\n",
       "    } else {\n",
       "      loadScript(\"vega\")\n",
       "        .then(() => loadScript(\"vega-lite\"))\n",
       "        .then(() => loadScript(\"vega-embed\"))\n",
       "        .catch(showError)\n",
       "        .then(() => displayChart(vegaEmbed));\n",
       "    }\n",
       "  })({\"config\": {\"view\": {\"continuousWidth\": 400, \"continuousHeight\": 300}}, \"data\": {\"name\": \"data-3d23a3381c61efd5a9c7a8abc82c6d65\"}, \"mark\": \"tick\", \"encoding\": {\"x\": {\"type\": \"quantitative\", \"field\": \"Y\"}, \"y\": {\"type\": \"nominal\", \"field\": \"Series\"}}, \"$schema\": \"https://vega.github.io/schema/vega-lite/v4.8.1.json\", \"datasets\": {\"data-3d23a3381c61efd5a9c7a8abc82c6d65\": [{\"Series\": \"I\", \"X\": 10, \"Y\": 8.04}, {\"Series\": \"I\", \"X\": 8, \"Y\": 6.95}, {\"Series\": \"I\", \"X\": 13, \"Y\": 7.58}, {\"Series\": \"I\", \"X\": 9, \"Y\": 8.81}, {\"Series\": \"I\", \"X\": 11, \"Y\": 8.33}, {\"Series\": \"I\", \"X\": 14, \"Y\": 9.96}, {\"Series\": \"I\", \"X\": 6, \"Y\": 7.24}, {\"Series\": \"I\", \"X\": 4, \"Y\": 4.26}, {\"Series\": \"I\", \"X\": 12, \"Y\": 10.84}, {\"Series\": \"I\", \"X\": 7, \"Y\": 4.8100000000000005}, {\"Series\": \"I\", \"X\": 5, \"Y\": 5.68}, {\"Series\": \"II\", \"X\": 10, \"Y\": 9.14}, {\"Series\": \"II\", \"X\": 8, \"Y\": 8.14}, {\"Series\": \"II\", \"X\": 13, \"Y\": 8.74}, {\"Series\": \"II\", \"X\": 9, \"Y\": 8.77}, {\"Series\": \"II\", \"X\": 11, \"Y\": 9.26}, {\"Series\": \"II\", \"X\": 14, \"Y\": 8.1}, {\"Series\": \"II\", \"X\": 6, \"Y\": 6.13}, {\"Series\": \"II\", \"X\": 4, \"Y\": 3.1}, {\"Series\": \"II\", \"X\": 12, \"Y\": 9.13}, {\"Series\": \"II\", \"X\": 7, \"Y\": 7.26}, {\"Series\": \"II\", \"X\": 5, \"Y\": 4.74}, {\"Series\": \"III\", \"X\": 10, \"Y\": 7.46}, {\"Series\": \"III\", \"X\": 8, \"Y\": 6.77}, {\"Series\": \"III\", \"X\": 13, \"Y\": 12.74}, {\"Series\": \"III\", \"X\": 9, \"Y\": 7.11}, {\"Series\": \"III\", \"X\": 11, \"Y\": 7.8100000000000005}, {\"Series\": \"III\", \"X\": 14, \"Y\": 8.84}, {\"Series\": \"III\", \"X\": 6, \"Y\": 6.08}, {\"Series\": \"III\", \"X\": 4, \"Y\": 5.39}, {\"Series\": \"III\", \"X\": 12, \"Y\": 8.15}, {\"Series\": \"III\", \"X\": 7, \"Y\": 6.42}, {\"Series\": \"III\", \"X\": 5, \"Y\": 5.73}, {\"Series\": \"IV\", \"X\": 8, \"Y\": 6.58}, {\"Series\": \"IV\", \"X\": 8, \"Y\": 5.76}, {\"Series\": \"IV\", \"X\": 8, \"Y\": 7.71}, {\"Series\": \"IV\", \"X\": 8, \"Y\": 8.84}, {\"Series\": \"IV\", \"X\": 8, \"Y\": 8.47}, {\"Series\": \"IV\", \"X\": 8, \"Y\": 7.04}, {\"Series\": \"IV\", \"X\": 8, \"Y\": 5.25}, {\"Series\": \"IV\", \"X\": 19, \"Y\": 12.5}, {\"Series\": \"IV\", \"X\": 8, \"Y\": 5.5600000000000005}, {\"Series\": \"IV\", \"X\": 8, \"Y\": 7.91}, {\"Series\": \"IV\", \"X\": 8, \"Y\": 6.89}]}}, {\"mode\": \"vega-lite\"});\n",
       "</script>"
      ],
      "text/plain": [
       "alt.Chart(...)"
      ]
     },
     "execution_count": 75,
     "metadata": {},
     "output_type": "execute_result"
    }
   ],
   "source": [
    "alt.Chart(dataset).mark_tick().encode(\n",
    "    x='Y',\n",
    "    y='Series'\n",
    ")"
   ]
  },
  {
   "cell_type": "markdown",
   "id": "f10c8b9a-d979-457c-8168-bd251584382d",
   "metadata": {
    "tags": []
   },
   "source": [
    "## Mark Bar"
   ]
  },
  {
   "cell_type": "code",
   "execution_count": 76,
   "id": "8f291407-115f-4dfd-9d2f-93b2db060979",
   "metadata": {},
   "outputs": [
    {
     "data": {
      "text/html": [
       "\n",
       "<div id=\"altair-viz-354dc900189d448a9a7c8a554a9050f5\"></div>\n",
       "<script type=\"text/javascript\">\n",
       "  (function(spec, embedOpt){\n",
       "    let outputDiv = document.currentScript.previousElementSibling;\n",
       "    if (outputDiv.id !== \"altair-viz-354dc900189d448a9a7c8a554a9050f5\") {\n",
       "      outputDiv = document.getElementById(\"altair-viz-354dc900189d448a9a7c8a554a9050f5\");\n",
       "    }\n",
       "    const paths = {\n",
       "      \"vega\": \"https://cdn.jsdelivr.net/npm//vega@5?noext\",\n",
       "      \"vega-lib\": \"https://cdn.jsdelivr.net/npm//vega-lib?noext\",\n",
       "      \"vega-lite\": \"https://cdn.jsdelivr.net/npm//vega-lite@4.8.1?noext\",\n",
       "      \"vega-embed\": \"https://cdn.jsdelivr.net/npm//vega-embed@6?noext\",\n",
       "    };\n",
       "\n",
       "    function loadScript(lib) {\n",
       "      return new Promise(function(resolve, reject) {\n",
       "        var s = document.createElement('script');\n",
       "        s.src = paths[lib];\n",
       "        s.async = true;\n",
       "        s.onload = () => resolve(paths[lib]);\n",
       "        s.onerror = () => reject(`Error loading script: ${paths[lib]}`);\n",
       "        document.getElementsByTagName(\"head\")[0].appendChild(s);\n",
       "      });\n",
       "    }\n",
       "\n",
       "    function showError(err) {\n",
       "      outputDiv.innerHTML = `<div class=\"error\" style=\"color:red;\">${err}</div>`;\n",
       "      throw err;\n",
       "    }\n",
       "\n",
       "    function displayChart(vegaEmbed) {\n",
       "      vegaEmbed(outputDiv, spec, embedOpt)\n",
       "        .catch(err => showError(`Javascript Error: ${err.message}<br>This usually means there's a typo in your chart specification. See the javascript console for the full traceback.`));\n",
       "    }\n",
       "\n",
       "    if(typeof define === \"function\" && define.amd) {\n",
       "      requirejs.config({paths});\n",
       "      require([\"vega-embed\"], displayChart, err => showError(`Error loading script: ${err.message}`));\n",
       "    } else if (typeof vegaEmbed === \"function\") {\n",
       "      displayChart(vegaEmbed);\n",
       "    } else {\n",
       "      loadScript(\"vega\")\n",
       "        .then(() => loadScript(\"vega-lite\"))\n",
       "        .then(() => loadScript(\"vega-embed\"))\n",
       "        .catch(showError)\n",
       "        .then(() => displayChart(vegaEmbed));\n",
       "    }\n",
       "  })({\"config\": {\"view\": {\"continuousWidth\": 400, \"continuousHeight\": 300}}, \"data\": {\"name\": \"data-3d23a3381c61efd5a9c7a8abc82c6d65\"}, \"mark\": \"bar\", \"$schema\": \"https://vega.github.io/schema/vega-lite/v4.8.1.json\", \"datasets\": {\"data-3d23a3381c61efd5a9c7a8abc82c6d65\": [{\"Series\": \"I\", \"X\": 10, \"Y\": 8.04}, {\"Series\": \"I\", \"X\": 8, \"Y\": 6.95}, {\"Series\": \"I\", \"X\": 13, \"Y\": 7.58}, {\"Series\": \"I\", \"X\": 9, \"Y\": 8.81}, {\"Series\": \"I\", \"X\": 11, \"Y\": 8.33}, {\"Series\": \"I\", \"X\": 14, \"Y\": 9.96}, {\"Series\": \"I\", \"X\": 6, \"Y\": 7.24}, {\"Series\": \"I\", \"X\": 4, \"Y\": 4.26}, {\"Series\": \"I\", \"X\": 12, \"Y\": 10.84}, {\"Series\": \"I\", \"X\": 7, \"Y\": 4.8100000000000005}, {\"Series\": \"I\", \"X\": 5, \"Y\": 5.68}, {\"Series\": \"II\", \"X\": 10, \"Y\": 9.14}, {\"Series\": \"II\", \"X\": 8, \"Y\": 8.14}, {\"Series\": \"II\", \"X\": 13, \"Y\": 8.74}, {\"Series\": \"II\", \"X\": 9, \"Y\": 8.77}, {\"Series\": \"II\", \"X\": 11, \"Y\": 9.26}, {\"Series\": \"II\", \"X\": 14, \"Y\": 8.1}, {\"Series\": \"II\", \"X\": 6, \"Y\": 6.13}, {\"Series\": \"II\", \"X\": 4, \"Y\": 3.1}, {\"Series\": \"II\", \"X\": 12, \"Y\": 9.13}, {\"Series\": \"II\", \"X\": 7, \"Y\": 7.26}, {\"Series\": \"II\", \"X\": 5, \"Y\": 4.74}, {\"Series\": \"III\", \"X\": 10, \"Y\": 7.46}, {\"Series\": \"III\", \"X\": 8, \"Y\": 6.77}, {\"Series\": \"III\", \"X\": 13, \"Y\": 12.74}, {\"Series\": \"III\", \"X\": 9, \"Y\": 7.11}, {\"Series\": \"III\", \"X\": 11, \"Y\": 7.8100000000000005}, {\"Series\": \"III\", \"X\": 14, \"Y\": 8.84}, {\"Series\": \"III\", \"X\": 6, \"Y\": 6.08}, {\"Series\": \"III\", \"X\": 4, \"Y\": 5.39}, {\"Series\": \"III\", \"X\": 12, \"Y\": 8.15}, {\"Series\": \"III\", \"X\": 7, \"Y\": 6.42}, {\"Series\": \"III\", \"X\": 5, \"Y\": 5.73}, {\"Series\": \"IV\", \"X\": 8, \"Y\": 6.58}, {\"Series\": \"IV\", \"X\": 8, \"Y\": 5.76}, {\"Series\": \"IV\", \"X\": 8, \"Y\": 7.71}, {\"Series\": \"IV\", \"X\": 8, \"Y\": 8.84}, {\"Series\": \"IV\", \"X\": 8, \"Y\": 8.47}, {\"Series\": \"IV\", \"X\": 8, \"Y\": 7.04}, {\"Series\": \"IV\", \"X\": 8, \"Y\": 5.25}, {\"Series\": \"IV\", \"X\": 19, \"Y\": 12.5}, {\"Series\": \"IV\", \"X\": 8, \"Y\": 5.5600000000000005}, {\"Series\": \"IV\", \"X\": 8, \"Y\": 7.91}, {\"Series\": \"IV\", \"X\": 8, \"Y\": 6.89}]}}, {\"mode\": \"vega-lite\"});\n",
       "</script>"
      ],
      "text/plain": [
       "alt.Chart(...)"
      ]
     },
     "execution_count": 76,
     "metadata": {},
     "output_type": "execute_result"
    }
   ],
   "source": [
    "alt.Chart(dataset).mark_bar()"
   ]
  },
  {
   "cell_type": "code",
   "execution_count": 77,
   "id": "c5a1fa62-ce29-41fb-8d50-a0d3d7fe9dc0",
   "metadata": {},
   "outputs": [
    {
     "data": {
      "text/html": [
       "\n",
       "<div id=\"altair-viz-bb9f4d362f7b4240aac26d2d8dc984df\"></div>\n",
       "<script type=\"text/javascript\">\n",
       "  (function(spec, embedOpt){\n",
       "    let outputDiv = document.currentScript.previousElementSibling;\n",
       "    if (outputDiv.id !== \"altair-viz-bb9f4d362f7b4240aac26d2d8dc984df\") {\n",
       "      outputDiv = document.getElementById(\"altair-viz-bb9f4d362f7b4240aac26d2d8dc984df\");\n",
       "    }\n",
       "    const paths = {\n",
       "      \"vega\": \"https://cdn.jsdelivr.net/npm//vega@5?noext\",\n",
       "      \"vega-lib\": \"https://cdn.jsdelivr.net/npm//vega-lib?noext\",\n",
       "      \"vega-lite\": \"https://cdn.jsdelivr.net/npm//vega-lite@4.8.1?noext\",\n",
       "      \"vega-embed\": \"https://cdn.jsdelivr.net/npm//vega-embed@6?noext\",\n",
       "    };\n",
       "\n",
       "    function loadScript(lib) {\n",
       "      return new Promise(function(resolve, reject) {\n",
       "        var s = document.createElement('script');\n",
       "        s.src = paths[lib];\n",
       "        s.async = true;\n",
       "        s.onload = () => resolve(paths[lib]);\n",
       "        s.onerror = () => reject(`Error loading script: ${paths[lib]}`);\n",
       "        document.getElementsByTagName(\"head\")[0].appendChild(s);\n",
       "      });\n",
       "    }\n",
       "\n",
       "    function showError(err) {\n",
       "      outputDiv.innerHTML = `<div class=\"error\" style=\"color:red;\">${err}</div>`;\n",
       "      throw err;\n",
       "    }\n",
       "\n",
       "    function displayChart(vegaEmbed) {\n",
       "      vegaEmbed(outputDiv, spec, embedOpt)\n",
       "        .catch(err => showError(`Javascript Error: ${err.message}<br>This usually means there's a typo in your chart specification. See the javascript console for the full traceback.`));\n",
       "    }\n",
       "\n",
       "    if(typeof define === \"function\" && define.amd) {\n",
       "      requirejs.config({paths});\n",
       "      require([\"vega-embed\"], displayChart, err => showError(`Error loading script: ${err.message}`));\n",
       "    } else if (typeof vegaEmbed === \"function\") {\n",
       "      displayChart(vegaEmbed);\n",
       "    } else {\n",
       "      loadScript(\"vega\")\n",
       "        .then(() => loadScript(\"vega-lite\"))\n",
       "        .then(() => loadScript(\"vega-embed\"))\n",
       "        .catch(showError)\n",
       "        .then(() => displayChart(vegaEmbed));\n",
       "    }\n",
       "  })({\"config\": {\"view\": {\"continuousWidth\": 400, \"continuousHeight\": 300}}, \"data\": {\"name\": \"data-3d23a3381c61efd5a9c7a8abc82c6d65\"}, \"mark\": \"bar\", \"encoding\": {\"x\": {\"type\": \"quantitative\", \"field\": \"X\"}}, \"$schema\": \"https://vega.github.io/schema/vega-lite/v4.8.1.json\", \"datasets\": {\"data-3d23a3381c61efd5a9c7a8abc82c6d65\": [{\"Series\": \"I\", \"X\": 10, \"Y\": 8.04}, {\"Series\": \"I\", \"X\": 8, \"Y\": 6.95}, {\"Series\": \"I\", \"X\": 13, \"Y\": 7.58}, {\"Series\": \"I\", \"X\": 9, \"Y\": 8.81}, {\"Series\": \"I\", \"X\": 11, \"Y\": 8.33}, {\"Series\": \"I\", \"X\": 14, \"Y\": 9.96}, {\"Series\": \"I\", \"X\": 6, \"Y\": 7.24}, {\"Series\": \"I\", \"X\": 4, \"Y\": 4.26}, {\"Series\": \"I\", \"X\": 12, \"Y\": 10.84}, {\"Series\": \"I\", \"X\": 7, \"Y\": 4.8100000000000005}, {\"Series\": \"I\", \"X\": 5, \"Y\": 5.68}, {\"Series\": \"II\", \"X\": 10, \"Y\": 9.14}, {\"Series\": \"II\", \"X\": 8, \"Y\": 8.14}, {\"Series\": \"II\", \"X\": 13, \"Y\": 8.74}, {\"Series\": \"II\", \"X\": 9, \"Y\": 8.77}, {\"Series\": \"II\", \"X\": 11, \"Y\": 9.26}, {\"Series\": \"II\", \"X\": 14, \"Y\": 8.1}, {\"Series\": \"II\", \"X\": 6, \"Y\": 6.13}, {\"Series\": \"II\", \"X\": 4, \"Y\": 3.1}, {\"Series\": \"II\", \"X\": 12, \"Y\": 9.13}, {\"Series\": \"II\", \"X\": 7, \"Y\": 7.26}, {\"Series\": \"II\", \"X\": 5, \"Y\": 4.74}, {\"Series\": \"III\", \"X\": 10, \"Y\": 7.46}, {\"Series\": \"III\", \"X\": 8, \"Y\": 6.77}, {\"Series\": \"III\", \"X\": 13, \"Y\": 12.74}, {\"Series\": \"III\", \"X\": 9, \"Y\": 7.11}, {\"Series\": \"III\", \"X\": 11, \"Y\": 7.8100000000000005}, {\"Series\": \"III\", \"X\": 14, \"Y\": 8.84}, {\"Series\": \"III\", \"X\": 6, \"Y\": 6.08}, {\"Series\": \"III\", \"X\": 4, \"Y\": 5.39}, {\"Series\": \"III\", \"X\": 12, \"Y\": 8.15}, {\"Series\": \"III\", \"X\": 7, \"Y\": 6.42}, {\"Series\": \"III\", \"X\": 5, \"Y\": 5.73}, {\"Series\": \"IV\", \"X\": 8, \"Y\": 6.58}, {\"Series\": \"IV\", \"X\": 8, \"Y\": 5.76}, {\"Series\": \"IV\", \"X\": 8, \"Y\": 7.71}, {\"Series\": \"IV\", \"X\": 8, \"Y\": 8.84}, {\"Series\": \"IV\", \"X\": 8, \"Y\": 8.47}, {\"Series\": \"IV\", \"X\": 8, \"Y\": 7.04}, {\"Series\": \"IV\", \"X\": 8, \"Y\": 5.25}, {\"Series\": \"IV\", \"X\": 19, \"Y\": 12.5}, {\"Series\": \"IV\", \"X\": 8, \"Y\": 5.5600000000000005}, {\"Series\": \"IV\", \"X\": 8, \"Y\": 7.91}, {\"Series\": \"IV\", \"X\": 8, \"Y\": 6.89}]}}, {\"mode\": \"vega-lite\"});\n",
       "</script>"
      ],
      "text/plain": [
       "alt.Chart(...)"
      ]
     },
     "execution_count": 77,
     "metadata": {},
     "output_type": "execute_result"
    }
   ],
   "source": [
    "alt.Chart(dataset).mark_bar().encode(\n",
    "    x=\"X\"\n",
    ")"
   ]
  },
  {
   "cell_type": "code",
   "execution_count": 82,
   "id": "812bd6b0-6e80-447f-99fd-9b96883c3945",
   "metadata": {},
   "outputs": [
    {
     "data": {
      "text/html": [
       "\n",
       "<div id=\"altair-viz-d05c659389644879b80cb0cc5bc8284e\"></div>\n",
       "<script type=\"text/javascript\">\n",
       "  (function(spec, embedOpt){\n",
       "    let outputDiv = document.currentScript.previousElementSibling;\n",
       "    if (outputDiv.id !== \"altair-viz-d05c659389644879b80cb0cc5bc8284e\") {\n",
       "      outputDiv = document.getElementById(\"altair-viz-d05c659389644879b80cb0cc5bc8284e\");\n",
       "    }\n",
       "    const paths = {\n",
       "      \"vega\": \"https://cdn.jsdelivr.net/npm//vega@5?noext\",\n",
       "      \"vega-lib\": \"https://cdn.jsdelivr.net/npm//vega-lib?noext\",\n",
       "      \"vega-lite\": \"https://cdn.jsdelivr.net/npm//vega-lite@4.8.1?noext\",\n",
       "      \"vega-embed\": \"https://cdn.jsdelivr.net/npm//vega-embed@6?noext\",\n",
       "    };\n",
       "\n",
       "    function loadScript(lib) {\n",
       "      return new Promise(function(resolve, reject) {\n",
       "        var s = document.createElement('script');\n",
       "        s.src = paths[lib];\n",
       "        s.async = true;\n",
       "        s.onload = () => resolve(paths[lib]);\n",
       "        s.onerror = () => reject(`Error loading script: ${paths[lib]}`);\n",
       "        document.getElementsByTagName(\"head\")[0].appendChild(s);\n",
       "      });\n",
       "    }\n",
       "\n",
       "    function showError(err) {\n",
       "      outputDiv.innerHTML = `<div class=\"error\" style=\"color:red;\">${err}</div>`;\n",
       "      throw err;\n",
       "    }\n",
       "\n",
       "    function displayChart(vegaEmbed) {\n",
       "      vegaEmbed(outputDiv, spec, embedOpt)\n",
       "        .catch(err => showError(`Javascript Error: ${err.message}<br>This usually means there's a typo in your chart specification. See the javascript console for the full traceback.`));\n",
       "    }\n",
       "\n",
       "    if(typeof define === \"function\" && define.amd) {\n",
       "      requirejs.config({paths});\n",
       "      require([\"vega-embed\"], displayChart, err => showError(`Error loading script: ${err.message}`));\n",
       "    } else if (typeof vegaEmbed === \"function\") {\n",
       "      displayChart(vegaEmbed);\n",
       "    } else {\n",
       "      loadScript(\"vega\")\n",
       "        .then(() => loadScript(\"vega-lite\"))\n",
       "        .then(() => loadScript(\"vega-embed\"))\n",
       "        .catch(showError)\n",
       "        .then(() => displayChart(vegaEmbed));\n",
       "    }\n",
       "  })({\"config\": {\"view\": {\"continuousWidth\": 400, \"continuousHeight\": 300}}, \"data\": {\"name\": \"data-3d23a3381c61efd5a9c7a8abc82c6d65\"}, \"mark\": \"bar\", \"encoding\": {\"x\": {\"type\": \"quantitative\", \"field\": \"X\"}, \"y\": {\"type\": \"nominal\", \"field\": \"Series\"}}, \"$schema\": \"https://vega.github.io/schema/vega-lite/v4.8.1.json\", \"datasets\": {\"data-3d23a3381c61efd5a9c7a8abc82c6d65\": [{\"Series\": \"I\", \"X\": 10, \"Y\": 8.04}, {\"Series\": \"I\", \"X\": 8, \"Y\": 6.95}, {\"Series\": \"I\", \"X\": 13, \"Y\": 7.58}, {\"Series\": \"I\", \"X\": 9, \"Y\": 8.81}, {\"Series\": \"I\", \"X\": 11, \"Y\": 8.33}, {\"Series\": \"I\", \"X\": 14, \"Y\": 9.96}, {\"Series\": \"I\", \"X\": 6, \"Y\": 7.24}, {\"Series\": \"I\", \"X\": 4, \"Y\": 4.26}, {\"Series\": \"I\", \"X\": 12, \"Y\": 10.84}, {\"Series\": \"I\", \"X\": 7, \"Y\": 4.8100000000000005}, {\"Series\": \"I\", \"X\": 5, \"Y\": 5.68}, {\"Series\": \"II\", \"X\": 10, \"Y\": 9.14}, {\"Series\": \"II\", \"X\": 8, \"Y\": 8.14}, {\"Series\": \"II\", \"X\": 13, \"Y\": 8.74}, {\"Series\": \"II\", \"X\": 9, \"Y\": 8.77}, {\"Series\": \"II\", \"X\": 11, \"Y\": 9.26}, {\"Series\": \"II\", \"X\": 14, \"Y\": 8.1}, {\"Series\": \"II\", \"X\": 6, \"Y\": 6.13}, {\"Series\": \"II\", \"X\": 4, \"Y\": 3.1}, {\"Series\": \"II\", \"X\": 12, \"Y\": 9.13}, {\"Series\": \"II\", \"X\": 7, \"Y\": 7.26}, {\"Series\": \"II\", \"X\": 5, \"Y\": 4.74}, {\"Series\": \"III\", \"X\": 10, \"Y\": 7.46}, {\"Series\": \"III\", \"X\": 8, \"Y\": 6.77}, {\"Series\": \"III\", \"X\": 13, \"Y\": 12.74}, {\"Series\": \"III\", \"X\": 9, \"Y\": 7.11}, {\"Series\": \"III\", \"X\": 11, \"Y\": 7.8100000000000005}, {\"Series\": \"III\", \"X\": 14, \"Y\": 8.84}, {\"Series\": \"III\", \"X\": 6, \"Y\": 6.08}, {\"Series\": \"III\", \"X\": 4, \"Y\": 5.39}, {\"Series\": \"III\", \"X\": 12, \"Y\": 8.15}, {\"Series\": \"III\", \"X\": 7, \"Y\": 6.42}, {\"Series\": \"III\", \"X\": 5, \"Y\": 5.73}, {\"Series\": \"IV\", \"X\": 8, \"Y\": 6.58}, {\"Series\": \"IV\", \"X\": 8, \"Y\": 5.76}, {\"Series\": \"IV\", \"X\": 8, \"Y\": 7.71}, {\"Series\": \"IV\", \"X\": 8, \"Y\": 8.84}, {\"Series\": \"IV\", \"X\": 8, \"Y\": 8.47}, {\"Series\": \"IV\", \"X\": 8, \"Y\": 7.04}, {\"Series\": \"IV\", \"X\": 8, \"Y\": 5.25}, {\"Series\": \"IV\", \"X\": 19, \"Y\": 12.5}, {\"Series\": \"IV\", \"X\": 8, \"Y\": 5.5600000000000005}, {\"Series\": \"IV\", \"X\": 8, \"Y\": 7.91}, {\"Series\": \"IV\", \"X\": 8, \"Y\": 6.89}]}}, {\"mode\": \"vega-lite\"});\n",
       "</script>"
      ],
      "text/plain": [
       "alt.Chart(...)"
      ]
     },
     "execution_count": 82,
     "metadata": {},
     "output_type": "execute_result"
    }
   ],
   "source": [
    "alt.Chart(dataset).mark_bar().encode(\n",
    "    x='X',\n",
    "    y='Series'\n",
    ")"
   ]
  },
  {
   "cell_type": "code",
   "execution_count": 83,
   "id": "19848246-75c7-47cf-ab22-535300a0e5e6",
   "metadata": {},
   "outputs": [
    {
     "data": {
      "text/html": [
       "\n",
       "<div id=\"altair-viz-c0f2106c87d941fab61227056f2ebef9\"></div>\n",
       "<script type=\"text/javascript\">\n",
       "  (function(spec, embedOpt){\n",
       "    let outputDiv = document.currentScript.previousElementSibling;\n",
       "    if (outputDiv.id !== \"altair-viz-c0f2106c87d941fab61227056f2ebef9\") {\n",
       "      outputDiv = document.getElementById(\"altair-viz-c0f2106c87d941fab61227056f2ebef9\");\n",
       "    }\n",
       "    const paths = {\n",
       "      \"vega\": \"https://cdn.jsdelivr.net/npm//vega@5?noext\",\n",
       "      \"vega-lib\": \"https://cdn.jsdelivr.net/npm//vega-lib?noext\",\n",
       "      \"vega-lite\": \"https://cdn.jsdelivr.net/npm//vega-lite@4.8.1?noext\",\n",
       "      \"vega-embed\": \"https://cdn.jsdelivr.net/npm//vega-embed@6?noext\",\n",
       "    };\n",
       "\n",
       "    function loadScript(lib) {\n",
       "      return new Promise(function(resolve, reject) {\n",
       "        var s = document.createElement('script');\n",
       "        s.src = paths[lib];\n",
       "        s.async = true;\n",
       "        s.onload = () => resolve(paths[lib]);\n",
       "        s.onerror = () => reject(`Error loading script: ${paths[lib]}`);\n",
       "        document.getElementsByTagName(\"head\")[0].appendChild(s);\n",
       "      });\n",
       "    }\n",
       "\n",
       "    function showError(err) {\n",
       "      outputDiv.innerHTML = `<div class=\"error\" style=\"color:red;\">${err}</div>`;\n",
       "      throw err;\n",
       "    }\n",
       "\n",
       "    function displayChart(vegaEmbed) {\n",
       "      vegaEmbed(outputDiv, spec, embedOpt)\n",
       "        .catch(err => showError(`Javascript Error: ${err.message}<br>This usually means there's a typo in your chart specification. See the javascript console for the full traceback.`));\n",
       "    }\n",
       "\n",
       "    if(typeof define === \"function\" && define.amd) {\n",
       "      requirejs.config({paths});\n",
       "      require([\"vega-embed\"], displayChart, err => showError(`Error loading script: ${err.message}`));\n",
       "    } else if (typeof vegaEmbed === \"function\") {\n",
       "      displayChart(vegaEmbed);\n",
       "    } else {\n",
       "      loadScript(\"vega\")\n",
       "        .then(() => loadScript(\"vega-lite\"))\n",
       "        .then(() => loadScript(\"vega-embed\"))\n",
       "        .catch(showError)\n",
       "        .then(() => displayChart(vegaEmbed));\n",
       "    }\n",
       "  })({\"config\": {\"view\": {\"continuousWidth\": 400, \"continuousHeight\": 300}}, \"data\": {\"name\": \"data-3d23a3381c61efd5a9c7a8abc82c6d65\"}, \"mark\": \"bar\", \"encoding\": {\"x\": {\"type\": \"quantitative\", \"field\": \"Y\"}, \"y\": {\"type\": \"nominal\", \"field\": \"Series\"}}, \"$schema\": \"https://vega.github.io/schema/vega-lite/v4.8.1.json\", \"datasets\": {\"data-3d23a3381c61efd5a9c7a8abc82c6d65\": [{\"Series\": \"I\", \"X\": 10, \"Y\": 8.04}, {\"Series\": \"I\", \"X\": 8, \"Y\": 6.95}, {\"Series\": \"I\", \"X\": 13, \"Y\": 7.58}, {\"Series\": \"I\", \"X\": 9, \"Y\": 8.81}, {\"Series\": \"I\", \"X\": 11, \"Y\": 8.33}, {\"Series\": \"I\", \"X\": 14, \"Y\": 9.96}, {\"Series\": \"I\", \"X\": 6, \"Y\": 7.24}, {\"Series\": \"I\", \"X\": 4, \"Y\": 4.26}, {\"Series\": \"I\", \"X\": 12, \"Y\": 10.84}, {\"Series\": \"I\", \"X\": 7, \"Y\": 4.8100000000000005}, {\"Series\": \"I\", \"X\": 5, \"Y\": 5.68}, {\"Series\": \"II\", \"X\": 10, \"Y\": 9.14}, {\"Series\": \"II\", \"X\": 8, \"Y\": 8.14}, {\"Series\": \"II\", \"X\": 13, \"Y\": 8.74}, {\"Series\": \"II\", \"X\": 9, \"Y\": 8.77}, {\"Series\": \"II\", \"X\": 11, \"Y\": 9.26}, {\"Series\": \"II\", \"X\": 14, \"Y\": 8.1}, {\"Series\": \"II\", \"X\": 6, \"Y\": 6.13}, {\"Series\": \"II\", \"X\": 4, \"Y\": 3.1}, {\"Series\": \"II\", \"X\": 12, \"Y\": 9.13}, {\"Series\": \"II\", \"X\": 7, \"Y\": 7.26}, {\"Series\": \"II\", \"X\": 5, \"Y\": 4.74}, {\"Series\": \"III\", \"X\": 10, \"Y\": 7.46}, {\"Series\": \"III\", \"X\": 8, \"Y\": 6.77}, {\"Series\": \"III\", \"X\": 13, \"Y\": 12.74}, {\"Series\": \"III\", \"X\": 9, \"Y\": 7.11}, {\"Series\": \"III\", \"X\": 11, \"Y\": 7.8100000000000005}, {\"Series\": \"III\", \"X\": 14, \"Y\": 8.84}, {\"Series\": \"III\", \"X\": 6, \"Y\": 6.08}, {\"Series\": \"III\", \"X\": 4, \"Y\": 5.39}, {\"Series\": \"III\", \"X\": 12, \"Y\": 8.15}, {\"Series\": \"III\", \"X\": 7, \"Y\": 6.42}, {\"Series\": \"III\", \"X\": 5, \"Y\": 5.73}, {\"Series\": \"IV\", \"X\": 8, \"Y\": 6.58}, {\"Series\": \"IV\", \"X\": 8, \"Y\": 5.76}, {\"Series\": \"IV\", \"X\": 8, \"Y\": 7.71}, {\"Series\": \"IV\", \"X\": 8, \"Y\": 8.84}, {\"Series\": \"IV\", \"X\": 8, \"Y\": 8.47}, {\"Series\": \"IV\", \"X\": 8, \"Y\": 7.04}, {\"Series\": \"IV\", \"X\": 8, \"Y\": 5.25}, {\"Series\": \"IV\", \"X\": 19, \"Y\": 12.5}, {\"Series\": \"IV\", \"X\": 8, \"Y\": 5.5600000000000005}, {\"Series\": \"IV\", \"X\": 8, \"Y\": 7.91}, {\"Series\": \"IV\", \"X\": 8, \"Y\": 6.89}]}}, {\"mode\": \"vega-lite\"});\n",
       "</script>"
      ],
      "text/plain": [
       "alt.Chart(...)"
      ]
     },
     "execution_count": 83,
     "metadata": {},
     "output_type": "execute_result"
    }
   ],
   "source": [
    "alt.Chart(dataset).mark_bar().encode(\n",
    "    x='Y',\n",
    "    y='Series'\n",
    ")"
   ]
  },
  {
   "cell_type": "markdown",
   "id": "8e8272ec-fb1c-4ccd-afd2-48f7839743b1",
   "metadata": {},
   "source": [
    "## Encodings\n",
    "\n",
    "Full Documentation of Encondings available in the [Official Docs](https://altair-viz.github.io/user_guide/encoding.html)"
   ]
  },
  {
   "cell_type": "markdown",
   "id": "b5d92e2b-a65e-4bb9-8bd1-f845f0037a60",
   "metadata": {},
   "source": [
    "### Row"
   ]
  },
  {
   "cell_type": "code",
   "execution_count": 146,
   "id": "ae3e34b9-9dda-4aa8-91eb-d503b1201549",
   "metadata": {},
   "outputs": [
    {
     "data": {
      "text/html": [
       "\n",
       "<div id=\"altair-viz-0cf6c192af2d4275b2417dc2534cd368\"></div>\n",
       "<script type=\"text/javascript\">\n",
       "  (function(spec, embedOpt){\n",
       "    let outputDiv = document.currentScript.previousElementSibling;\n",
       "    if (outputDiv.id !== \"altair-viz-0cf6c192af2d4275b2417dc2534cd368\") {\n",
       "      outputDiv = document.getElementById(\"altair-viz-0cf6c192af2d4275b2417dc2534cd368\");\n",
       "    }\n",
       "    const paths = {\n",
       "      \"vega\": \"https://cdn.jsdelivr.net/npm//vega@5?noext\",\n",
       "      \"vega-lib\": \"https://cdn.jsdelivr.net/npm//vega-lib?noext\",\n",
       "      \"vega-lite\": \"https://cdn.jsdelivr.net/npm//vega-lite@4.8.1?noext\",\n",
       "      \"vega-embed\": \"https://cdn.jsdelivr.net/npm//vega-embed@6?noext\",\n",
       "    };\n",
       "\n",
       "    function loadScript(lib) {\n",
       "      return new Promise(function(resolve, reject) {\n",
       "        var s = document.createElement('script');\n",
       "        s.src = paths[lib];\n",
       "        s.async = true;\n",
       "        s.onload = () => resolve(paths[lib]);\n",
       "        s.onerror = () => reject(`Error loading script: ${paths[lib]}`);\n",
       "        document.getElementsByTagName(\"head\")[0].appendChild(s);\n",
       "      });\n",
       "    }\n",
       "\n",
       "    function showError(err) {\n",
       "      outputDiv.innerHTML = `<div class=\"error\" style=\"color:red;\">${err}</div>`;\n",
       "      throw err;\n",
       "    }\n",
       "\n",
       "    function displayChart(vegaEmbed) {\n",
       "      vegaEmbed(outputDiv, spec, embedOpt)\n",
       "        .catch(err => showError(`Javascript Error: ${err.message}<br>This usually means there's a typo in your chart specification. See the javascript console for the full traceback.`));\n",
       "    }\n",
       "\n",
       "    if(typeof define === \"function\" && define.amd) {\n",
       "      requirejs.config({paths});\n",
       "      require([\"vega-embed\"], displayChart, err => showError(`Error loading script: ${err.message}`));\n",
       "    } else if (typeof vegaEmbed === \"function\") {\n",
       "      displayChart(vegaEmbed);\n",
       "    } else {\n",
       "      loadScript(\"vega\")\n",
       "        .then(() => loadScript(\"vega-lite\"))\n",
       "        .then(() => loadScript(\"vega-embed\"))\n",
       "        .catch(showError)\n",
       "        .then(() => displayChart(vegaEmbed));\n",
       "    }\n",
       "  })({\"config\": {\"view\": {\"continuousWidth\": 400, \"continuousHeight\": 300}}, \"data\": {\"name\": \"data-3d23a3381c61efd5a9c7a8abc82c6d65\"}, \"mark\": \"point\", \"encoding\": {\"row\": {\"type\": \"nominal\", \"field\": \"Series\"}, \"x\": {\"type\": \"quantitative\", \"field\": \"X\"}, \"y\": {\"type\": \"quantitative\", \"field\": \"Y\"}}, \"$schema\": \"https://vega.github.io/schema/vega-lite/v4.8.1.json\", \"datasets\": {\"data-3d23a3381c61efd5a9c7a8abc82c6d65\": [{\"Series\": \"I\", \"X\": 10, \"Y\": 8.04}, {\"Series\": \"I\", \"X\": 8, \"Y\": 6.95}, {\"Series\": \"I\", \"X\": 13, \"Y\": 7.58}, {\"Series\": \"I\", \"X\": 9, \"Y\": 8.81}, {\"Series\": \"I\", \"X\": 11, \"Y\": 8.33}, {\"Series\": \"I\", \"X\": 14, \"Y\": 9.96}, {\"Series\": \"I\", \"X\": 6, \"Y\": 7.24}, {\"Series\": \"I\", \"X\": 4, \"Y\": 4.26}, {\"Series\": \"I\", \"X\": 12, \"Y\": 10.84}, {\"Series\": \"I\", \"X\": 7, \"Y\": 4.8100000000000005}, {\"Series\": \"I\", \"X\": 5, \"Y\": 5.68}, {\"Series\": \"II\", \"X\": 10, \"Y\": 9.14}, {\"Series\": \"II\", \"X\": 8, \"Y\": 8.14}, {\"Series\": \"II\", \"X\": 13, \"Y\": 8.74}, {\"Series\": \"II\", \"X\": 9, \"Y\": 8.77}, {\"Series\": \"II\", \"X\": 11, \"Y\": 9.26}, {\"Series\": \"II\", \"X\": 14, \"Y\": 8.1}, {\"Series\": \"II\", \"X\": 6, \"Y\": 6.13}, {\"Series\": \"II\", \"X\": 4, \"Y\": 3.1}, {\"Series\": \"II\", \"X\": 12, \"Y\": 9.13}, {\"Series\": \"II\", \"X\": 7, \"Y\": 7.26}, {\"Series\": \"II\", \"X\": 5, \"Y\": 4.74}, {\"Series\": \"III\", \"X\": 10, \"Y\": 7.46}, {\"Series\": \"III\", \"X\": 8, \"Y\": 6.77}, {\"Series\": \"III\", \"X\": 13, \"Y\": 12.74}, {\"Series\": \"III\", \"X\": 9, \"Y\": 7.11}, {\"Series\": \"III\", \"X\": 11, \"Y\": 7.8100000000000005}, {\"Series\": \"III\", \"X\": 14, \"Y\": 8.84}, {\"Series\": \"III\", \"X\": 6, \"Y\": 6.08}, {\"Series\": \"III\", \"X\": 4, \"Y\": 5.39}, {\"Series\": \"III\", \"X\": 12, \"Y\": 8.15}, {\"Series\": \"III\", \"X\": 7, \"Y\": 6.42}, {\"Series\": \"III\", \"X\": 5, \"Y\": 5.73}, {\"Series\": \"IV\", \"X\": 8, \"Y\": 6.58}, {\"Series\": \"IV\", \"X\": 8, \"Y\": 5.76}, {\"Series\": \"IV\", \"X\": 8, \"Y\": 7.71}, {\"Series\": \"IV\", \"X\": 8, \"Y\": 8.84}, {\"Series\": \"IV\", \"X\": 8, \"Y\": 8.47}, {\"Series\": \"IV\", \"X\": 8, \"Y\": 7.04}, {\"Series\": \"IV\", \"X\": 8, \"Y\": 5.25}, {\"Series\": \"IV\", \"X\": 19, \"Y\": 12.5}, {\"Series\": \"IV\", \"X\": 8, \"Y\": 5.5600000000000005}, {\"Series\": \"IV\", \"X\": 8, \"Y\": 7.91}, {\"Series\": \"IV\", \"X\": 8, \"Y\": 6.89}]}}, {\"mode\": \"vega-lite\"});\n",
       "</script>"
      ],
      "text/plain": [
       "alt.Chart(...)"
      ]
     },
     "execution_count": 146,
     "metadata": {},
     "output_type": "execute_result"
    }
   ],
   "source": [
    "alt.Chart(dataset).mark_point().encode(\n",
    "    x='X',\n",
    "    y='Y',\n",
    "    row=\"Series\"\n",
    ")"
   ]
  },
  {
   "cell_type": "markdown",
   "id": "63b5796f-0d5d-48d6-91c8-123fdaf75acf",
   "metadata": {},
   "source": [
    "### Column"
   ]
  },
  {
   "cell_type": "code",
   "execution_count": 147,
   "id": "08d09113-156a-4efa-b841-bbcfed4db16d",
   "metadata": {},
   "outputs": [
    {
     "data": {
      "text/html": [
       "\n",
       "<div id=\"altair-viz-f5541100b1ea46879ef665f08949b046\"></div>\n",
       "<script type=\"text/javascript\">\n",
       "  (function(spec, embedOpt){\n",
       "    let outputDiv = document.currentScript.previousElementSibling;\n",
       "    if (outputDiv.id !== \"altair-viz-f5541100b1ea46879ef665f08949b046\") {\n",
       "      outputDiv = document.getElementById(\"altair-viz-f5541100b1ea46879ef665f08949b046\");\n",
       "    }\n",
       "    const paths = {\n",
       "      \"vega\": \"https://cdn.jsdelivr.net/npm//vega@5?noext\",\n",
       "      \"vega-lib\": \"https://cdn.jsdelivr.net/npm//vega-lib?noext\",\n",
       "      \"vega-lite\": \"https://cdn.jsdelivr.net/npm//vega-lite@4.8.1?noext\",\n",
       "      \"vega-embed\": \"https://cdn.jsdelivr.net/npm//vega-embed@6?noext\",\n",
       "    };\n",
       "\n",
       "    function loadScript(lib) {\n",
       "      return new Promise(function(resolve, reject) {\n",
       "        var s = document.createElement('script');\n",
       "        s.src = paths[lib];\n",
       "        s.async = true;\n",
       "        s.onload = () => resolve(paths[lib]);\n",
       "        s.onerror = () => reject(`Error loading script: ${paths[lib]}`);\n",
       "        document.getElementsByTagName(\"head\")[0].appendChild(s);\n",
       "      });\n",
       "    }\n",
       "\n",
       "    function showError(err) {\n",
       "      outputDiv.innerHTML = `<div class=\"error\" style=\"color:red;\">${err}</div>`;\n",
       "      throw err;\n",
       "    }\n",
       "\n",
       "    function displayChart(vegaEmbed) {\n",
       "      vegaEmbed(outputDiv, spec, embedOpt)\n",
       "        .catch(err => showError(`Javascript Error: ${err.message}<br>This usually means there's a typo in your chart specification. See the javascript console for the full traceback.`));\n",
       "    }\n",
       "\n",
       "    if(typeof define === \"function\" && define.amd) {\n",
       "      requirejs.config({paths});\n",
       "      require([\"vega-embed\"], displayChart, err => showError(`Error loading script: ${err.message}`));\n",
       "    } else if (typeof vegaEmbed === \"function\") {\n",
       "      displayChart(vegaEmbed);\n",
       "    } else {\n",
       "      loadScript(\"vega\")\n",
       "        .then(() => loadScript(\"vega-lite\"))\n",
       "        .then(() => loadScript(\"vega-embed\"))\n",
       "        .catch(showError)\n",
       "        .then(() => displayChart(vegaEmbed));\n",
       "    }\n",
       "  })({\"config\": {\"view\": {\"continuousWidth\": 400, \"continuousHeight\": 300}}, \"data\": {\"name\": \"data-3d23a3381c61efd5a9c7a8abc82c6d65\"}, \"mark\": \"point\", \"encoding\": {\"column\": {\"type\": \"nominal\", \"field\": \"Series\"}, \"x\": {\"type\": \"quantitative\", \"field\": \"X\"}, \"y\": {\"type\": \"quantitative\", \"field\": \"Y\"}}, \"$schema\": \"https://vega.github.io/schema/vega-lite/v4.8.1.json\", \"datasets\": {\"data-3d23a3381c61efd5a9c7a8abc82c6d65\": [{\"Series\": \"I\", \"X\": 10, \"Y\": 8.04}, {\"Series\": \"I\", \"X\": 8, \"Y\": 6.95}, {\"Series\": \"I\", \"X\": 13, \"Y\": 7.58}, {\"Series\": \"I\", \"X\": 9, \"Y\": 8.81}, {\"Series\": \"I\", \"X\": 11, \"Y\": 8.33}, {\"Series\": \"I\", \"X\": 14, \"Y\": 9.96}, {\"Series\": \"I\", \"X\": 6, \"Y\": 7.24}, {\"Series\": \"I\", \"X\": 4, \"Y\": 4.26}, {\"Series\": \"I\", \"X\": 12, \"Y\": 10.84}, {\"Series\": \"I\", \"X\": 7, \"Y\": 4.8100000000000005}, {\"Series\": \"I\", \"X\": 5, \"Y\": 5.68}, {\"Series\": \"II\", \"X\": 10, \"Y\": 9.14}, {\"Series\": \"II\", \"X\": 8, \"Y\": 8.14}, {\"Series\": \"II\", \"X\": 13, \"Y\": 8.74}, {\"Series\": \"II\", \"X\": 9, \"Y\": 8.77}, {\"Series\": \"II\", \"X\": 11, \"Y\": 9.26}, {\"Series\": \"II\", \"X\": 14, \"Y\": 8.1}, {\"Series\": \"II\", \"X\": 6, \"Y\": 6.13}, {\"Series\": \"II\", \"X\": 4, \"Y\": 3.1}, {\"Series\": \"II\", \"X\": 12, \"Y\": 9.13}, {\"Series\": \"II\", \"X\": 7, \"Y\": 7.26}, {\"Series\": \"II\", \"X\": 5, \"Y\": 4.74}, {\"Series\": \"III\", \"X\": 10, \"Y\": 7.46}, {\"Series\": \"III\", \"X\": 8, \"Y\": 6.77}, {\"Series\": \"III\", \"X\": 13, \"Y\": 12.74}, {\"Series\": \"III\", \"X\": 9, \"Y\": 7.11}, {\"Series\": \"III\", \"X\": 11, \"Y\": 7.8100000000000005}, {\"Series\": \"III\", \"X\": 14, \"Y\": 8.84}, {\"Series\": \"III\", \"X\": 6, \"Y\": 6.08}, {\"Series\": \"III\", \"X\": 4, \"Y\": 5.39}, {\"Series\": \"III\", \"X\": 12, \"Y\": 8.15}, {\"Series\": \"III\", \"X\": 7, \"Y\": 6.42}, {\"Series\": \"III\", \"X\": 5, \"Y\": 5.73}, {\"Series\": \"IV\", \"X\": 8, \"Y\": 6.58}, {\"Series\": \"IV\", \"X\": 8, \"Y\": 5.76}, {\"Series\": \"IV\", \"X\": 8, \"Y\": 7.71}, {\"Series\": \"IV\", \"X\": 8, \"Y\": 8.84}, {\"Series\": \"IV\", \"X\": 8, \"Y\": 8.47}, {\"Series\": \"IV\", \"X\": 8, \"Y\": 7.04}, {\"Series\": \"IV\", \"X\": 8, \"Y\": 5.25}, {\"Series\": \"IV\", \"X\": 19, \"Y\": 12.5}, {\"Series\": \"IV\", \"X\": 8, \"Y\": 5.5600000000000005}, {\"Series\": \"IV\", \"X\": 8, \"Y\": 7.91}, {\"Series\": \"IV\", \"X\": 8, \"Y\": 6.89}]}}, {\"mode\": \"vega-lite\"});\n",
       "</script>"
      ],
      "text/plain": [
       "alt.Chart(...)"
      ]
     },
     "execution_count": 147,
     "metadata": {},
     "output_type": "execute_result"
    }
   ],
   "source": [
    "alt.Chart(dataset).mark_point().encode(\n",
    "    x='X',\n",
    "    y='Y',\n",
    "    column=\"Series\"\n",
    ")"
   ]
  },
  {
   "cell_type": "markdown",
   "id": "554b7e13-fe1d-4477-8cf1-d3c56d3b4560",
   "metadata": {},
   "source": [
    "### Facet"
   ]
  },
  {
   "cell_type": "code",
   "execution_count": 148,
   "id": "b63dfe94-917b-4bb2-a667-322f42b7d8e6",
   "metadata": {},
   "outputs": [
    {
     "data": {
      "text/html": [
       "\n",
       "<div id=\"altair-viz-aecdc548516f46e6a7d1f95b695a17c4\"></div>\n",
       "<script type=\"text/javascript\">\n",
       "  (function(spec, embedOpt){\n",
       "    let outputDiv = document.currentScript.previousElementSibling;\n",
       "    if (outputDiv.id !== \"altair-viz-aecdc548516f46e6a7d1f95b695a17c4\") {\n",
       "      outputDiv = document.getElementById(\"altair-viz-aecdc548516f46e6a7d1f95b695a17c4\");\n",
       "    }\n",
       "    const paths = {\n",
       "      \"vega\": \"https://cdn.jsdelivr.net/npm//vega@5?noext\",\n",
       "      \"vega-lib\": \"https://cdn.jsdelivr.net/npm//vega-lib?noext\",\n",
       "      \"vega-lite\": \"https://cdn.jsdelivr.net/npm//vega-lite@4.8.1?noext\",\n",
       "      \"vega-embed\": \"https://cdn.jsdelivr.net/npm//vega-embed@6?noext\",\n",
       "    };\n",
       "\n",
       "    function loadScript(lib) {\n",
       "      return new Promise(function(resolve, reject) {\n",
       "        var s = document.createElement('script');\n",
       "        s.src = paths[lib];\n",
       "        s.async = true;\n",
       "        s.onload = () => resolve(paths[lib]);\n",
       "        s.onerror = () => reject(`Error loading script: ${paths[lib]}`);\n",
       "        document.getElementsByTagName(\"head\")[0].appendChild(s);\n",
       "      });\n",
       "    }\n",
       "\n",
       "    function showError(err) {\n",
       "      outputDiv.innerHTML = `<div class=\"error\" style=\"color:red;\">${err}</div>`;\n",
       "      throw err;\n",
       "    }\n",
       "\n",
       "    function displayChart(vegaEmbed) {\n",
       "      vegaEmbed(outputDiv, spec, embedOpt)\n",
       "        .catch(err => showError(`Javascript Error: ${err.message}<br>This usually means there's a typo in your chart specification. See the javascript console for the full traceback.`));\n",
       "    }\n",
       "\n",
       "    if(typeof define === \"function\" && define.amd) {\n",
       "      requirejs.config({paths});\n",
       "      require([\"vega-embed\"], displayChart, err => showError(`Error loading script: ${err.message}`));\n",
       "    } else if (typeof vegaEmbed === \"function\") {\n",
       "      displayChart(vegaEmbed);\n",
       "    } else {\n",
       "      loadScript(\"vega\")\n",
       "        .then(() => loadScript(\"vega-lite\"))\n",
       "        .then(() => loadScript(\"vega-embed\"))\n",
       "        .catch(showError)\n",
       "        .then(() => displayChart(vegaEmbed));\n",
       "    }\n",
       "  })({\"config\": {\"view\": {\"continuousWidth\": 400, \"continuousHeight\": 300}}, \"data\": {\"name\": \"data-3d23a3381c61efd5a9c7a8abc82c6d65\"}, \"mark\": \"point\", \"encoding\": {\"facet\": {\"type\": \"nominal\", \"columns\": 2, \"field\": \"Series\"}, \"x\": {\"type\": \"quantitative\", \"field\": \"X\"}, \"y\": {\"type\": \"quantitative\", \"field\": \"Y\"}}, \"$schema\": \"https://vega.github.io/schema/vega-lite/v4.8.1.json\", \"datasets\": {\"data-3d23a3381c61efd5a9c7a8abc82c6d65\": [{\"Series\": \"I\", \"X\": 10, \"Y\": 8.04}, {\"Series\": \"I\", \"X\": 8, \"Y\": 6.95}, {\"Series\": \"I\", \"X\": 13, \"Y\": 7.58}, {\"Series\": \"I\", \"X\": 9, \"Y\": 8.81}, {\"Series\": \"I\", \"X\": 11, \"Y\": 8.33}, {\"Series\": \"I\", \"X\": 14, \"Y\": 9.96}, {\"Series\": \"I\", \"X\": 6, \"Y\": 7.24}, {\"Series\": \"I\", \"X\": 4, \"Y\": 4.26}, {\"Series\": \"I\", \"X\": 12, \"Y\": 10.84}, {\"Series\": \"I\", \"X\": 7, \"Y\": 4.8100000000000005}, {\"Series\": \"I\", \"X\": 5, \"Y\": 5.68}, {\"Series\": \"II\", \"X\": 10, \"Y\": 9.14}, {\"Series\": \"II\", \"X\": 8, \"Y\": 8.14}, {\"Series\": \"II\", \"X\": 13, \"Y\": 8.74}, {\"Series\": \"II\", \"X\": 9, \"Y\": 8.77}, {\"Series\": \"II\", \"X\": 11, \"Y\": 9.26}, {\"Series\": \"II\", \"X\": 14, \"Y\": 8.1}, {\"Series\": \"II\", \"X\": 6, \"Y\": 6.13}, {\"Series\": \"II\", \"X\": 4, \"Y\": 3.1}, {\"Series\": \"II\", \"X\": 12, \"Y\": 9.13}, {\"Series\": \"II\", \"X\": 7, \"Y\": 7.26}, {\"Series\": \"II\", \"X\": 5, \"Y\": 4.74}, {\"Series\": \"III\", \"X\": 10, \"Y\": 7.46}, {\"Series\": \"III\", \"X\": 8, \"Y\": 6.77}, {\"Series\": \"III\", \"X\": 13, \"Y\": 12.74}, {\"Series\": \"III\", \"X\": 9, \"Y\": 7.11}, {\"Series\": \"III\", \"X\": 11, \"Y\": 7.8100000000000005}, {\"Series\": \"III\", \"X\": 14, \"Y\": 8.84}, {\"Series\": \"III\", \"X\": 6, \"Y\": 6.08}, {\"Series\": \"III\", \"X\": 4, \"Y\": 5.39}, {\"Series\": \"III\", \"X\": 12, \"Y\": 8.15}, {\"Series\": \"III\", \"X\": 7, \"Y\": 6.42}, {\"Series\": \"III\", \"X\": 5, \"Y\": 5.73}, {\"Series\": \"IV\", \"X\": 8, \"Y\": 6.58}, {\"Series\": \"IV\", \"X\": 8, \"Y\": 5.76}, {\"Series\": \"IV\", \"X\": 8, \"Y\": 7.71}, {\"Series\": \"IV\", \"X\": 8, \"Y\": 8.84}, {\"Series\": \"IV\", \"X\": 8, \"Y\": 8.47}, {\"Series\": \"IV\", \"X\": 8, \"Y\": 7.04}, {\"Series\": \"IV\", \"X\": 8, \"Y\": 5.25}, {\"Series\": \"IV\", \"X\": 19, \"Y\": 12.5}, {\"Series\": \"IV\", \"X\": 8, \"Y\": 5.5600000000000005}, {\"Series\": \"IV\", \"X\": 8, \"Y\": 7.91}, {\"Series\": \"IV\", \"X\": 8, \"Y\": 6.89}]}}, {\"mode\": \"vega-lite\"});\n",
       "</script>"
      ],
      "text/plain": [
       "alt.Chart(...)"
      ]
     },
     "execution_count": 148,
     "metadata": {},
     "output_type": "execute_result"
    }
   ],
   "source": [
    "alt.Chart(dataset).mark_point().encode(\n",
    "    x='X',\n",
    "    y='Y',\n",
    "    facet=alt.Facet('Series', columns=2)\n",
    ")"
   ]
  },
  {
   "cell_type": "code",
   "execution_count": 149,
   "id": "e7528ff8-7c62-4977-ba73-342546b88976",
   "metadata": {},
   "outputs": [
    {
     "data": {
      "text/html": [
       "\n",
       "<div id=\"altair-viz-7d6f7bfcf7fb41149dc6d916f1aa876f\"></div>\n",
       "<script type=\"text/javascript\">\n",
       "  (function(spec, embedOpt){\n",
       "    let outputDiv = document.currentScript.previousElementSibling;\n",
       "    if (outputDiv.id !== \"altair-viz-7d6f7bfcf7fb41149dc6d916f1aa876f\") {\n",
       "      outputDiv = document.getElementById(\"altair-viz-7d6f7bfcf7fb41149dc6d916f1aa876f\");\n",
       "    }\n",
       "    const paths = {\n",
       "      \"vega\": \"https://cdn.jsdelivr.net/npm//vega@5?noext\",\n",
       "      \"vega-lib\": \"https://cdn.jsdelivr.net/npm//vega-lib?noext\",\n",
       "      \"vega-lite\": \"https://cdn.jsdelivr.net/npm//vega-lite@4.8.1?noext\",\n",
       "      \"vega-embed\": \"https://cdn.jsdelivr.net/npm//vega-embed@6?noext\",\n",
       "    };\n",
       "\n",
       "    function loadScript(lib) {\n",
       "      return new Promise(function(resolve, reject) {\n",
       "        var s = document.createElement('script');\n",
       "        s.src = paths[lib];\n",
       "        s.async = true;\n",
       "        s.onload = () => resolve(paths[lib]);\n",
       "        s.onerror = () => reject(`Error loading script: ${paths[lib]}`);\n",
       "        document.getElementsByTagName(\"head\")[0].appendChild(s);\n",
       "      });\n",
       "    }\n",
       "\n",
       "    function showError(err) {\n",
       "      outputDiv.innerHTML = `<div class=\"error\" style=\"color:red;\">${err}</div>`;\n",
       "      throw err;\n",
       "    }\n",
       "\n",
       "    function displayChart(vegaEmbed) {\n",
       "      vegaEmbed(outputDiv, spec, embedOpt)\n",
       "        .catch(err => showError(`Javascript Error: ${err.message}<br>This usually means there's a typo in your chart specification. See the javascript console for the full traceback.`));\n",
       "    }\n",
       "\n",
       "    if(typeof define === \"function\" && define.amd) {\n",
       "      requirejs.config({paths});\n",
       "      require([\"vega-embed\"], displayChart, err => showError(`Error loading script: ${err.message}`));\n",
       "    } else if (typeof vegaEmbed === \"function\") {\n",
       "      displayChart(vegaEmbed);\n",
       "    } else {\n",
       "      loadScript(\"vega\")\n",
       "        .then(() => loadScript(\"vega-lite\"))\n",
       "        .then(() => loadScript(\"vega-embed\"))\n",
       "        .catch(showError)\n",
       "        .then(() => displayChart(vegaEmbed));\n",
       "    }\n",
       "  })({\"config\": {\"view\": {\"continuousWidth\": 400, \"continuousHeight\": 300}}, \"data\": {\"name\": \"data-3d23a3381c61efd5a9c7a8abc82c6d65\"}, \"facet\": {\"type\": \"nominal\", \"field\": \"Series\"}, \"spec\": {\"mark\": \"point\", \"encoding\": {\"x\": {\"type\": \"quantitative\", \"field\": \"X\"}, \"y\": {\"type\": \"quantitative\", \"field\": \"Y\"}}}, \"columns\": 2, \"$schema\": \"https://vega.github.io/schema/vega-lite/v4.8.1.json\", \"datasets\": {\"data-3d23a3381c61efd5a9c7a8abc82c6d65\": [{\"Series\": \"I\", \"X\": 10, \"Y\": 8.04}, {\"Series\": \"I\", \"X\": 8, \"Y\": 6.95}, {\"Series\": \"I\", \"X\": 13, \"Y\": 7.58}, {\"Series\": \"I\", \"X\": 9, \"Y\": 8.81}, {\"Series\": \"I\", \"X\": 11, \"Y\": 8.33}, {\"Series\": \"I\", \"X\": 14, \"Y\": 9.96}, {\"Series\": \"I\", \"X\": 6, \"Y\": 7.24}, {\"Series\": \"I\", \"X\": 4, \"Y\": 4.26}, {\"Series\": \"I\", \"X\": 12, \"Y\": 10.84}, {\"Series\": \"I\", \"X\": 7, \"Y\": 4.8100000000000005}, {\"Series\": \"I\", \"X\": 5, \"Y\": 5.68}, {\"Series\": \"II\", \"X\": 10, \"Y\": 9.14}, {\"Series\": \"II\", \"X\": 8, \"Y\": 8.14}, {\"Series\": \"II\", \"X\": 13, \"Y\": 8.74}, {\"Series\": \"II\", \"X\": 9, \"Y\": 8.77}, {\"Series\": \"II\", \"X\": 11, \"Y\": 9.26}, {\"Series\": \"II\", \"X\": 14, \"Y\": 8.1}, {\"Series\": \"II\", \"X\": 6, \"Y\": 6.13}, {\"Series\": \"II\", \"X\": 4, \"Y\": 3.1}, {\"Series\": \"II\", \"X\": 12, \"Y\": 9.13}, {\"Series\": \"II\", \"X\": 7, \"Y\": 7.26}, {\"Series\": \"II\", \"X\": 5, \"Y\": 4.74}, {\"Series\": \"III\", \"X\": 10, \"Y\": 7.46}, {\"Series\": \"III\", \"X\": 8, \"Y\": 6.77}, {\"Series\": \"III\", \"X\": 13, \"Y\": 12.74}, {\"Series\": \"III\", \"X\": 9, \"Y\": 7.11}, {\"Series\": \"III\", \"X\": 11, \"Y\": 7.8100000000000005}, {\"Series\": \"III\", \"X\": 14, \"Y\": 8.84}, {\"Series\": \"III\", \"X\": 6, \"Y\": 6.08}, {\"Series\": \"III\", \"X\": 4, \"Y\": 5.39}, {\"Series\": \"III\", \"X\": 12, \"Y\": 8.15}, {\"Series\": \"III\", \"X\": 7, \"Y\": 6.42}, {\"Series\": \"III\", \"X\": 5, \"Y\": 5.73}, {\"Series\": \"IV\", \"X\": 8, \"Y\": 6.58}, {\"Series\": \"IV\", \"X\": 8, \"Y\": 5.76}, {\"Series\": \"IV\", \"X\": 8, \"Y\": 7.71}, {\"Series\": \"IV\", \"X\": 8, \"Y\": 8.84}, {\"Series\": \"IV\", \"X\": 8, \"Y\": 8.47}, {\"Series\": \"IV\", \"X\": 8, \"Y\": 7.04}, {\"Series\": \"IV\", \"X\": 8, \"Y\": 5.25}, {\"Series\": \"IV\", \"X\": 19, \"Y\": 12.5}, {\"Series\": \"IV\", \"X\": 8, \"Y\": 5.5600000000000005}, {\"Series\": \"IV\", \"X\": 8, \"Y\": 7.91}, {\"Series\": \"IV\", \"X\": 8, \"Y\": 6.89}]}}, {\"mode\": \"vega-lite\"});\n",
       "</script>"
      ],
      "text/plain": [
       "alt.FacetChart(...)"
      ]
     },
     "execution_count": 149,
     "metadata": {},
     "output_type": "execute_result"
    }
   ],
   "source": [
    "alt.Chart(dataset).mark_point().encode(\n",
    "    x='X',\n",
    "    y='Y',\n",
    ").facet(\n",
    "    facet='Series',\n",
    "    columns=2\n",
    ")"
   ]
  },
  {
   "cell_type": "markdown",
   "id": "f28b4215-46cb-4a8c-8d37-cf151f5956a7",
   "metadata": {},
   "source": [
    "### Shape"
   ]
  },
  {
   "cell_type": "code",
   "execution_count": 150,
   "id": "ecb94074-3d51-4bbd-b6f3-c451303f10ce",
   "metadata": {},
   "outputs": [
    {
     "data": {
      "text/html": [
       "\n",
       "<div id=\"altair-viz-719a62ecd5174e289fb3c2b85a4e2c59\"></div>\n",
       "<script type=\"text/javascript\">\n",
       "  (function(spec, embedOpt){\n",
       "    let outputDiv = document.currentScript.previousElementSibling;\n",
       "    if (outputDiv.id !== \"altair-viz-719a62ecd5174e289fb3c2b85a4e2c59\") {\n",
       "      outputDiv = document.getElementById(\"altair-viz-719a62ecd5174e289fb3c2b85a4e2c59\");\n",
       "    }\n",
       "    const paths = {\n",
       "      \"vega\": \"https://cdn.jsdelivr.net/npm//vega@5?noext\",\n",
       "      \"vega-lib\": \"https://cdn.jsdelivr.net/npm//vega-lib?noext\",\n",
       "      \"vega-lite\": \"https://cdn.jsdelivr.net/npm//vega-lite@4.8.1?noext\",\n",
       "      \"vega-embed\": \"https://cdn.jsdelivr.net/npm//vega-embed@6?noext\",\n",
       "    };\n",
       "\n",
       "    function loadScript(lib) {\n",
       "      return new Promise(function(resolve, reject) {\n",
       "        var s = document.createElement('script');\n",
       "        s.src = paths[lib];\n",
       "        s.async = true;\n",
       "        s.onload = () => resolve(paths[lib]);\n",
       "        s.onerror = () => reject(`Error loading script: ${paths[lib]}`);\n",
       "        document.getElementsByTagName(\"head\")[0].appendChild(s);\n",
       "      });\n",
       "    }\n",
       "\n",
       "    function showError(err) {\n",
       "      outputDiv.innerHTML = `<div class=\"error\" style=\"color:red;\">${err}</div>`;\n",
       "      throw err;\n",
       "    }\n",
       "\n",
       "    function displayChart(vegaEmbed) {\n",
       "      vegaEmbed(outputDiv, spec, embedOpt)\n",
       "        .catch(err => showError(`Javascript Error: ${err.message}<br>This usually means there's a typo in your chart specification. See the javascript console for the full traceback.`));\n",
       "    }\n",
       "\n",
       "    if(typeof define === \"function\" && define.amd) {\n",
       "      requirejs.config({paths});\n",
       "      require([\"vega-embed\"], displayChart, err => showError(`Error loading script: ${err.message}`));\n",
       "    } else if (typeof vegaEmbed === \"function\") {\n",
       "      displayChart(vegaEmbed);\n",
       "    } else {\n",
       "      loadScript(\"vega\")\n",
       "        .then(() => loadScript(\"vega-lite\"))\n",
       "        .then(() => loadScript(\"vega-embed\"))\n",
       "        .catch(showError)\n",
       "        .then(() => displayChart(vegaEmbed));\n",
       "    }\n",
       "  })({\"config\": {\"view\": {\"continuousWidth\": 400, \"continuousHeight\": 300}}, \"data\": {\"name\": \"data-3d23a3381c61efd5a9c7a8abc82c6d65\"}, \"mark\": \"point\", \"encoding\": {\"shape\": {\"type\": \"nominal\", \"field\": \"Series\"}, \"x\": {\"type\": \"quantitative\", \"field\": \"X\"}, \"y\": {\"type\": \"quantitative\", \"field\": \"Y\"}}, \"$schema\": \"https://vega.github.io/schema/vega-lite/v4.8.1.json\", \"datasets\": {\"data-3d23a3381c61efd5a9c7a8abc82c6d65\": [{\"Series\": \"I\", \"X\": 10, \"Y\": 8.04}, {\"Series\": \"I\", \"X\": 8, \"Y\": 6.95}, {\"Series\": \"I\", \"X\": 13, \"Y\": 7.58}, {\"Series\": \"I\", \"X\": 9, \"Y\": 8.81}, {\"Series\": \"I\", \"X\": 11, \"Y\": 8.33}, {\"Series\": \"I\", \"X\": 14, \"Y\": 9.96}, {\"Series\": \"I\", \"X\": 6, \"Y\": 7.24}, {\"Series\": \"I\", \"X\": 4, \"Y\": 4.26}, {\"Series\": \"I\", \"X\": 12, \"Y\": 10.84}, {\"Series\": \"I\", \"X\": 7, \"Y\": 4.8100000000000005}, {\"Series\": \"I\", \"X\": 5, \"Y\": 5.68}, {\"Series\": \"II\", \"X\": 10, \"Y\": 9.14}, {\"Series\": \"II\", \"X\": 8, \"Y\": 8.14}, {\"Series\": \"II\", \"X\": 13, \"Y\": 8.74}, {\"Series\": \"II\", \"X\": 9, \"Y\": 8.77}, {\"Series\": \"II\", \"X\": 11, \"Y\": 9.26}, {\"Series\": \"II\", \"X\": 14, \"Y\": 8.1}, {\"Series\": \"II\", \"X\": 6, \"Y\": 6.13}, {\"Series\": \"II\", \"X\": 4, \"Y\": 3.1}, {\"Series\": \"II\", \"X\": 12, \"Y\": 9.13}, {\"Series\": \"II\", \"X\": 7, \"Y\": 7.26}, {\"Series\": \"II\", \"X\": 5, \"Y\": 4.74}, {\"Series\": \"III\", \"X\": 10, \"Y\": 7.46}, {\"Series\": \"III\", \"X\": 8, \"Y\": 6.77}, {\"Series\": \"III\", \"X\": 13, \"Y\": 12.74}, {\"Series\": \"III\", \"X\": 9, \"Y\": 7.11}, {\"Series\": \"III\", \"X\": 11, \"Y\": 7.8100000000000005}, {\"Series\": \"III\", \"X\": 14, \"Y\": 8.84}, {\"Series\": \"III\", \"X\": 6, \"Y\": 6.08}, {\"Series\": \"III\", \"X\": 4, \"Y\": 5.39}, {\"Series\": \"III\", \"X\": 12, \"Y\": 8.15}, {\"Series\": \"III\", \"X\": 7, \"Y\": 6.42}, {\"Series\": \"III\", \"X\": 5, \"Y\": 5.73}, {\"Series\": \"IV\", \"X\": 8, \"Y\": 6.58}, {\"Series\": \"IV\", \"X\": 8, \"Y\": 5.76}, {\"Series\": \"IV\", \"X\": 8, \"Y\": 7.71}, {\"Series\": \"IV\", \"X\": 8, \"Y\": 8.84}, {\"Series\": \"IV\", \"X\": 8, \"Y\": 8.47}, {\"Series\": \"IV\", \"X\": 8, \"Y\": 7.04}, {\"Series\": \"IV\", \"X\": 8, \"Y\": 5.25}, {\"Series\": \"IV\", \"X\": 19, \"Y\": 12.5}, {\"Series\": \"IV\", \"X\": 8, \"Y\": 5.5600000000000005}, {\"Series\": \"IV\", \"X\": 8, \"Y\": 7.91}, {\"Series\": \"IV\", \"X\": 8, \"Y\": 6.89}]}}, {\"mode\": \"vega-lite\"});\n",
       "</script>"
      ],
      "text/plain": [
       "alt.Chart(...)"
      ]
     },
     "execution_count": 150,
     "metadata": {},
     "output_type": "execute_result"
    }
   ],
   "source": [
    "alt.Chart(dataset).mark_point().encode(\n",
    "    x='X',\n",
    "    y='Y',\n",
    "    shape=\"Series\"\n",
    ")"
   ]
  },
  {
   "cell_type": "markdown",
   "id": "13871d4e-1f98-404e-bf64-c02bb640fdf0",
   "metadata": {},
   "source": [
    "### Size"
   ]
  },
  {
   "cell_type": "code",
   "execution_count": 151,
   "id": "77856c09-ef3e-435b-94c2-eadb7131adb0",
   "metadata": {},
   "outputs": [
    {
     "data": {
      "text/html": [
       "\n",
       "<div id=\"altair-viz-7013d152ec9b4bf4bbb1d34cd5c4d272\"></div>\n",
       "<script type=\"text/javascript\">\n",
       "  (function(spec, embedOpt){\n",
       "    let outputDiv = document.currentScript.previousElementSibling;\n",
       "    if (outputDiv.id !== \"altair-viz-7013d152ec9b4bf4bbb1d34cd5c4d272\") {\n",
       "      outputDiv = document.getElementById(\"altair-viz-7013d152ec9b4bf4bbb1d34cd5c4d272\");\n",
       "    }\n",
       "    const paths = {\n",
       "      \"vega\": \"https://cdn.jsdelivr.net/npm//vega@5?noext\",\n",
       "      \"vega-lib\": \"https://cdn.jsdelivr.net/npm//vega-lib?noext\",\n",
       "      \"vega-lite\": \"https://cdn.jsdelivr.net/npm//vega-lite@4.8.1?noext\",\n",
       "      \"vega-embed\": \"https://cdn.jsdelivr.net/npm//vega-embed@6?noext\",\n",
       "    };\n",
       "\n",
       "    function loadScript(lib) {\n",
       "      return new Promise(function(resolve, reject) {\n",
       "        var s = document.createElement('script');\n",
       "        s.src = paths[lib];\n",
       "        s.async = true;\n",
       "        s.onload = () => resolve(paths[lib]);\n",
       "        s.onerror = () => reject(`Error loading script: ${paths[lib]}`);\n",
       "        document.getElementsByTagName(\"head\")[0].appendChild(s);\n",
       "      });\n",
       "    }\n",
       "\n",
       "    function showError(err) {\n",
       "      outputDiv.innerHTML = `<div class=\"error\" style=\"color:red;\">${err}</div>`;\n",
       "      throw err;\n",
       "    }\n",
       "\n",
       "    function displayChart(vegaEmbed) {\n",
       "      vegaEmbed(outputDiv, spec, embedOpt)\n",
       "        .catch(err => showError(`Javascript Error: ${err.message}<br>This usually means there's a typo in your chart specification. See the javascript console for the full traceback.`));\n",
       "    }\n",
       "\n",
       "    if(typeof define === \"function\" && define.amd) {\n",
       "      requirejs.config({paths});\n",
       "      require([\"vega-embed\"], displayChart, err => showError(`Error loading script: ${err.message}`));\n",
       "    } else if (typeof vegaEmbed === \"function\") {\n",
       "      displayChart(vegaEmbed);\n",
       "    } else {\n",
       "      loadScript(\"vega\")\n",
       "        .then(() => loadScript(\"vega-lite\"))\n",
       "        .then(() => loadScript(\"vega-embed\"))\n",
       "        .catch(showError)\n",
       "        .then(() => displayChart(vegaEmbed));\n",
       "    }\n",
       "  })({\"config\": {\"view\": {\"continuousWidth\": 400, \"continuousHeight\": 300}}, \"data\": {\"name\": \"data-3d23a3381c61efd5a9c7a8abc82c6d65\"}, \"mark\": \"circle\", \"encoding\": {\"size\": {\"type\": \"nominal\", \"field\": \"Series\"}, \"x\": {\"type\": \"quantitative\", \"field\": \"X\"}, \"y\": {\"type\": \"quantitative\", \"field\": \"Y\"}}, \"$schema\": \"https://vega.github.io/schema/vega-lite/v4.8.1.json\", \"datasets\": {\"data-3d23a3381c61efd5a9c7a8abc82c6d65\": [{\"Series\": \"I\", \"X\": 10, \"Y\": 8.04}, {\"Series\": \"I\", \"X\": 8, \"Y\": 6.95}, {\"Series\": \"I\", \"X\": 13, \"Y\": 7.58}, {\"Series\": \"I\", \"X\": 9, \"Y\": 8.81}, {\"Series\": \"I\", \"X\": 11, \"Y\": 8.33}, {\"Series\": \"I\", \"X\": 14, \"Y\": 9.96}, {\"Series\": \"I\", \"X\": 6, \"Y\": 7.24}, {\"Series\": \"I\", \"X\": 4, \"Y\": 4.26}, {\"Series\": \"I\", \"X\": 12, \"Y\": 10.84}, {\"Series\": \"I\", \"X\": 7, \"Y\": 4.8100000000000005}, {\"Series\": \"I\", \"X\": 5, \"Y\": 5.68}, {\"Series\": \"II\", \"X\": 10, \"Y\": 9.14}, {\"Series\": \"II\", \"X\": 8, \"Y\": 8.14}, {\"Series\": \"II\", \"X\": 13, \"Y\": 8.74}, {\"Series\": \"II\", \"X\": 9, \"Y\": 8.77}, {\"Series\": \"II\", \"X\": 11, \"Y\": 9.26}, {\"Series\": \"II\", \"X\": 14, \"Y\": 8.1}, {\"Series\": \"II\", \"X\": 6, \"Y\": 6.13}, {\"Series\": \"II\", \"X\": 4, \"Y\": 3.1}, {\"Series\": \"II\", \"X\": 12, \"Y\": 9.13}, {\"Series\": \"II\", \"X\": 7, \"Y\": 7.26}, {\"Series\": \"II\", \"X\": 5, \"Y\": 4.74}, {\"Series\": \"III\", \"X\": 10, \"Y\": 7.46}, {\"Series\": \"III\", \"X\": 8, \"Y\": 6.77}, {\"Series\": \"III\", \"X\": 13, \"Y\": 12.74}, {\"Series\": \"III\", \"X\": 9, \"Y\": 7.11}, {\"Series\": \"III\", \"X\": 11, \"Y\": 7.8100000000000005}, {\"Series\": \"III\", \"X\": 14, \"Y\": 8.84}, {\"Series\": \"III\", \"X\": 6, \"Y\": 6.08}, {\"Series\": \"III\", \"X\": 4, \"Y\": 5.39}, {\"Series\": \"III\", \"X\": 12, \"Y\": 8.15}, {\"Series\": \"III\", \"X\": 7, \"Y\": 6.42}, {\"Series\": \"III\", \"X\": 5, \"Y\": 5.73}, {\"Series\": \"IV\", \"X\": 8, \"Y\": 6.58}, {\"Series\": \"IV\", \"X\": 8, \"Y\": 5.76}, {\"Series\": \"IV\", \"X\": 8, \"Y\": 7.71}, {\"Series\": \"IV\", \"X\": 8, \"Y\": 8.84}, {\"Series\": \"IV\", \"X\": 8, \"Y\": 8.47}, {\"Series\": \"IV\", \"X\": 8, \"Y\": 7.04}, {\"Series\": \"IV\", \"X\": 8, \"Y\": 5.25}, {\"Series\": \"IV\", \"X\": 19, \"Y\": 12.5}, {\"Series\": \"IV\", \"X\": 8, \"Y\": 5.5600000000000005}, {\"Series\": \"IV\", \"X\": 8, \"Y\": 7.91}, {\"Series\": \"IV\", \"X\": 8, \"Y\": 6.89}]}}, {\"mode\": \"vega-lite\"});\n",
       "</script>"
      ],
      "text/plain": [
       "alt.Chart(...)"
      ]
     },
     "execution_count": 151,
     "metadata": {},
     "output_type": "execute_result"
    }
   ],
   "source": [
    "alt.Chart(dataset).mark_circle().encode(\n",
    "    x='X',\n",
    "    y='Y',\n",
    "    size=\"Series\"\n",
    ")"
   ]
  },
  {
   "cell_type": "markdown",
   "id": "94b6599b-ada9-4ec4-9acd-8f1838059b10",
   "metadata": {},
   "source": [
    "### Opacity"
   ]
  },
  {
   "cell_type": "code",
   "execution_count": 162,
   "id": "395b50a3-df60-41f8-b4bc-c5f44b64058f",
   "metadata": {},
   "outputs": [
    {
     "data": {
      "text/html": [
       "\n",
       "<div id=\"altair-viz-1cd895cadfb347f98d33c601f775bea5\"></div>\n",
       "<script type=\"text/javascript\">\n",
       "  (function(spec, embedOpt){\n",
       "    let outputDiv = document.currentScript.previousElementSibling;\n",
       "    if (outputDiv.id !== \"altair-viz-1cd895cadfb347f98d33c601f775bea5\") {\n",
       "      outputDiv = document.getElementById(\"altair-viz-1cd895cadfb347f98d33c601f775bea5\");\n",
       "    }\n",
       "    const paths = {\n",
       "      \"vega\": \"https://cdn.jsdelivr.net/npm//vega@5?noext\",\n",
       "      \"vega-lib\": \"https://cdn.jsdelivr.net/npm//vega-lib?noext\",\n",
       "      \"vega-lite\": \"https://cdn.jsdelivr.net/npm//vega-lite@4.8.1?noext\",\n",
       "      \"vega-embed\": \"https://cdn.jsdelivr.net/npm//vega-embed@6?noext\",\n",
       "    };\n",
       "\n",
       "    function loadScript(lib) {\n",
       "      return new Promise(function(resolve, reject) {\n",
       "        var s = document.createElement('script');\n",
       "        s.src = paths[lib];\n",
       "        s.async = true;\n",
       "        s.onload = () => resolve(paths[lib]);\n",
       "        s.onerror = () => reject(`Error loading script: ${paths[lib]}`);\n",
       "        document.getElementsByTagName(\"head\")[0].appendChild(s);\n",
       "      });\n",
       "    }\n",
       "\n",
       "    function showError(err) {\n",
       "      outputDiv.innerHTML = `<div class=\"error\" style=\"color:red;\">${err}</div>`;\n",
       "      throw err;\n",
       "    }\n",
       "\n",
       "    function displayChart(vegaEmbed) {\n",
       "      vegaEmbed(outputDiv, spec, embedOpt)\n",
       "        .catch(err => showError(`Javascript Error: ${err.message}<br>This usually means there's a typo in your chart specification. See the javascript console for the full traceback.`));\n",
       "    }\n",
       "\n",
       "    if(typeof define === \"function\" && define.amd) {\n",
       "      requirejs.config({paths});\n",
       "      require([\"vega-embed\"], displayChart, err => showError(`Error loading script: ${err.message}`));\n",
       "    } else if (typeof vegaEmbed === \"function\") {\n",
       "      displayChart(vegaEmbed);\n",
       "    } else {\n",
       "      loadScript(\"vega\")\n",
       "        .then(() => loadScript(\"vega-lite\"))\n",
       "        .then(() => loadScript(\"vega-embed\"))\n",
       "        .catch(showError)\n",
       "        .then(() => displayChart(vegaEmbed));\n",
       "    }\n",
       "  })({\"config\": {\"view\": {\"continuousWidth\": 400, \"continuousHeight\": 300}}, \"data\": {\"name\": \"data-3d23a3381c61efd5a9c7a8abc82c6d65\"}, \"mark\": \"point\", \"encoding\": {\"strokeDash\": {\"type\": \"nominal\", \"field\": \"Series\"}, \"x\": {\"type\": \"quantitative\", \"field\": \"X\"}, \"y\": {\"type\": \"quantitative\", \"field\": \"Y\"}}, \"$schema\": \"https://vega.github.io/schema/vega-lite/v4.8.1.json\", \"datasets\": {\"data-3d23a3381c61efd5a9c7a8abc82c6d65\": [{\"Series\": \"I\", \"X\": 10, \"Y\": 8.04}, {\"Series\": \"I\", \"X\": 8, \"Y\": 6.95}, {\"Series\": \"I\", \"X\": 13, \"Y\": 7.58}, {\"Series\": \"I\", \"X\": 9, \"Y\": 8.81}, {\"Series\": \"I\", \"X\": 11, \"Y\": 8.33}, {\"Series\": \"I\", \"X\": 14, \"Y\": 9.96}, {\"Series\": \"I\", \"X\": 6, \"Y\": 7.24}, {\"Series\": \"I\", \"X\": 4, \"Y\": 4.26}, {\"Series\": \"I\", \"X\": 12, \"Y\": 10.84}, {\"Series\": \"I\", \"X\": 7, \"Y\": 4.8100000000000005}, {\"Series\": \"I\", \"X\": 5, \"Y\": 5.68}, {\"Series\": \"II\", \"X\": 10, \"Y\": 9.14}, {\"Series\": \"II\", \"X\": 8, \"Y\": 8.14}, {\"Series\": \"II\", \"X\": 13, \"Y\": 8.74}, {\"Series\": \"II\", \"X\": 9, \"Y\": 8.77}, {\"Series\": \"II\", \"X\": 11, \"Y\": 9.26}, {\"Series\": \"II\", \"X\": 14, \"Y\": 8.1}, {\"Series\": \"II\", \"X\": 6, \"Y\": 6.13}, {\"Series\": \"II\", \"X\": 4, \"Y\": 3.1}, {\"Series\": \"II\", \"X\": 12, \"Y\": 9.13}, {\"Series\": \"II\", \"X\": 7, \"Y\": 7.26}, {\"Series\": \"II\", \"X\": 5, \"Y\": 4.74}, {\"Series\": \"III\", \"X\": 10, \"Y\": 7.46}, {\"Series\": \"III\", \"X\": 8, \"Y\": 6.77}, {\"Series\": \"III\", \"X\": 13, \"Y\": 12.74}, {\"Series\": \"III\", \"X\": 9, \"Y\": 7.11}, {\"Series\": \"III\", \"X\": 11, \"Y\": 7.8100000000000005}, {\"Series\": \"III\", \"X\": 14, \"Y\": 8.84}, {\"Series\": \"III\", \"X\": 6, \"Y\": 6.08}, {\"Series\": \"III\", \"X\": 4, \"Y\": 5.39}, {\"Series\": \"III\", \"X\": 12, \"Y\": 8.15}, {\"Series\": \"III\", \"X\": 7, \"Y\": 6.42}, {\"Series\": \"III\", \"X\": 5, \"Y\": 5.73}, {\"Series\": \"IV\", \"X\": 8, \"Y\": 6.58}, {\"Series\": \"IV\", \"X\": 8, \"Y\": 5.76}, {\"Series\": \"IV\", \"X\": 8, \"Y\": 7.71}, {\"Series\": \"IV\", \"X\": 8, \"Y\": 8.84}, {\"Series\": \"IV\", \"X\": 8, \"Y\": 8.47}, {\"Series\": \"IV\", \"X\": 8, \"Y\": 7.04}, {\"Series\": \"IV\", \"X\": 8, \"Y\": 5.25}, {\"Series\": \"IV\", \"X\": 19, \"Y\": 12.5}, {\"Series\": \"IV\", \"X\": 8, \"Y\": 5.5600000000000005}, {\"Series\": \"IV\", \"X\": 8, \"Y\": 7.91}, {\"Series\": \"IV\", \"X\": 8, \"Y\": 6.89}]}}, {\"mode\": \"vega-lite\"});\n",
       "</script>"
      ],
      "text/plain": [
       "alt.Chart(...)"
      ]
     },
     "execution_count": 162,
     "metadata": {},
     "output_type": "execute_result"
    }
   ],
   "source": [
    "alt.Chart(dataset).mark_point().encode(\n",
    "    x='X',\n",
    "    y='Y',\n",
    "    strokeDash=\"Series\"\n",
    ")"
   ]
  },
  {
   "cell_type": "markdown",
   "id": "4031afbb-e296-4d20-bbc9-f210e75864a9",
   "metadata": {},
   "source": [
    "### Opacity"
   ]
  },
  {
   "cell_type": "code",
   "execution_count": 159,
   "id": "5303f320-7fe4-4bf9-a5aa-046921ce26ee",
   "metadata": {},
   "outputs": [
    {
     "data": {
      "text/html": [
       "\n",
       "<div id=\"altair-viz-9586958f6d414068b973eb54e654be00\"></div>\n",
       "<script type=\"text/javascript\">\n",
       "  (function(spec, embedOpt){\n",
       "    let outputDiv = document.currentScript.previousElementSibling;\n",
       "    if (outputDiv.id !== \"altair-viz-9586958f6d414068b973eb54e654be00\") {\n",
       "      outputDiv = document.getElementById(\"altair-viz-9586958f6d414068b973eb54e654be00\");\n",
       "    }\n",
       "    const paths = {\n",
       "      \"vega\": \"https://cdn.jsdelivr.net/npm//vega@5?noext\",\n",
       "      \"vega-lib\": \"https://cdn.jsdelivr.net/npm//vega-lib?noext\",\n",
       "      \"vega-lite\": \"https://cdn.jsdelivr.net/npm//vega-lite@4.8.1?noext\",\n",
       "      \"vega-embed\": \"https://cdn.jsdelivr.net/npm//vega-embed@6?noext\",\n",
       "    };\n",
       "\n",
       "    function loadScript(lib) {\n",
       "      return new Promise(function(resolve, reject) {\n",
       "        var s = document.createElement('script');\n",
       "        s.src = paths[lib];\n",
       "        s.async = true;\n",
       "        s.onload = () => resolve(paths[lib]);\n",
       "        s.onerror = () => reject(`Error loading script: ${paths[lib]}`);\n",
       "        document.getElementsByTagName(\"head\")[0].appendChild(s);\n",
       "      });\n",
       "    }\n",
       "\n",
       "    function showError(err) {\n",
       "      outputDiv.innerHTML = `<div class=\"error\" style=\"color:red;\">${err}</div>`;\n",
       "      throw err;\n",
       "    }\n",
       "\n",
       "    function displayChart(vegaEmbed) {\n",
       "      vegaEmbed(outputDiv, spec, embedOpt)\n",
       "        .catch(err => showError(`Javascript Error: ${err.message}<br>This usually means there's a typo in your chart specification. See the javascript console for the full traceback.`));\n",
       "    }\n",
       "\n",
       "    if(typeof define === \"function\" && define.amd) {\n",
       "      requirejs.config({paths});\n",
       "      require([\"vega-embed\"], displayChart, err => showError(`Error loading script: ${err.message}`));\n",
       "    } else if (typeof vegaEmbed === \"function\") {\n",
       "      displayChart(vegaEmbed);\n",
       "    } else {\n",
       "      loadScript(\"vega\")\n",
       "        .then(() => loadScript(\"vega-lite\"))\n",
       "        .then(() => loadScript(\"vega-embed\"))\n",
       "        .catch(showError)\n",
       "        .then(() => displayChart(vegaEmbed));\n",
       "    }\n",
       "  })({\"config\": {\"view\": {\"continuousWidth\": 400, \"continuousHeight\": 300}}, \"data\": {\"name\": \"data-3d23a3381c61efd5a9c7a8abc82c6d65\"}, \"mark\": \"point\", \"encoding\": {\"opacity\": {\"type\": \"nominal\", \"field\": \"Series\"}, \"x\": {\"type\": \"quantitative\", \"field\": \"X\"}, \"y\": {\"type\": \"quantitative\", \"field\": \"Y\"}}, \"$schema\": \"https://vega.github.io/schema/vega-lite/v4.8.1.json\", \"datasets\": {\"data-3d23a3381c61efd5a9c7a8abc82c6d65\": [{\"Series\": \"I\", \"X\": 10, \"Y\": 8.04}, {\"Series\": \"I\", \"X\": 8, \"Y\": 6.95}, {\"Series\": \"I\", \"X\": 13, \"Y\": 7.58}, {\"Series\": \"I\", \"X\": 9, \"Y\": 8.81}, {\"Series\": \"I\", \"X\": 11, \"Y\": 8.33}, {\"Series\": \"I\", \"X\": 14, \"Y\": 9.96}, {\"Series\": \"I\", \"X\": 6, \"Y\": 7.24}, {\"Series\": \"I\", \"X\": 4, \"Y\": 4.26}, {\"Series\": \"I\", \"X\": 12, \"Y\": 10.84}, {\"Series\": \"I\", \"X\": 7, \"Y\": 4.8100000000000005}, {\"Series\": \"I\", \"X\": 5, \"Y\": 5.68}, {\"Series\": \"II\", \"X\": 10, \"Y\": 9.14}, {\"Series\": \"II\", \"X\": 8, \"Y\": 8.14}, {\"Series\": \"II\", \"X\": 13, \"Y\": 8.74}, {\"Series\": \"II\", \"X\": 9, \"Y\": 8.77}, {\"Series\": \"II\", \"X\": 11, \"Y\": 9.26}, {\"Series\": \"II\", \"X\": 14, \"Y\": 8.1}, {\"Series\": \"II\", \"X\": 6, \"Y\": 6.13}, {\"Series\": \"II\", \"X\": 4, \"Y\": 3.1}, {\"Series\": \"II\", \"X\": 12, \"Y\": 9.13}, {\"Series\": \"II\", \"X\": 7, \"Y\": 7.26}, {\"Series\": \"II\", \"X\": 5, \"Y\": 4.74}, {\"Series\": \"III\", \"X\": 10, \"Y\": 7.46}, {\"Series\": \"III\", \"X\": 8, \"Y\": 6.77}, {\"Series\": \"III\", \"X\": 13, \"Y\": 12.74}, {\"Series\": \"III\", \"X\": 9, \"Y\": 7.11}, {\"Series\": \"III\", \"X\": 11, \"Y\": 7.8100000000000005}, {\"Series\": \"III\", \"X\": 14, \"Y\": 8.84}, {\"Series\": \"III\", \"X\": 6, \"Y\": 6.08}, {\"Series\": \"III\", \"X\": 4, \"Y\": 5.39}, {\"Series\": \"III\", \"X\": 12, \"Y\": 8.15}, {\"Series\": \"III\", \"X\": 7, \"Y\": 6.42}, {\"Series\": \"III\", \"X\": 5, \"Y\": 5.73}, {\"Series\": \"IV\", \"X\": 8, \"Y\": 6.58}, {\"Series\": \"IV\", \"X\": 8, \"Y\": 5.76}, {\"Series\": \"IV\", \"X\": 8, \"Y\": 7.71}, {\"Series\": \"IV\", \"X\": 8, \"Y\": 8.84}, {\"Series\": \"IV\", \"X\": 8, \"Y\": 8.47}, {\"Series\": \"IV\", \"X\": 8, \"Y\": 7.04}, {\"Series\": \"IV\", \"X\": 8, \"Y\": 5.25}, {\"Series\": \"IV\", \"X\": 19, \"Y\": 12.5}, {\"Series\": \"IV\", \"X\": 8, \"Y\": 5.5600000000000005}, {\"Series\": \"IV\", \"X\": 8, \"Y\": 7.91}, {\"Series\": \"IV\", \"X\": 8, \"Y\": 6.89}]}}, {\"mode\": \"vega-lite\"});\n",
       "</script>"
      ],
      "text/plain": [
       "alt.Chart(...)"
      ]
     },
     "execution_count": 159,
     "metadata": {},
     "output_type": "execute_result"
    }
   ],
   "source": [
    "alt.Chart(dataset).mark_point().encode(\n",
    "    x='X',\n",
    "    y='Y',\n",
    "    opacity=\"Series\"\n",
    ")"
   ]
  },
  {
   "cell_type": "markdown",
   "id": "7a832a0a-1993-442b-a2bd-d19fa7bad627",
   "metadata": {},
   "source": [
    "### Color"
   ]
  },
  {
   "cell_type": "code",
   "execution_count": 154,
   "id": "a217044a-8f4b-45e3-8c47-4f71443e881e",
   "metadata": {},
   "outputs": [
    {
     "data": {
      "text/html": [
       "\n",
       "<div id=\"altair-viz-87dada85391c4035a3805e11bd4b431d\"></div>\n",
       "<script type=\"text/javascript\">\n",
       "  (function(spec, embedOpt){\n",
       "    let outputDiv = document.currentScript.previousElementSibling;\n",
       "    if (outputDiv.id !== \"altair-viz-87dada85391c4035a3805e11bd4b431d\") {\n",
       "      outputDiv = document.getElementById(\"altair-viz-87dada85391c4035a3805e11bd4b431d\");\n",
       "    }\n",
       "    const paths = {\n",
       "      \"vega\": \"https://cdn.jsdelivr.net/npm//vega@5?noext\",\n",
       "      \"vega-lib\": \"https://cdn.jsdelivr.net/npm//vega-lib?noext\",\n",
       "      \"vega-lite\": \"https://cdn.jsdelivr.net/npm//vega-lite@4.8.1?noext\",\n",
       "      \"vega-embed\": \"https://cdn.jsdelivr.net/npm//vega-embed@6?noext\",\n",
       "    };\n",
       "\n",
       "    function loadScript(lib) {\n",
       "      return new Promise(function(resolve, reject) {\n",
       "        var s = document.createElement('script');\n",
       "        s.src = paths[lib];\n",
       "        s.async = true;\n",
       "        s.onload = () => resolve(paths[lib]);\n",
       "        s.onerror = () => reject(`Error loading script: ${paths[lib]}`);\n",
       "        document.getElementsByTagName(\"head\")[0].appendChild(s);\n",
       "      });\n",
       "    }\n",
       "\n",
       "    function showError(err) {\n",
       "      outputDiv.innerHTML = `<div class=\"error\" style=\"color:red;\">${err}</div>`;\n",
       "      throw err;\n",
       "    }\n",
       "\n",
       "    function displayChart(vegaEmbed) {\n",
       "      vegaEmbed(outputDiv, spec, embedOpt)\n",
       "        .catch(err => showError(`Javascript Error: ${err.message}<br>This usually means there's a typo in your chart specification. See the javascript console for the full traceback.`));\n",
       "    }\n",
       "\n",
       "    if(typeof define === \"function\" && define.amd) {\n",
       "      requirejs.config({paths});\n",
       "      require([\"vega-embed\"], displayChart, err => showError(`Error loading script: ${err.message}`));\n",
       "    } else if (typeof vegaEmbed === \"function\") {\n",
       "      displayChart(vegaEmbed);\n",
       "    } else {\n",
       "      loadScript(\"vega\")\n",
       "        .then(() => loadScript(\"vega-lite\"))\n",
       "        .then(() => loadScript(\"vega-embed\"))\n",
       "        .catch(showError)\n",
       "        .then(() => displayChart(vegaEmbed));\n",
       "    }\n",
       "  })({\"config\": {\"view\": {\"continuousWidth\": 400, \"continuousHeight\": 300}}, \"data\": {\"name\": \"data-3d23a3381c61efd5a9c7a8abc82c6d65\"}, \"mark\": \"point\", \"encoding\": {\"color\": {\"type\": \"nominal\", \"field\": \"Series\"}, \"x\": {\"type\": \"quantitative\", \"field\": \"X\"}, \"y\": {\"type\": \"quantitative\", \"field\": \"Y\"}}, \"$schema\": \"https://vega.github.io/schema/vega-lite/v4.8.1.json\", \"datasets\": {\"data-3d23a3381c61efd5a9c7a8abc82c6d65\": [{\"Series\": \"I\", \"X\": 10, \"Y\": 8.04}, {\"Series\": \"I\", \"X\": 8, \"Y\": 6.95}, {\"Series\": \"I\", \"X\": 13, \"Y\": 7.58}, {\"Series\": \"I\", \"X\": 9, \"Y\": 8.81}, {\"Series\": \"I\", \"X\": 11, \"Y\": 8.33}, {\"Series\": \"I\", \"X\": 14, \"Y\": 9.96}, {\"Series\": \"I\", \"X\": 6, \"Y\": 7.24}, {\"Series\": \"I\", \"X\": 4, \"Y\": 4.26}, {\"Series\": \"I\", \"X\": 12, \"Y\": 10.84}, {\"Series\": \"I\", \"X\": 7, \"Y\": 4.8100000000000005}, {\"Series\": \"I\", \"X\": 5, \"Y\": 5.68}, {\"Series\": \"II\", \"X\": 10, \"Y\": 9.14}, {\"Series\": \"II\", \"X\": 8, \"Y\": 8.14}, {\"Series\": \"II\", \"X\": 13, \"Y\": 8.74}, {\"Series\": \"II\", \"X\": 9, \"Y\": 8.77}, {\"Series\": \"II\", \"X\": 11, \"Y\": 9.26}, {\"Series\": \"II\", \"X\": 14, \"Y\": 8.1}, {\"Series\": \"II\", \"X\": 6, \"Y\": 6.13}, {\"Series\": \"II\", \"X\": 4, \"Y\": 3.1}, {\"Series\": \"II\", \"X\": 12, \"Y\": 9.13}, {\"Series\": \"II\", \"X\": 7, \"Y\": 7.26}, {\"Series\": \"II\", \"X\": 5, \"Y\": 4.74}, {\"Series\": \"III\", \"X\": 10, \"Y\": 7.46}, {\"Series\": \"III\", \"X\": 8, \"Y\": 6.77}, {\"Series\": \"III\", \"X\": 13, \"Y\": 12.74}, {\"Series\": \"III\", \"X\": 9, \"Y\": 7.11}, {\"Series\": \"III\", \"X\": 11, \"Y\": 7.8100000000000005}, {\"Series\": \"III\", \"X\": 14, \"Y\": 8.84}, {\"Series\": \"III\", \"X\": 6, \"Y\": 6.08}, {\"Series\": \"III\", \"X\": 4, \"Y\": 5.39}, {\"Series\": \"III\", \"X\": 12, \"Y\": 8.15}, {\"Series\": \"III\", \"X\": 7, \"Y\": 6.42}, {\"Series\": \"III\", \"X\": 5, \"Y\": 5.73}, {\"Series\": \"IV\", \"X\": 8, \"Y\": 6.58}, {\"Series\": \"IV\", \"X\": 8, \"Y\": 5.76}, {\"Series\": \"IV\", \"X\": 8, \"Y\": 7.71}, {\"Series\": \"IV\", \"X\": 8, \"Y\": 8.84}, {\"Series\": \"IV\", \"X\": 8, \"Y\": 8.47}, {\"Series\": \"IV\", \"X\": 8, \"Y\": 7.04}, {\"Series\": \"IV\", \"X\": 8, \"Y\": 5.25}, {\"Series\": \"IV\", \"X\": 19, \"Y\": 12.5}, {\"Series\": \"IV\", \"X\": 8, \"Y\": 5.5600000000000005}, {\"Series\": \"IV\", \"X\": 8, \"Y\": 7.91}, {\"Series\": \"IV\", \"X\": 8, \"Y\": 6.89}]}}, {\"mode\": \"vega-lite\"});\n",
       "</script>"
      ],
      "text/plain": [
       "alt.Chart(...)"
      ]
     },
     "execution_count": 154,
     "metadata": {},
     "output_type": "execute_result"
    }
   ],
   "source": [
    "alt.Chart(dataset).mark_point().encode(\n",
    "    x='X',\n",
    "    y='Y',\n",
    "    color=\"Series\"\n",
    ")"
   ]
  },
  {
   "cell_type": "markdown",
   "id": "cad3b2b7-4403-4029-8b2d-f0cb3f7f3c0f",
   "metadata": {},
   "source": [
    "### With Data Type"
   ]
  },
  {
   "cell_type": "code",
   "execution_count": 167,
   "id": "2bb4bd05-27f2-4c45-963b-2a146bf37f49",
   "metadata": {},
   "outputs": [
    {
     "data": {
      "text/html": [
       "\n",
       "<div id=\"altair-viz-babc79a3955b4eae910691895d313483\"></div>\n",
       "<script type=\"text/javascript\">\n",
       "  (function(spec, embedOpt){\n",
       "    let outputDiv = document.currentScript.previousElementSibling;\n",
       "    if (outputDiv.id !== \"altair-viz-babc79a3955b4eae910691895d313483\") {\n",
       "      outputDiv = document.getElementById(\"altair-viz-babc79a3955b4eae910691895d313483\");\n",
       "    }\n",
       "    const paths = {\n",
       "      \"vega\": \"https://cdn.jsdelivr.net/npm//vega@5?noext\",\n",
       "      \"vega-lib\": \"https://cdn.jsdelivr.net/npm//vega-lib?noext\",\n",
       "      \"vega-lite\": \"https://cdn.jsdelivr.net/npm//vega-lite@4.8.1?noext\",\n",
       "      \"vega-embed\": \"https://cdn.jsdelivr.net/npm//vega-embed@6?noext\",\n",
       "    };\n",
       "\n",
       "    function loadScript(lib) {\n",
       "      return new Promise(function(resolve, reject) {\n",
       "        var s = document.createElement('script');\n",
       "        s.src = paths[lib];\n",
       "        s.async = true;\n",
       "        s.onload = () => resolve(paths[lib]);\n",
       "        s.onerror = () => reject(`Error loading script: ${paths[lib]}`);\n",
       "        document.getElementsByTagName(\"head\")[0].appendChild(s);\n",
       "      });\n",
       "    }\n",
       "\n",
       "    function showError(err) {\n",
       "      outputDiv.innerHTML = `<div class=\"error\" style=\"color:red;\">${err}</div>`;\n",
       "      throw err;\n",
       "    }\n",
       "\n",
       "    function displayChart(vegaEmbed) {\n",
       "      vegaEmbed(outputDiv, spec, embedOpt)\n",
       "        .catch(err => showError(`Javascript Error: ${err.message}<br>This usually means there's a typo in your chart specification. See the javascript console for the full traceback.`));\n",
       "    }\n",
       "\n",
       "    if(typeof define === \"function\" && define.amd) {\n",
       "      requirejs.config({paths});\n",
       "      require([\"vega-embed\"], displayChart, err => showError(`Error loading script: ${err.message}`));\n",
       "    } else if (typeof vegaEmbed === \"function\") {\n",
       "      displayChart(vegaEmbed);\n",
       "    } else {\n",
       "      loadScript(\"vega\")\n",
       "        .then(() => loadScript(\"vega-lite\"))\n",
       "        .then(() => loadScript(\"vega-embed\"))\n",
       "        .catch(showError)\n",
       "        .then(() => displayChart(vegaEmbed));\n",
       "    }\n",
       "  })({\"config\": {\"view\": {\"continuousWidth\": 400, \"continuousHeight\": 300}}, \"data\": {\"name\": \"data-3d23a3381c61efd5a9c7a8abc82c6d65\"}, \"mark\": \"point\", \"encoding\": {\"color\": {\"type\": \"ordinal\", \"field\": \"Series\"}, \"x\": {\"type\": \"quantitative\", \"field\": \"X\"}, \"y\": {\"type\": \"quantitative\", \"field\": \"Y\"}}, \"$schema\": \"https://vega.github.io/schema/vega-lite/v4.8.1.json\", \"datasets\": {\"data-3d23a3381c61efd5a9c7a8abc82c6d65\": [{\"Series\": \"I\", \"X\": 10, \"Y\": 8.04}, {\"Series\": \"I\", \"X\": 8, \"Y\": 6.95}, {\"Series\": \"I\", \"X\": 13, \"Y\": 7.58}, {\"Series\": \"I\", \"X\": 9, \"Y\": 8.81}, {\"Series\": \"I\", \"X\": 11, \"Y\": 8.33}, {\"Series\": \"I\", \"X\": 14, \"Y\": 9.96}, {\"Series\": \"I\", \"X\": 6, \"Y\": 7.24}, {\"Series\": \"I\", \"X\": 4, \"Y\": 4.26}, {\"Series\": \"I\", \"X\": 12, \"Y\": 10.84}, {\"Series\": \"I\", \"X\": 7, \"Y\": 4.8100000000000005}, {\"Series\": \"I\", \"X\": 5, \"Y\": 5.68}, {\"Series\": \"II\", \"X\": 10, \"Y\": 9.14}, {\"Series\": \"II\", \"X\": 8, \"Y\": 8.14}, {\"Series\": \"II\", \"X\": 13, \"Y\": 8.74}, {\"Series\": \"II\", \"X\": 9, \"Y\": 8.77}, {\"Series\": \"II\", \"X\": 11, \"Y\": 9.26}, {\"Series\": \"II\", \"X\": 14, \"Y\": 8.1}, {\"Series\": \"II\", \"X\": 6, \"Y\": 6.13}, {\"Series\": \"II\", \"X\": 4, \"Y\": 3.1}, {\"Series\": \"II\", \"X\": 12, \"Y\": 9.13}, {\"Series\": \"II\", \"X\": 7, \"Y\": 7.26}, {\"Series\": \"II\", \"X\": 5, \"Y\": 4.74}, {\"Series\": \"III\", \"X\": 10, \"Y\": 7.46}, {\"Series\": \"III\", \"X\": 8, \"Y\": 6.77}, {\"Series\": \"III\", \"X\": 13, \"Y\": 12.74}, {\"Series\": \"III\", \"X\": 9, \"Y\": 7.11}, {\"Series\": \"III\", \"X\": 11, \"Y\": 7.8100000000000005}, {\"Series\": \"III\", \"X\": 14, \"Y\": 8.84}, {\"Series\": \"III\", \"X\": 6, \"Y\": 6.08}, {\"Series\": \"III\", \"X\": 4, \"Y\": 5.39}, {\"Series\": \"III\", \"X\": 12, \"Y\": 8.15}, {\"Series\": \"III\", \"X\": 7, \"Y\": 6.42}, {\"Series\": \"III\", \"X\": 5, \"Y\": 5.73}, {\"Series\": \"IV\", \"X\": 8, \"Y\": 6.58}, {\"Series\": \"IV\", \"X\": 8, \"Y\": 5.76}, {\"Series\": \"IV\", \"X\": 8, \"Y\": 7.71}, {\"Series\": \"IV\", \"X\": 8, \"Y\": 8.84}, {\"Series\": \"IV\", \"X\": 8, \"Y\": 8.47}, {\"Series\": \"IV\", \"X\": 8, \"Y\": 7.04}, {\"Series\": \"IV\", \"X\": 8, \"Y\": 5.25}, {\"Series\": \"IV\", \"X\": 19, \"Y\": 12.5}, {\"Series\": \"IV\", \"X\": 8, \"Y\": 5.5600000000000005}, {\"Series\": \"IV\", \"X\": 8, \"Y\": 7.91}, {\"Series\": \"IV\", \"X\": 8, \"Y\": 6.89}]}}, {\"mode\": \"vega-lite\"});\n",
       "</script>"
      ],
      "text/plain": [
       "alt.Chart(...)"
      ]
     },
     "execution_count": 167,
     "metadata": {},
     "output_type": "execute_result"
    }
   ],
   "source": [
    "alt.Chart(dataset).mark_point().encode(\n",
    "    x='X',\n",
    "    y='Y',\n",
    "    color=\"Series:O\"\n",
    ")"
   ]
  },
  {
   "cell_type": "code",
   "execution_count": 168,
   "id": "4b9b858f-d060-452f-a48b-e03909040778",
   "metadata": {},
   "outputs": [
    {
     "data": {
      "text/html": [
       "\n",
       "<div id=\"altair-viz-6b025a42a5fc4dd1a40fd9e4f877ad8a\"></div>\n",
       "<script type=\"text/javascript\">\n",
       "  (function(spec, embedOpt){\n",
       "    let outputDiv = document.currentScript.previousElementSibling;\n",
       "    if (outputDiv.id !== \"altair-viz-6b025a42a5fc4dd1a40fd9e4f877ad8a\") {\n",
       "      outputDiv = document.getElementById(\"altair-viz-6b025a42a5fc4dd1a40fd9e4f877ad8a\");\n",
       "    }\n",
       "    const paths = {\n",
       "      \"vega\": \"https://cdn.jsdelivr.net/npm//vega@5?noext\",\n",
       "      \"vega-lib\": \"https://cdn.jsdelivr.net/npm//vega-lib?noext\",\n",
       "      \"vega-lite\": \"https://cdn.jsdelivr.net/npm//vega-lite@4.8.1?noext\",\n",
       "      \"vega-embed\": \"https://cdn.jsdelivr.net/npm//vega-embed@6?noext\",\n",
       "    };\n",
       "\n",
       "    function loadScript(lib) {\n",
       "      return new Promise(function(resolve, reject) {\n",
       "        var s = document.createElement('script');\n",
       "        s.src = paths[lib];\n",
       "        s.async = true;\n",
       "        s.onload = () => resolve(paths[lib]);\n",
       "        s.onerror = () => reject(`Error loading script: ${paths[lib]}`);\n",
       "        document.getElementsByTagName(\"head\")[0].appendChild(s);\n",
       "      });\n",
       "    }\n",
       "\n",
       "    function showError(err) {\n",
       "      outputDiv.innerHTML = `<div class=\"error\" style=\"color:red;\">${err}</div>`;\n",
       "      throw err;\n",
       "    }\n",
       "\n",
       "    function displayChart(vegaEmbed) {\n",
       "      vegaEmbed(outputDiv, spec, embedOpt)\n",
       "        .catch(err => showError(`Javascript Error: ${err.message}<br>This usually means there's a typo in your chart specification. See the javascript console for the full traceback.`));\n",
       "    }\n",
       "\n",
       "    if(typeof define === \"function\" && define.amd) {\n",
       "      requirejs.config({paths});\n",
       "      require([\"vega-embed\"], displayChart, err => showError(`Error loading script: ${err.message}`));\n",
       "    } else if (typeof vegaEmbed === \"function\") {\n",
       "      displayChart(vegaEmbed);\n",
       "    } else {\n",
       "      loadScript(\"vega\")\n",
       "        .then(() => loadScript(\"vega-lite\"))\n",
       "        .then(() => loadScript(\"vega-embed\"))\n",
       "        .catch(showError)\n",
       "        .then(() => displayChart(vegaEmbed));\n",
       "    }\n",
       "  })({\"config\": {\"view\": {\"continuousWidth\": 400, \"continuousHeight\": 300}}, \"data\": {\"name\": \"data-3d23a3381c61efd5a9c7a8abc82c6d65\"}, \"mark\": \"point\", \"encoding\": {\"color\": {\"type\": \"nominal\", \"field\": \"Series\"}, \"x\": {\"type\": \"quantitative\", \"field\": \"X\"}, \"y\": {\"type\": \"quantitative\", \"field\": \"Y\"}}, \"$schema\": \"https://vega.github.io/schema/vega-lite/v4.8.1.json\", \"datasets\": {\"data-3d23a3381c61efd5a9c7a8abc82c6d65\": [{\"Series\": \"I\", \"X\": 10, \"Y\": 8.04}, {\"Series\": \"I\", \"X\": 8, \"Y\": 6.95}, {\"Series\": \"I\", \"X\": 13, \"Y\": 7.58}, {\"Series\": \"I\", \"X\": 9, \"Y\": 8.81}, {\"Series\": \"I\", \"X\": 11, \"Y\": 8.33}, {\"Series\": \"I\", \"X\": 14, \"Y\": 9.96}, {\"Series\": \"I\", \"X\": 6, \"Y\": 7.24}, {\"Series\": \"I\", \"X\": 4, \"Y\": 4.26}, {\"Series\": \"I\", \"X\": 12, \"Y\": 10.84}, {\"Series\": \"I\", \"X\": 7, \"Y\": 4.8100000000000005}, {\"Series\": \"I\", \"X\": 5, \"Y\": 5.68}, {\"Series\": \"II\", \"X\": 10, \"Y\": 9.14}, {\"Series\": \"II\", \"X\": 8, \"Y\": 8.14}, {\"Series\": \"II\", \"X\": 13, \"Y\": 8.74}, {\"Series\": \"II\", \"X\": 9, \"Y\": 8.77}, {\"Series\": \"II\", \"X\": 11, \"Y\": 9.26}, {\"Series\": \"II\", \"X\": 14, \"Y\": 8.1}, {\"Series\": \"II\", \"X\": 6, \"Y\": 6.13}, {\"Series\": \"II\", \"X\": 4, \"Y\": 3.1}, {\"Series\": \"II\", \"X\": 12, \"Y\": 9.13}, {\"Series\": \"II\", \"X\": 7, \"Y\": 7.26}, {\"Series\": \"II\", \"X\": 5, \"Y\": 4.74}, {\"Series\": \"III\", \"X\": 10, \"Y\": 7.46}, {\"Series\": \"III\", \"X\": 8, \"Y\": 6.77}, {\"Series\": \"III\", \"X\": 13, \"Y\": 12.74}, {\"Series\": \"III\", \"X\": 9, \"Y\": 7.11}, {\"Series\": \"III\", \"X\": 11, \"Y\": 7.8100000000000005}, {\"Series\": \"III\", \"X\": 14, \"Y\": 8.84}, {\"Series\": \"III\", \"X\": 6, \"Y\": 6.08}, {\"Series\": \"III\", \"X\": 4, \"Y\": 5.39}, {\"Series\": \"III\", \"X\": 12, \"Y\": 8.15}, {\"Series\": \"III\", \"X\": 7, \"Y\": 6.42}, {\"Series\": \"III\", \"X\": 5, \"Y\": 5.73}, {\"Series\": \"IV\", \"X\": 8, \"Y\": 6.58}, {\"Series\": \"IV\", \"X\": 8, \"Y\": 5.76}, {\"Series\": \"IV\", \"X\": 8, \"Y\": 7.71}, {\"Series\": \"IV\", \"X\": 8, \"Y\": 8.84}, {\"Series\": \"IV\", \"X\": 8, \"Y\": 8.47}, {\"Series\": \"IV\", \"X\": 8, \"Y\": 7.04}, {\"Series\": \"IV\", \"X\": 8, \"Y\": 5.25}, {\"Series\": \"IV\", \"X\": 19, \"Y\": 12.5}, {\"Series\": \"IV\", \"X\": 8, \"Y\": 5.5600000000000005}, {\"Series\": \"IV\", \"X\": 8, \"Y\": 7.91}, {\"Series\": \"IV\", \"X\": 8, \"Y\": 6.89}]}}, {\"mode\": \"vega-lite\"});\n",
       "</script>"
      ],
      "text/plain": [
       "alt.Chart(...)"
      ]
     },
     "execution_count": 168,
     "metadata": {},
     "output_type": "execute_result"
    }
   ],
   "source": [
    "alt.Chart(dataset).mark_point().encode(\n",
    "    x='X',\n",
    "    y='Y',\n",
    "    color=\"Series:N\"\n",
    ")"
   ]
  },
  {
   "cell_type": "markdown",
   "id": "3305fc40-47c2-47e3-9cab-17f2ac4d43ab",
   "metadata": {},
   "source": [
    "## Customization"
   ]
  },
  {
   "cell_type": "markdown",
   "id": "a58c21b0-33ff-4152-92e6-b89a034ab6db",
   "metadata": {},
   "source": [
    "### X Label and Y Label"
   ]
  },
  {
   "cell_type": "code",
   "execution_count": 155,
   "id": "b2e3a75d-5079-4941-83fb-fac6f8a12a28",
   "metadata": {},
   "outputs": [
    {
     "data": {
      "text/html": [
       "\n",
       "<div id=\"altair-viz-bd116772e9734befa78868fc83143664\"></div>\n",
       "<script type=\"text/javascript\">\n",
       "  (function(spec, embedOpt){\n",
       "    let outputDiv = document.currentScript.previousElementSibling;\n",
       "    if (outputDiv.id !== \"altair-viz-bd116772e9734befa78868fc83143664\") {\n",
       "      outputDiv = document.getElementById(\"altair-viz-bd116772e9734befa78868fc83143664\");\n",
       "    }\n",
       "    const paths = {\n",
       "      \"vega\": \"https://cdn.jsdelivr.net/npm//vega@5?noext\",\n",
       "      \"vega-lib\": \"https://cdn.jsdelivr.net/npm//vega-lib?noext\",\n",
       "      \"vega-lite\": \"https://cdn.jsdelivr.net/npm//vega-lite@4.8.1?noext\",\n",
       "      \"vega-embed\": \"https://cdn.jsdelivr.net/npm//vega-embed@6?noext\",\n",
       "    };\n",
       "\n",
       "    function loadScript(lib) {\n",
       "      return new Promise(function(resolve, reject) {\n",
       "        var s = document.createElement('script');\n",
       "        s.src = paths[lib];\n",
       "        s.async = true;\n",
       "        s.onload = () => resolve(paths[lib]);\n",
       "        s.onerror = () => reject(`Error loading script: ${paths[lib]}`);\n",
       "        document.getElementsByTagName(\"head\")[0].appendChild(s);\n",
       "      });\n",
       "    }\n",
       "\n",
       "    function showError(err) {\n",
       "      outputDiv.innerHTML = `<div class=\"error\" style=\"color:red;\">${err}</div>`;\n",
       "      throw err;\n",
       "    }\n",
       "\n",
       "    function displayChart(vegaEmbed) {\n",
       "      vegaEmbed(outputDiv, spec, embedOpt)\n",
       "        .catch(err => showError(`Javascript Error: ${err.message}<br>This usually means there's a typo in your chart specification. See the javascript console for the full traceback.`));\n",
       "    }\n",
       "\n",
       "    if(typeof define === \"function\" && define.amd) {\n",
       "      requirejs.config({paths});\n",
       "      require([\"vega-embed\"], displayChart, err => showError(`Error loading script: ${err.message}`));\n",
       "    } else if (typeof vegaEmbed === \"function\") {\n",
       "      displayChart(vegaEmbed);\n",
       "    } else {\n",
       "      loadScript(\"vega\")\n",
       "        .then(() => loadScript(\"vega-lite\"))\n",
       "        .then(() => loadScript(\"vega-embed\"))\n",
       "        .catch(showError)\n",
       "        .then(() => displayChart(vegaEmbed));\n",
       "    }\n",
       "  })({\"config\": {\"view\": {\"continuousWidth\": 400, \"continuousHeight\": 300}}, \"data\": {\"name\": \"data-3d23a3381c61efd5a9c7a8abc82c6d65\"}, \"mark\": \"point\", \"encoding\": {\"x\": {\"type\": \"quantitative\", \"field\": \"X\", \"title\": \"Custom X Label\"}, \"y\": {\"type\": \"quantitative\", \"field\": \"Y\", \"title\": \"Custom Y Label\"}}, \"$schema\": \"https://vega.github.io/schema/vega-lite/v4.8.1.json\", \"datasets\": {\"data-3d23a3381c61efd5a9c7a8abc82c6d65\": [{\"Series\": \"I\", \"X\": 10, \"Y\": 8.04}, {\"Series\": \"I\", \"X\": 8, \"Y\": 6.95}, {\"Series\": \"I\", \"X\": 13, \"Y\": 7.58}, {\"Series\": \"I\", \"X\": 9, \"Y\": 8.81}, {\"Series\": \"I\", \"X\": 11, \"Y\": 8.33}, {\"Series\": \"I\", \"X\": 14, \"Y\": 9.96}, {\"Series\": \"I\", \"X\": 6, \"Y\": 7.24}, {\"Series\": \"I\", \"X\": 4, \"Y\": 4.26}, {\"Series\": \"I\", \"X\": 12, \"Y\": 10.84}, {\"Series\": \"I\", \"X\": 7, \"Y\": 4.8100000000000005}, {\"Series\": \"I\", \"X\": 5, \"Y\": 5.68}, {\"Series\": \"II\", \"X\": 10, \"Y\": 9.14}, {\"Series\": \"II\", \"X\": 8, \"Y\": 8.14}, {\"Series\": \"II\", \"X\": 13, \"Y\": 8.74}, {\"Series\": \"II\", \"X\": 9, \"Y\": 8.77}, {\"Series\": \"II\", \"X\": 11, \"Y\": 9.26}, {\"Series\": \"II\", \"X\": 14, \"Y\": 8.1}, {\"Series\": \"II\", \"X\": 6, \"Y\": 6.13}, {\"Series\": \"II\", \"X\": 4, \"Y\": 3.1}, {\"Series\": \"II\", \"X\": 12, \"Y\": 9.13}, {\"Series\": \"II\", \"X\": 7, \"Y\": 7.26}, {\"Series\": \"II\", \"X\": 5, \"Y\": 4.74}, {\"Series\": \"III\", \"X\": 10, \"Y\": 7.46}, {\"Series\": \"III\", \"X\": 8, \"Y\": 6.77}, {\"Series\": \"III\", \"X\": 13, \"Y\": 12.74}, {\"Series\": \"III\", \"X\": 9, \"Y\": 7.11}, {\"Series\": \"III\", \"X\": 11, \"Y\": 7.8100000000000005}, {\"Series\": \"III\", \"X\": 14, \"Y\": 8.84}, {\"Series\": \"III\", \"X\": 6, \"Y\": 6.08}, {\"Series\": \"III\", \"X\": 4, \"Y\": 5.39}, {\"Series\": \"III\", \"X\": 12, \"Y\": 8.15}, {\"Series\": \"III\", \"X\": 7, \"Y\": 6.42}, {\"Series\": \"III\", \"X\": 5, \"Y\": 5.73}, {\"Series\": \"IV\", \"X\": 8, \"Y\": 6.58}, {\"Series\": \"IV\", \"X\": 8, \"Y\": 5.76}, {\"Series\": \"IV\", \"X\": 8, \"Y\": 7.71}, {\"Series\": \"IV\", \"X\": 8, \"Y\": 8.84}, {\"Series\": \"IV\", \"X\": 8, \"Y\": 8.47}, {\"Series\": \"IV\", \"X\": 8, \"Y\": 7.04}, {\"Series\": \"IV\", \"X\": 8, \"Y\": 5.25}, {\"Series\": \"IV\", \"X\": 19, \"Y\": 12.5}, {\"Series\": \"IV\", \"X\": 8, \"Y\": 5.5600000000000005}, {\"Series\": \"IV\", \"X\": 8, \"Y\": 7.91}, {\"Series\": \"IV\", \"X\": 8, \"Y\": 6.89}]}}, {\"mode\": \"vega-lite\"});\n",
       "</script>"
      ],
      "text/plain": [
       "alt.Chart(...)"
      ]
     },
     "execution_count": 155,
     "metadata": {},
     "output_type": "execute_result"
    }
   ],
   "source": [
    "alt.Chart(dataset).mark_point().encode(\n",
    "    x=alt.X('X', title='Custom X Label'),\n",
    "    y=alt.Y('Y', title='Custom Y Label'),\n",
    ")"
   ]
  },
  {
   "cell_type": "markdown",
   "id": "4f1b3eb1-4399-45d4-9f9c-e8481b2a3380",
   "metadata": {},
   "source": [
    "### X Limit and Y Limit"
   ]
  },
  {
   "cell_type": "code",
   "execution_count": 123,
   "id": "2e4039f4-b40c-42e5-8655-6ee2980f97da",
   "metadata": {},
   "outputs": [
    {
     "data": {
      "text/html": [
       "\n",
       "<div id=\"altair-viz-117212a22d1d458989c40887c4b3fbef\"></div>\n",
       "<script type=\"text/javascript\">\n",
       "  (function(spec, embedOpt){\n",
       "    let outputDiv = document.currentScript.previousElementSibling;\n",
       "    if (outputDiv.id !== \"altair-viz-117212a22d1d458989c40887c4b3fbef\") {\n",
       "      outputDiv = document.getElementById(\"altair-viz-117212a22d1d458989c40887c4b3fbef\");\n",
       "    }\n",
       "    const paths = {\n",
       "      \"vega\": \"https://cdn.jsdelivr.net/npm//vega@5?noext\",\n",
       "      \"vega-lib\": \"https://cdn.jsdelivr.net/npm//vega-lib?noext\",\n",
       "      \"vega-lite\": \"https://cdn.jsdelivr.net/npm//vega-lite@4.8.1?noext\",\n",
       "      \"vega-embed\": \"https://cdn.jsdelivr.net/npm//vega-embed@6?noext\",\n",
       "    };\n",
       "\n",
       "    function loadScript(lib) {\n",
       "      return new Promise(function(resolve, reject) {\n",
       "        var s = document.createElement('script');\n",
       "        s.src = paths[lib];\n",
       "        s.async = true;\n",
       "        s.onload = () => resolve(paths[lib]);\n",
       "        s.onerror = () => reject(`Error loading script: ${paths[lib]}`);\n",
       "        document.getElementsByTagName(\"head\")[0].appendChild(s);\n",
       "      });\n",
       "    }\n",
       "\n",
       "    function showError(err) {\n",
       "      outputDiv.innerHTML = `<div class=\"error\" style=\"color:red;\">${err}</div>`;\n",
       "      throw err;\n",
       "    }\n",
       "\n",
       "    function displayChart(vegaEmbed) {\n",
       "      vegaEmbed(outputDiv, spec, embedOpt)\n",
       "        .catch(err => showError(`Javascript Error: ${err.message}<br>This usually means there's a typo in your chart specification. See the javascript console for the full traceback.`));\n",
       "    }\n",
       "\n",
       "    if(typeof define === \"function\" && define.amd) {\n",
       "      requirejs.config({paths});\n",
       "      require([\"vega-embed\"], displayChart, err => showError(`Error loading script: ${err.message}`));\n",
       "    } else if (typeof vegaEmbed === \"function\") {\n",
       "      displayChart(vegaEmbed);\n",
       "    } else {\n",
       "      loadScript(\"vega\")\n",
       "        .then(() => loadScript(\"vega-lite\"))\n",
       "        .then(() => loadScript(\"vega-embed\"))\n",
       "        .catch(showError)\n",
       "        .then(() => displayChart(vegaEmbed));\n",
       "    }\n",
       "  })({\"config\": {\"view\": {\"continuousWidth\": 400, \"continuousHeight\": 300}}, \"data\": {\"name\": \"data-3d23a3381c61efd5a9c7a8abc82c6d65\"}, \"mark\": \"point\", \"encoding\": {\"x\": {\"type\": \"quantitative\", \"field\": \"X\", \"scale\": {\"domain\": [-5, 25]}}, \"y\": {\"type\": \"quantitative\", \"field\": \"Y\", \"scale\": {\"domain\": [-5, 15]}}}, \"$schema\": \"https://vega.github.io/schema/vega-lite/v4.8.1.json\", \"datasets\": {\"data-3d23a3381c61efd5a9c7a8abc82c6d65\": [{\"Series\": \"I\", \"X\": 10, \"Y\": 8.04}, {\"Series\": \"I\", \"X\": 8, \"Y\": 6.95}, {\"Series\": \"I\", \"X\": 13, \"Y\": 7.58}, {\"Series\": \"I\", \"X\": 9, \"Y\": 8.81}, {\"Series\": \"I\", \"X\": 11, \"Y\": 8.33}, {\"Series\": \"I\", \"X\": 14, \"Y\": 9.96}, {\"Series\": \"I\", \"X\": 6, \"Y\": 7.24}, {\"Series\": \"I\", \"X\": 4, \"Y\": 4.26}, {\"Series\": \"I\", \"X\": 12, \"Y\": 10.84}, {\"Series\": \"I\", \"X\": 7, \"Y\": 4.8100000000000005}, {\"Series\": \"I\", \"X\": 5, \"Y\": 5.68}, {\"Series\": \"II\", \"X\": 10, \"Y\": 9.14}, {\"Series\": \"II\", \"X\": 8, \"Y\": 8.14}, {\"Series\": \"II\", \"X\": 13, \"Y\": 8.74}, {\"Series\": \"II\", \"X\": 9, \"Y\": 8.77}, {\"Series\": \"II\", \"X\": 11, \"Y\": 9.26}, {\"Series\": \"II\", \"X\": 14, \"Y\": 8.1}, {\"Series\": \"II\", \"X\": 6, \"Y\": 6.13}, {\"Series\": \"II\", \"X\": 4, \"Y\": 3.1}, {\"Series\": \"II\", \"X\": 12, \"Y\": 9.13}, {\"Series\": \"II\", \"X\": 7, \"Y\": 7.26}, {\"Series\": \"II\", \"X\": 5, \"Y\": 4.74}, {\"Series\": \"III\", \"X\": 10, \"Y\": 7.46}, {\"Series\": \"III\", \"X\": 8, \"Y\": 6.77}, {\"Series\": \"III\", \"X\": 13, \"Y\": 12.74}, {\"Series\": \"III\", \"X\": 9, \"Y\": 7.11}, {\"Series\": \"III\", \"X\": 11, \"Y\": 7.8100000000000005}, {\"Series\": \"III\", \"X\": 14, \"Y\": 8.84}, {\"Series\": \"III\", \"X\": 6, \"Y\": 6.08}, {\"Series\": \"III\", \"X\": 4, \"Y\": 5.39}, {\"Series\": \"III\", \"X\": 12, \"Y\": 8.15}, {\"Series\": \"III\", \"X\": 7, \"Y\": 6.42}, {\"Series\": \"III\", \"X\": 5, \"Y\": 5.73}, {\"Series\": \"IV\", \"X\": 8, \"Y\": 6.58}, {\"Series\": \"IV\", \"X\": 8, \"Y\": 5.76}, {\"Series\": \"IV\", \"X\": 8, \"Y\": 7.71}, {\"Series\": \"IV\", \"X\": 8, \"Y\": 8.84}, {\"Series\": \"IV\", \"X\": 8, \"Y\": 8.47}, {\"Series\": \"IV\", \"X\": 8, \"Y\": 7.04}, {\"Series\": \"IV\", \"X\": 8, \"Y\": 5.25}, {\"Series\": \"IV\", \"X\": 19, \"Y\": 12.5}, {\"Series\": \"IV\", \"X\": 8, \"Y\": 5.5600000000000005}, {\"Series\": \"IV\", \"X\": 8, \"Y\": 7.91}, {\"Series\": \"IV\", \"X\": 8, \"Y\": 6.89}]}}, {\"mode\": \"vega-lite\"});\n",
       "</script>"
      ],
      "text/plain": [
       "alt.Chart(...)"
      ]
     },
     "execution_count": 123,
     "metadata": {},
     "output_type": "execute_result"
    }
   ],
   "source": [
    "alt.Chart(dataset).mark_point().encode(\n",
    "    x=alt.X('X', scale=alt.Scale(domain=[-5, 25])),\n",
    "    y=alt.Y('Y', scale=alt.Scale(domain=[-5, 15])),\n",
    ")"
   ]
  },
  {
   "cell_type": "markdown",
   "id": "ee019748-30aa-47da-9421-e3f4b4aa5a1b",
   "metadata": {},
   "source": [
    "### Clipping"
   ]
  },
  {
   "cell_type": "code",
   "execution_count": 125,
   "id": "541e31ff-0e6d-4d6c-a75f-c795ef3642ce",
   "metadata": {},
   "outputs": [
    {
     "data": {
      "text/html": [
       "\n",
       "<div id=\"altair-viz-c20618326b6f47af869b378b2c314357\"></div>\n",
       "<script type=\"text/javascript\">\n",
       "  (function(spec, embedOpt){\n",
       "    let outputDiv = document.currentScript.previousElementSibling;\n",
       "    if (outputDiv.id !== \"altair-viz-c20618326b6f47af869b378b2c314357\") {\n",
       "      outputDiv = document.getElementById(\"altair-viz-c20618326b6f47af869b378b2c314357\");\n",
       "    }\n",
       "    const paths = {\n",
       "      \"vega\": \"https://cdn.jsdelivr.net/npm//vega@5?noext\",\n",
       "      \"vega-lib\": \"https://cdn.jsdelivr.net/npm//vega-lib?noext\",\n",
       "      \"vega-lite\": \"https://cdn.jsdelivr.net/npm//vega-lite@4.8.1?noext\",\n",
       "      \"vega-embed\": \"https://cdn.jsdelivr.net/npm//vega-embed@6?noext\",\n",
       "    };\n",
       "\n",
       "    function loadScript(lib) {\n",
       "      return new Promise(function(resolve, reject) {\n",
       "        var s = document.createElement('script');\n",
       "        s.src = paths[lib];\n",
       "        s.async = true;\n",
       "        s.onload = () => resolve(paths[lib]);\n",
       "        s.onerror = () => reject(`Error loading script: ${paths[lib]}`);\n",
       "        document.getElementsByTagName(\"head\")[0].appendChild(s);\n",
       "      });\n",
       "    }\n",
       "\n",
       "    function showError(err) {\n",
       "      outputDiv.innerHTML = `<div class=\"error\" style=\"color:red;\">${err}</div>`;\n",
       "      throw err;\n",
       "    }\n",
       "\n",
       "    function displayChart(vegaEmbed) {\n",
       "      vegaEmbed(outputDiv, spec, embedOpt)\n",
       "        .catch(err => showError(`Javascript Error: ${err.message}<br>This usually means there's a typo in your chart specification. See the javascript console for the full traceback.`));\n",
       "    }\n",
       "\n",
       "    if(typeof define === \"function\" && define.amd) {\n",
       "      requirejs.config({paths});\n",
       "      require([\"vega-embed\"], displayChart, err => showError(`Error loading script: ${err.message}`));\n",
       "    } else if (typeof vegaEmbed === \"function\") {\n",
       "      displayChart(vegaEmbed);\n",
       "    } else {\n",
       "      loadScript(\"vega\")\n",
       "        .then(() => loadScript(\"vega-lite\"))\n",
       "        .then(() => loadScript(\"vega-embed\"))\n",
       "        .catch(showError)\n",
       "        .then(() => displayChart(vegaEmbed));\n",
       "    }\n",
       "  })({\"config\": {\"view\": {\"continuousWidth\": 400, \"continuousHeight\": 300}}, \"data\": {\"name\": \"data-3d23a3381c61efd5a9c7a8abc82c6d65\"}, \"mark\": {\"type\": \"point\", \"clip\": true}, \"encoding\": {\"x\": {\"type\": \"quantitative\", \"field\": \"X\", \"scale\": {\"domain\": [0, 10]}}, \"y\": {\"type\": \"quantitative\", \"field\": \"Y\", \"scale\": {\"domain\": [2, 8]}}}, \"$schema\": \"https://vega.github.io/schema/vega-lite/v4.8.1.json\", \"datasets\": {\"data-3d23a3381c61efd5a9c7a8abc82c6d65\": [{\"Series\": \"I\", \"X\": 10, \"Y\": 8.04}, {\"Series\": \"I\", \"X\": 8, \"Y\": 6.95}, {\"Series\": \"I\", \"X\": 13, \"Y\": 7.58}, {\"Series\": \"I\", \"X\": 9, \"Y\": 8.81}, {\"Series\": \"I\", \"X\": 11, \"Y\": 8.33}, {\"Series\": \"I\", \"X\": 14, \"Y\": 9.96}, {\"Series\": \"I\", \"X\": 6, \"Y\": 7.24}, {\"Series\": \"I\", \"X\": 4, \"Y\": 4.26}, {\"Series\": \"I\", \"X\": 12, \"Y\": 10.84}, {\"Series\": \"I\", \"X\": 7, \"Y\": 4.8100000000000005}, {\"Series\": \"I\", \"X\": 5, \"Y\": 5.68}, {\"Series\": \"II\", \"X\": 10, \"Y\": 9.14}, {\"Series\": \"II\", \"X\": 8, \"Y\": 8.14}, {\"Series\": \"II\", \"X\": 13, \"Y\": 8.74}, {\"Series\": \"II\", \"X\": 9, \"Y\": 8.77}, {\"Series\": \"II\", \"X\": 11, \"Y\": 9.26}, {\"Series\": \"II\", \"X\": 14, \"Y\": 8.1}, {\"Series\": \"II\", \"X\": 6, \"Y\": 6.13}, {\"Series\": \"II\", \"X\": 4, \"Y\": 3.1}, {\"Series\": \"II\", \"X\": 12, \"Y\": 9.13}, {\"Series\": \"II\", \"X\": 7, \"Y\": 7.26}, {\"Series\": \"II\", \"X\": 5, \"Y\": 4.74}, {\"Series\": \"III\", \"X\": 10, \"Y\": 7.46}, {\"Series\": \"III\", \"X\": 8, \"Y\": 6.77}, {\"Series\": \"III\", \"X\": 13, \"Y\": 12.74}, {\"Series\": \"III\", \"X\": 9, \"Y\": 7.11}, {\"Series\": \"III\", \"X\": 11, \"Y\": 7.8100000000000005}, {\"Series\": \"III\", \"X\": 14, \"Y\": 8.84}, {\"Series\": \"III\", \"X\": 6, \"Y\": 6.08}, {\"Series\": \"III\", \"X\": 4, \"Y\": 5.39}, {\"Series\": \"III\", \"X\": 12, \"Y\": 8.15}, {\"Series\": \"III\", \"X\": 7, \"Y\": 6.42}, {\"Series\": \"III\", \"X\": 5, \"Y\": 5.73}, {\"Series\": \"IV\", \"X\": 8, \"Y\": 6.58}, {\"Series\": \"IV\", \"X\": 8, \"Y\": 5.76}, {\"Series\": \"IV\", \"X\": 8, \"Y\": 7.71}, {\"Series\": \"IV\", \"X\": 8, \"Y\": 8.84}, {\"Series\": \"IV\", \"X\": 8, \"Y\": 8.47}, {\"Series\": \"IV\", \"X\": 8, \"Y\": 7.04}, {\"Series\": \"IV\", \"X\": 8, \"Y\": 5.25}, {\"Series\": \"IV\", \"X\": 19, \"Y\": 12.5}, {\"Series\": \"IV\", \"X\": 8, \"Y\": 5.5600000000000005}, {\"Series\": \"IV\", \"X\": 8, \"Y\": 7.91}, {\"Series\": \"IV\", \"X\": 8, \"Y\": 6.89}]}}, {\"mode\": \"vega-lite\"});\n",
       "</script>"
      ],
      "text/plain": [
       "alt.Chart(...)"
      ]
     },
     "execution_count": 125,
     "metadata": {},
     "output_type": "execute_result"
    }
   ],
   "source": [
    "alt.Chart(dataset).mark_point(clip=True).encode(\n",
    "    x=alt.X('X', scale=alt.Scale(domain=[0, 10])),\n",
    "    y=alt.Y('Y', scale=alt.Scale(domain=[2, 8])),\n",
    ")"
   ]
  },
  {
   "cell_type": "markdown",
   "id": "f890cfb2-0e2c-46a1-a4a2-c026f4ff924c",
   "metadata": {},
   "source": [
    "### Title"
   ]
  },
  {
   "cell_type": "code",
   "execution_count": 116,
   "id": "13519658-e8ff-45b0-bcd4-a06aa3c1cf91",
   "metadata": {},
   "outputs": [
    {
     "data": {
      "text/html": [
       "\n",
       "<div id=\"altair-viz-c8fc4d55c01a4e129d689cc097f7d30d\"></div>\n",
       "<script type=\"text/javascript\">\n",
       "  (function(spec, embedOpt){\n",
       "    let outputDiv = document.currentScript.previousElementSibling;\n",
       "    if (outputDiv.id !== \"altair-viz-c8fc4d55c01a4e129d689cc097f7d30d\") {\n",
       "      outputDiv = document.getElementById(\"altair-viz-c8fc4d55c01a4e129d689cc097f7d30d\");\n",
       "    }\n",
       "    const paths = {\n",
       "      \"vega\": \"https://cdn.jsdelivr.net/npm//vega@5?noext\",\n",
       "      \"vega-lib\": \"https://cdn.jsdelivr.net/npm//vega-lib?noext\",\n",
       "      \"vega-lite\": \"https://cdn.jsdelivr.net/npm//vega-lite@4.8.1?noext\",\n",
       "      \"vega-embed\": \"https://cdn.jsdelivr.net/npm//vega-embed@6?noext\",\n",
       "    };\n",
       "\n",
       "    function loadScript(lib) {\n",
       "      return new Promise(function(resolve, reject) {\n",
       "        var s = document.createElement('script');\n",
       "        s.src = paths[lib];\n",
       "        s.async = true;\n",
       "        s.onload = () => resolve(paths[lib]);\n",
       "        s.onerror = () => reject(`Error loading script: ${paths[lib]}`);\n",
       "        document.getElementsByTagName(\"head\")[0].appendChild(s);\n",
       "      });\n",
       "    }\n",
       "\n",
       "    function showError(err) {\n",
       "      outputDiv.innerHTML = `<div class=\"error\" style=\"color:red;\">${err}</div>`;\n",
       "      throw err;\n",
       "    }\n",
       "\n",
       "    function displayChart(vegaEmbed) {\n",
       "      vegaEmbed(outputDiv, spec, embedOpt)\n",
       "        .catch(err => showError(`Javascript Error: ${err.message}<br>This usually means there's a typo in your chart specification. See the javascript console for the full traceback.`));\n",
       "    }\n",
       "\n",
       "    if(typeof define === \"function\" && define.amd) {\n",
       "      requirejs.config({paths});\n",
       "      require([\"vega-embed\"], displayChart, err => showError(`Error loading script: ${err.message}`));\n",
       "    } else if (typeof vegaEmbed === \"function\") {\n",
       "      displayChart(vegaEmbed);\n",
       "    } else {\n",
       "      loadScript(\"vega\")\n",
       "        .then(() => loadScript(\"vega-lite\"))\n",
       "        .then(() => loadScript(\"vega-embed\"))\n",
       "        .catch(showError)\n",
       "        .then(() => displayChart(vegaEmbed));\n",
       "    }\n",
       "  })({\"config\": {\"view\": {\"continuousWidth\": 400, \"continuousHeight\": 300}}, \"data\": {\"name\": \"data-3d23a3381c61efd5a9c7a8abc82c6d65\"}, \"mark\": \"point\", \"encoding\": {\"x\": {\"type\": \"quantitative\", \"field\": \"X\"}, \"y\": {\"type\": \"quantitative\", \"field\": \"Y\"}}, \"title\": \"Custom Title\", \"$schema\": \"https://vega.github.io/schema/vega-lite/v4.8.1.json\", \"datasets\": {\"data-3d23a3381c61efd5a9c7a8abc82c6d65\": [{\"Series\": \"I\", \"X\": 10, \"Y\": 8.04}, {\"Series\": \"I\", \"X\": 8, \"Y\": 6.95}, {\"Series\": \"I\", \"X\": 13, \"Y\": 7.58}, {\"Series\": \"I\", \"X\": 9, \"Y\": 8.81}, {\"Series\": \"I\", \"X\": 11, \"Y\": 8.33}, {\"Series\": \"I\", \"X\": 14, \"Y\": 9.96}, {\"Series\": \"I\", \"X\": 6, \"Y\": 7.24}, {\"Series\": \"I\", \"X\": 4, \"Y\": 4.26}, {\"Series\": \"I\", \"X\": 12, \"Y\": 10.84}, {\"Series\": \"I\", \"X\": 7, \"Y\": 4.8100000000000005}, {\"Series\": \"I\", \"X\": 5, \"Y\": 5.68}, {\"Series\": \"II\", \"X\": 10, \"Y\": 9.14}, {\"Series\": \"II\", \"X\": 8, \"Y\": 8.14}, {\"Series\": \"II\", \"X\": 13, \"Y\": 8.74}, {\"Series\": \"II\", \"X\": 9, \"Y\": 8.77}, {\"Series\": \"II\", \"X\": 11, \"Y\": 9.26}, {\"Series\": \"II\", \"X\": 14, \"Y\": 8.1}, {\"Series\": \"II\", \"X\": 6, \"Y\": 6.13}, {\"Series\": \"II\", \"X\": 4, \"Y\": 3.1}, {\"Series\": \"II\", \"X\": 12, \"Y\": 9.13}, {\"Series\": \"II\", \"X\": 7, \"Y\": 7.26}, {\"Series\": \"II\", \"X\": 5, \"Y\": 4.74}, {\"Series\": \"III\", \"X\": 10, \"Y\": 7.46}, {\"Series\": \"III\", \"X\": 8, \"Y\": 6.77}, {\"Series\": \"III\", \"X\": 13, \"Y\": 12.74}, {\"Series\": \"III\", \"X\": 9, \"Y\": 7.11}, {\"Series\": \"III\", \"X\": 11, \"Y\": 7.8100000000000005}, {\"Series\": \"III\", \"X\": 14, \"Y\": 8.84}, {\"Series\": \"III\", \"X\": 6, \"Y\": 6.08}, {\"Series\": \"III\", \"X\": 4, \"Y\": 5.39}, {\"Series\": \"III\", \"X\": 12, \"Y\": 8.15}, {\"Series\": \"III\", \"X\": 7, \"Y\": 6.42}, {\"Series\": \"III\", \"X\": 5, \"Y\": 5.73}, {\"Series\": \"IV\", \"X\": 8, \"Y\": 6.58}, {\"Series\": \"IV\", \"X\": 8, \"Y\": 5.76}, {\"Series\": \"IV\", \"X\": 8, \"Y\": 7.71}, {\"Series\": \"IV\", \"X\": 8, \"Y\": 8.84}, {\"Series\": \"IV\", \"X\": 8, \"Y\": 8.47}, {\"Series\": \"IV\", \"X\": 8, \"Y\": 7.04}, {\"Series\": \"IV\", \"X\": 8, \"Y\": 5.25}, {\"Series\": \"IV\", \"X\": 19, \"Y\": 12.5}, {\"Series\": \"IV\", \"X\": 8, \"Y\": 5.5600000000000005}, {\"Series\": \"IV\", \"X\": 8, \"Y\": 7.91}, {\"Series\": \"IV\", \"X\": 8, \"Y\": 6.89}]}}, {\"mode\": \"vega-lite\"});\n",
       "</script>"
      ],
      "text/plain": [
       "alt.Chart(...)"
      ]
     },
     "execution_count": 116,
     "metadata": {},
     "output_type": "execute_result"
    }
   ],
   "source": [
    "alt.Chart(dataset).mark_point().encode(\n",
    "    x='X',\n",
    "    y='Y'\n",
    ").properties(\n",
    "    title='Custom Title'\n",
    ")"
   ]
  },
  {
   "cell_type": "markdown",
   "id": "6436f146-bc0e-4b9f-bdd9-37b7389b5b21",
   "metadata": {},
   "source": [
    "### Size"
   ]
  },
  {
   "cell_type": "code",
   "execution_count": 166,
   "id": "ca36415e-ffb6-4732-87f6-65da8ae4f7ec",
   "metadata": {},
   "outputs": [
    {
     "data": {
      "text/html": [
       "\n",
       "<div id=\"altair-viz-720bb22dcb424dffa7d8f75e45b500bb\"></div>\n",
       "<script type=\"text/javascript\">\n",
       "  (function(spec, embedOpt){\n",
       "    let outputDiv = document.currentScript.previousElementSibling;\n",
       "    if (outputDiv.id !== \"altair-viz-720bb22dcb424dffa7d8f75e45b500bb\") {\n",
       "      outputDiv = document.getElementById(\"altair-viz-720bb22dcb424dffa7d8f75e45b500bb\");\n",
       "    }\n",
       "    const paths = {\n",
       "      \"vega\": \"https://cdn.jsdelivr.net/npm//vega@5?noext\",\n",
       "      \"vega-lib\": \"https://cdn.jsdelivr.net/npm//vega-lib?noext\",\n",
       "      \"vega-lite\": \"https://cdn.jsdelivr.net/npm//vega-lite@4.8.1?noext\",\n",
       "      \"vega-embed\": \"https://cdn.jsdelivr.net/npm//vega-embed@6?noext\",\n",
       "    };\n",
       "\n",
       "    function loadScript(lib) {\n",
       "      return new Promise(function(resolve, reject) {\n",
       "        var s = document.createElement('script');\n",
       "        s.src = paths[lib];\n",
       "        s.async = true;\n",
       "        s.onload = () => resolve(paths[lib]);\n",
       "        s.onerror = () => reject(`Error loading script: ${paths[lib]}`);\n",
       "        document.getElementsByTagName(\"head\")[0].appendChild(s);\n",
       "      });\n",
       "    }\n",
       "\n",
       "    function showError(err) {\n",
       "      outputDiv.innerHTML = `<div class=\"error\" style=\"color:red;\">${err}</div>`;\n",
       "      throw err;\n",
       "    }\n",
       "\n",
       "    function displayChart(vegaEmbed) {\n",
       "      vegaEmbed(outputDiv, spec, embedOpt)\n",
       "        .catch(err => showError(`Javascript Error: ${err.message}<br>This usually means there's a typo in your chart specification. See the javascript console for the full traceback.`));\n",
       "    }\n",
       "\n",
       "    if(typeof define === \"function\" && define.amd) {\n",
       "      requirejs.config({paths});\n",
       "      require([\"vega-embed\"], displayChart, err => showError(`Error loading script: ${err.message}`));\n",
       "    } else if (typeof vegaEmbed === \"function\") {\n",
       "      displayChart(vegaEmbed);\n",
       "    } else {\n",
       "      loadScript(\"vega\")\n",
       "        .then(() => loadScript(\"vega-lite\"))\n",
       "        .then(() => loadScript(\"vega-embed\"))\n",
       "        .catch(showError)\n",
       "        .then(() => displayChart(vegaEmbed));\n",
       "    }\n",
       "  })({\"config\": {\"view\": {\"continuousWidth\": 400, \"continuousHeight\": 300}}, \"data\": {\"name\": \"data-3d23a3381c61efd5a9c7a8abc82c6d65\"}, \"mark\": \"point\", \"encoding\": {\"x\": {\"type\": \"quantitative\", \"field\": \"X\"}, \"y\": {\"type\": \"quantitative\", \"field\": \"Y\"}}, \"height\": 250, \"width\": 800, \"$schema\": \"https://vega.github.io/schema/vega-lite/v4.8.1.json\", \"datasets\": {\"data-3d23a3381c61efd5a9c7a8abc82c6d65\": [{\"Series\": \"I\", \"X\": 10, \"Y\": 8.04}, {\"Series\": \"I\", \"X\": 8, \"Y\": 6.95}, {\"Series\": \"I\", \"X\": 13, \"Y\": 7.58}, {\"Series\": \"I\", \"X\": 9, \"Y\": 8.81}, {\"Series\": \"I\", \"X\": 11, \"Y\": 8.33}, {\"Series\": \"I\", \"X\": 14, \"Y\": 9.96}, {\"Series\": \"I\", \"X\": 6, \"Y\": 7.24}, {\"Series\": \"I\", \"X\": 4, \"Y\": 4.26}, {\"Series\": \"I\", \"X\": 12, \"Y\": 10.84}, {\"Series\": \"I\", \"X\": 7, \"Y\": 4.8100000000000005}, {\"Series\": \"I\", \"X\": 5, \"Y\": 5.68}, {\"Series\": \"II\", \"X\": 10, \"Y\": 9.14}, {\"Series\": \"II\", \"X\": 8, \"Y\": 8.14}, {\"Series\": \"II\", \"X\": 13, \"Y\": 8.74}, {\"Series\": \"II\", \"X\": 9, \"Y\": 8.77}, {\"Series\": \"II\", \"X\": 11, \"Y\": 9.26}, {\"Series\": \"II\", \"X\": 14, \"Y\": 8.1}, {\"Series\": \"II\", \"X\": 6, \"Y\": 6.13}, {\"Series\": \"II\", \"X\": 4, \"Y\": 3.1}, {\"Series\": \"II\", \"X\": 12, \"Y\": 9.13}, {\"Series\": \"II\", \"X\": 7, \"Y\": 7.26}, {\"Series\": \"II\", \"X\": 5, \"Y\": 4.74}, {\"Series\": \"III\", \"X\": 10, \"Y\": 7.46}, {\"Series\": \"III\", \"X\": 8, \"Y\": 6.77}, {\"Series\": \"III\", \"X\": 13, \"Y\": 12.74}, {\"Series\": \"III\", \"X\": 9, \"Y\": 7.11}, {\"Series\": \"III\", \"X\": 11, \"Y\": 7.8100000000000005}, {\"Series\": \"III\", \"X\": 14, \"Y\": 8.84}, {\"Series\": \"III\", \"X\": 6, \"Y\": 6.08}, {\"Series\": \"III\", \"X\": 4, \"Y\": 5.39}, {\"Series\": \"III\", \"X\": 12, \"Y\": 8.15}, {\"Series\": \"III\", \"X\": 7, \"Y\": 6.42}, {\"Series\": \"III\", \"X\": 5, \"Y\": 5.73}, {\"Series\": \"IV\", \"X\": 8, \"Y\": 6.58}, {\"Series\": \"IV\", \"X\": 8, \"Y\": 5.76}, {\"Series\": \"IV\", \"X\": 8, \"Y\": 7.71}, {\"Series\": \"IV\", \"X\": 8, \"Y\": 8.84}, {\"Series\": \"IV\", \"X\": 8, \"Y\": 8.47}, {\"Series\": \"IV\", \"X\": 8, \"Y\": 7.04}, {\"Series\": \"IV\", \"X\": 8, \"Y\": 5.25}, {\"Series\": \"IV\", \"X\": 19, \"Y\": 12.5}, {\"Series\": \"IV\", \"X\": 8, \"Y\": 5.5600000000000005}, {\"Series\": \"IV\", \"X\": 8, \"Y\": 7.91}, {\"Series\": \"IV\", \"X\": 8, \"Y\": 6.89}]}}, {\"mode\": \"vega-lite\"});\n",
       "</script>"
      ],
      "text/plain": [
       "alt.Chart(...)"
      ]
     },
     "execution_count": 166,
     "metadata": {},
     "output_type": "execute_result"
    }
   ],
   "source": [
    "alt.Chart(dataset).mark_point().encode(\n",
    "    x='X',\n",
    "    y='Y'\n",
    ").properties(\n",
    "    width=800,\n",
    "    height=250\n",
    ")"
   ]
  },
  {
   "cell_type": "markdown",
   "id": "47a4b7d2-a9c5-4f04-9624-eb3ee1de0ca6",
   "metadata": {
    "tags": []
   },
   "source": [
    "## Aggregations"
   ]
  },
  {
   "cell_type": "markdown",
   "id": "6ed17184-93a7-4fed-b033-aa952c98894f",
   "metadata": {},
   "source": [
    "### Using Count"
   ]
  },
  {
   "cell_type": "code",
   "execution_count": 85,
   "id": "dbe3dbfe-8c87-4088-9b85-9b746d80bf3d",
   "metadata": {},
   "outputs": [
    {
     "data": {
      "text/html": [
       "\n",
       "<div id=\"altair-viz-638b8f065af94095b56d1d7edee548e6\"></div>\n",
       "<script type=\"text/javascript\">\n",
       "  (function(spec, embedOpt){\n",
       "    let outputDiv = document.currentScript.previousElementSibling;\n",
       "    if (outputDiv.id !== \"altair-viz-638b8f065af94095b56d1d7edee548e6\") {\n",
       "      outputDiv = document.getElementById(\"altair-viz-638b8f065af94095b56d1d7edee548e6\");\n",
       "    }\n",
       "    const paths = {\n",
       "      \"vega\": \"https://cdn.jsdelivr.net/npm//vega@5?noext\",\n",
       "      \"vega-lib\": \"https://cdn.jsdelivr.net/npm//vega-lib?noext\",\n",
       "      \"vega-lite\": \"https://cdn.jsdelivr.net/npm//vega-lite@4.8.1?noext\",\n",
       "      \"vega-embed\": \"https://cdn.jsdelivr.net/npm//vega-embed@6?noext\",\n",
       "    };\n",
       "\n",
       "    function loadScript(lib) {\n",
       "      return new Promise(function(resolve, reject) {\n",
       "        var s = document.createElement('script');\n",
       "        s.src = paths[lib];\n",
       "        s.async = true;\n",
       "        s.onload = () => resolve(paths[lib]);\n",
       "        s.onerror = () => reject(`Error loading script: ${paths[lib]}`);\n",
       "        document.getElementsByTagName(\"head\")[0].appendChild(s);\n",
       "      });\n",
       "    }\n",
       "\n",
       "    function showError(err) {\n",
       "      outputDiv.innerHTML = `<div class=\"error\" style=\"color:red;\">${err}</div>`;\n",
       "      throw err;\n",
       "    }\n",
       "\n",
       "    function displayChart(vegaEmbed) {\n",
       "      vegaEmbed(outputDiv, spec, embedOpt)\n",
       "        .catch(err => showError(`Javascript Error: ${err.message}<br>This usually means there's a typo in your chart specification. See the javascript console for the full traceback.`));\n",
       "    }\n",
       "\n",
       "    if(typeof define === \"function\" && define.amd) {\n",
       "      requirejs.config({paths});\n",
       "      require([\"vega-embed\"], displayChart, err => showError(`Error loading script: ${err.message}`));\n",
       "    } else if (typeof vegaEmbed === \"function\") {\n",
       "      displayChart(vegaEmbed);\n",
       "    } else {\n",
       "      loadScript(\"vega\")\n",
       "        .then(() => loadScript(\"vega-lite\"))\n",
       "        .then(() => loadScript(\"vega-embed\"))\n",
       "        .catch(showError)\n",
       "        .then(() => displayChart(vegaEmbed));\n",
       "    }\n",
       "  })({\"config\": {\"view\": {\"continuousWidth\": 400, \"continuousHeight\": 300}}, \"data\": {\"name\": \"data-3d23a3381c61efd5a9c7a8abc82c6d65\"}, \"mark\": \"bar\", \"encoding\": {\"x\": {\"type\": \"quantitative\", \"aggregate\": \"count\"}, \"y\": {\"type\": \"quantitative\", \"field\": \"X\"}}, \"$schema\": \"https://vega.github.io/schema/vega-lite/v4.8.1.json\", \"datasets\": {\"data-3d23a3381c61efd5a9c7a8abc82c6d65\": [{\"Series\": \"I\", \"X\": 10, \"Y\": 8.04}, {\"Series\": \"I\", \"X\": 8, \"Y\": 6.95}, {\"Series\": \"I\", \"X\": 13, \"Y\": 7.58}, {\"Series\": \"I\", \"X\": 9, \"Y\": 8.81}, {\"Series\": \"I\", \"X\": 11, \"Y\": 8.33}, {\"Series\": \"I\", \"X\": 14, \"Y\": 9.96}, {\"Series\": \"I\", \"X\": 6, \"Y\": 7.24}, {\"Series\": \"I\", \"X\": 4, \"Y\": 4.26}, {\"Series\": \"I\", \"X\": 12, \"Y\": 10.84}, {\"Series\": \"I\", \"X\": 7, \"Y\": 4.8100000000000005}, {\"Series\": \"I\", \"X\": 5, \"Y\": 5.68}, {\"Series\": \"II\", \"X\": 10, \"Y\": 9.14}, {\"Series\": \"II\", \"X\": 8, \"Y\": 8.14}, {\"Series\": \"II\", \"X\": 13, \"Y\": 8.74}, {\"Series\": \"II\", \"X\": 9, \"Y\": 8.77}, {\"Series\": \"II\", \"X\": 11, \"Y\": 9.26}, {\"Series\": \"II\", \"X\": 14, \"Y\": 8.1}, {\"Series\": \"II\", \"X\": 6, \"Y\": 6.13}, {\"Series\": \"II\", \"X\": 4, \"Y\": 3.1}, {\"Series\": \"II\", \"X\": 12, \"Y\": 9.13}, {\"Series\": \"II\", \"X\": 7, \"Y\": 7.26}, {\"Series\": \"II\", \"X\": 5, \"Y\": 4.74}, {\"Series\": \"III\", \"X\": 10, \"Y\": 7.46}, {\"Series\": \"III\", \"X\": 8, \"Y\": 6.77}, {\"Series\": \"III\", \"X\": 13, \"Y\": 12.74}, {\"Series\": \"III\", \"X\": 9, \"Y\": 7.11}, {\"Series\": \"III\", \"X\": 11, \"Y\": 7.8100000000000005}, {\"Series\": \"III\", \"X\": 14, \"Y\": 8.84}, {\"Series\": \"III\", \"X\": 6, \"Y\": 6.08}, {\"Series\": \"III\", \"X\": 4, \"Y\": 5.39}, {\"Series\": \"III\", \"X\": 12, \"Y\": 8.15}, {\"Series\": \"III\", \"X\": 7, \"Y\": 6.42}, {\"Series\": \"III\", \"X\": 5, \"Y\": 5.73}, {\"Series\": \"IV\", \"X\": 8, \"Y\": 6.58}, {\"Series\": \"IV\", \"X\": 8, \"Y\": 5.76}, {\"Series\": \"IV\", \"X\": 8, \"Y\": 7.71}, {\"Series\": \"IV\", \"X\": 8, \"Y\": 8.84}, {\"Series\": \"IV\", \"X\": 8, \"Y\": 8.47}, {\"Series\": \"IV\", \"X\": 8, \"Y\": 7.04}, {\"Series\": \"IV\", \"X\": 8, \"Y\": 5.25}, {\"Series\": \"IV\", \"X\": 19, \"Y\": 12.5}, {\"Series\": \"IV\", \"X\": 8, \"Y\": 5.5600000000000005}, {\"Series\": \"IV\", \"X\": 8, \"Y\": 7.91}, {\"Series\": \"IV\", \"X\": 8, \"Y\": 6.89}]}}, {\"mode\": \"vega-lite\"});\n",
       "</script>"
      ],
      "text/plain": [
       "alt.Chart(...)"
      ]
     },
     "execution_count": 85,
     "metadata": {},
     "output_type": "execute_result"
    }
   ],
   "source": [
    "alt.Chart(dataset).mark_bar().encode(\n",
    "    y='X',\n",
    "    x='count()'\n",
    ")"
   ]
  },
  {
   "cell_type": "code",
   "execution_count": 87,
   "id": "bf548766-c16a-466b-aabd-3a3b28813abe",
   "metadata": {},
   "outputs": [
    {
     "data": {
      "text/html": [
       "\n",
       "<div id=\"altair-viz-d81727d6061c4443811fe90242f75ee3\"></div>\n",
       "<script type=\"text/javascript\">\n",
       "  (function(spec, embedOpt){\n",
       "    let outputDiv = document.currentScript.previousElementSibling;\n",
       "    if (outputDiv.id !== \"altair-viz-d81727d6061c4443811fe90242f75ee3\") {\n",
       "      outputDiv = document.getElementById(\"altair-viz-d81727d6061c4443811fe90242f75ee3\");\n",
       "    }\n",
       "    const paths = {\n",
       "      \"vega\": \"https://cdn.jsdelivr.net/npm//vega@5?noext\",\n",
       "      \"vega-lib\": \"https://cdn.jsdelivr.net/npm//vega-lib?noext\",\n",
       "      \"vega-lite\": \"https://cdn.jsdelivr.net/npm//vega-lite@4.8.1?noext\",\n",
       "      \"vega-embed\": \"https://cdn.jsdelivr.net/npm//vega-embed@6?noext\",\n",
       "    };\n",
       "\n",
       "    function loadScript(lib) {\n",
       "      return new Promise(function(resolve, reject) {\n",
       "        var s = document.createElement('script');\n",
       "        s.src = paths[lib];\n",
       "        s.async = true;\n",
       "        s.onload = () => resolve(paths[lib]);\n",
       "        s.onerror = () => reject(`Error loading script: ${paths[lib]}`);\n",
       "        document.getElementsByTagName(\"head\")[0].appendChild(s);\n",
       "      });\n",
       "    }\n",
       "\n",
       "    function showError(err) {\n",
       "      outputDiv.innerHTML = `<div class=\"error\" style=\"color:red;\">${err}</div>`;\n",
       "      throw err;\n",
       "    }\n",
       "\n",
       "    function displayChart(vegaEmbed) {\n",
       "      vegaEmbed(outputDiv, spec, embedOpt)\n",
       "        .catch(err => showError(`Javascript Error: ${err.message}<br>This usually means there's a typo in your chart specification. See the javascript console for the full traceback.`));\n",
       "    }\n",
       "\n",
       "    if(typeof define === \"function\" && define.amd) {\n",
       "      requirejs.config({paths});\n",
       "      require([\"vega-embed\"], displayChart, err => showError(`Error loading script: ${err.message}`));\n",
       "    } else if (typeof vegaEmbed === \"function\") {\n",
       "      displayChart(vegaEmbed);\n",
       "    } else {\n",
       "      loadScript(\"vega\")\n",
       "        .then(() => loadScript(\"vega-lite\"))\n",
       "        .then(() => loadScript(\"vega-embed\"))\n",
       "        .catch(showError)\n",
       "        .then(() => displayChart(vegaEmbed));\n",
       "    }\n",
       "  })({\"config\": {\"view\": {\"continuousWidth\": 400, \"continuousHeight\": 300}}, \"data\": {\"name\": \"data-3d23a3381c61efd5a9c7a8abc82c6d65\"}, \"mark\": \"bar\", \"encoding\": {\"x\": {\"type\": \"quantitative\", \"aggregate\": \"count\"}, \"y\": {\"type\": \"quantitative\", \"field\": \"Y\"}}, \"$schema\": \"https://vega.github.io/schema/vega-lite/v4.8.1.json\", \"datasets\": {\"data-3d23a3381c61efd5a9c7a8abc82c6d65\": [{\"Series\": \"I\", \"X\": 10, \"Y\": 8.04}, {\"Series\": \"I\", \"X\": 8, \"Y\": 6.95}, {\"Series\": \"I\", \"X\": 13, \"Y\": 7.58}, {\"Series\": \"I\", \"X\": 9, \"Y\": 8.81}, {\"Series\": \"I\", \"X\": 11, \"Y\": 8.33}, {\"Series\": \"I\", \"X\": 14, \"Y\": 9.96}, {\"Series\": \"I\", \"X\": 6, \"Y\": 7.24}, {\"Series\": \"I\", \"X\": 4, \"Y\": 4.26}, {\"Series\": \"I\", \"X\": 12, \"Y\": 10.84}, {\"Series\": \"I\", \"X\": 7, \"Y\": 4.8100000000000005}, {\"Series\": \"I\", \"X\": 5, \"Y\": 5.68}, {\"Series\": \"II\", \"X\": 10, \"Y\": 9.14}, {\"Series\": \"II\", \"X\": 8, \"Y\": 8.14}, {\"Series\": \"II\", \"X\": 13, \"Y\": 8.74}, {\"Series\": \"II\", \"X\": 9, \"Y\": 8.77}, {\"Series\": \"II\", \"X\": 11, \"Y\": 9.26}, {\"Series\": \"II\", \"X\": 14, \"Y\": 8.1}, {\"Series\": \"II\", \"X\": 6, \"Y\": 6.13}, {\"Series\": \"II\", \"X\": 4, \"Y\": 3.1}, {\"Series\": \"II\", \"X\": 12, \"Y\": 9.13}, {\"Series\": \"II\", \"X\": 7, \"Y\": 7.26}, {\"Series\": \"II\", \"X\": 5, \"Y\": 4.74}, {\"Series\": \"III\", \"X\": 10, \"Y\": 7.46}, {\"Series\": \"III\", \"X\": 8, \"Y\": 6.77}, {\"Series\": \"III\", \"X\": 13, \"Y\": 12.74}, {\"Series\": \"III\", \"X\": 9, \"Y\": 7.11}, {\"Series\": \"III\", \"X\": 11, \"Y\": 7.8100000000000005}, {\"Series\": \"III\", \"X\": 14, \"Y\": 8.84}, {\"Series\": \"III\", \"X\": 6, \"Y\": 6.08}, {\"Series\": \"III\", \"X\": 4, \"Y\": 5.39}, {\"Series\": \"III\", \"X\": 12, \"Y\": 8.15}, {\"Series\": \"III\", \"X\": 7, \"Y\": 6.42}, {\"Series\": \"III\", \"X\": 5, \"Y\": 5.73}, {\"Series\": \"IV\", \"X\": 8, \"Y\": 6.58}, {\"Series\": \"IV\", \"X\": 8, \"Y\": 5.76}, {\"Series\": \"IV\", \"X\": 8, \"Y\": 7.71}, {\"Series\": \"IV\", \"X\": 8, \"Y\": 8.84}, {\"Series\": \"IV\", \"X\": 8, \"Y\": 8.47}, {\"Series\": \"IV\", \"X\": 8, \"Y\": 7.04}, {\"Series\": \"IV\", \"X\": 8, \"Y\": 5.25}, {\"Series\": \"IV\", \"X\": 19, \"Y\": 12.5}, {\"Series\": \"IV\", \"X\": 8, \"Y\": 5.5600000000000005}, {\"Series\": \"IV\", \"X\": 8, \"Y\": 7.91}, {\"Series\": \"IV\", \"X\": 8, \"Y\": 6.89}]}}, {\"mode\": \"vega-lite\"});\n",
       "</script>"
      ],
      "text/plain": [
       "alt.Chart(...)"
      ]
     },
     "execution_count": 87,
     "metadata": {},
     "output_type": "execute_result"
    }
   ],
   "source": [
    "alt.Chart(dataset).mark_bar().encode(\n",
    "    y='Y',\n",
    "    x='count()'\n",
    ")"
   ]
  },
  {
   "cell_type": "markdown",
   "id": "605ca58b-e2b6-45ce-8467-cb3922242956",
   "metadata": {},
   "source": [
    "### Math Functions"
   ]
  },
  {
   "cell_type": "code",
   "execution_count": 94,
   "id": "a468b9a0-8e87-4180-be86-42613cf0cd55",
   "metadata": {},
   "outputs": [
    {
     "data": {
      "text/html": [
       "\n",
       "<div id=\"altair-viz-bbfe5fd678894380ad2f5e885e2a8023\"></div>\n",
       "<script type=\"text/javascript\">\n",
       "  (function(spec, embedOpt){\n",
       "    let outputDiv = document.currentScript.previousElementSibling;\n",
       "    if (outputDiv.id !== \"altair-viz-bbfe5fd678894380ad2f5e885e2a8023\") {\n",
       "      outputDiv = document.getElementById(\"altair-viz-bbfe5fd678894380ad2f5e885e2a8023\");\n",
       "    }\n",
       "    const paths = {\n",
       "      \"vega\": \"https://cdn.jsdelivr.net/npm//vega@5?noext\",\n",
       "      \"vega-lib\": \"https://cdn.jsdelivr.net/npm//vega-lib?noext\",\n",
       "      \"vega-lite\": \"https://cdn.jsdelivr.net/npm//vega-lite@4.8.1?noext\",\n",
       "      \"vega-embed\": \"https://cdn.jsdelivr.net/npm//vega-embed@6?noext\",\n",
       "    };\n",
       "\n",
       "    function loadScript(lib) {\n",
       "      return new Promise(function(resolve, reject) {\n",
       "        var s = document.createElement('script');\n",
       "        s.src = paths[lib];\n",
       "        s.async = true;\n",
       "        s.onload = () => resolve(paths[lib]);\n",
       "        s.onerror = () => reject(`Error loading script: ${paths[lib]}`);\n",
       "        document.getElementsByTagName(\"head\")[0].appendChild(s);\n",
       "      });\n",
       "    }\n",
       "\n",
       "    function showError(err) {\n",
       "      outputDiv.innerHTML = `<div class=\"error\" style=\"color:red;\">${err}</div>`;\n",
       "      throw err;\n",
       "    }\n",
       "\n",
       "    function displayChart(vegaEmbed) {\n",
       "      vegaEmbed(outputDiv, spec, embedOpt)\n",
       "        .catch(err => showError(`Javascript Error: ${err.message}<br>This usually means there's a typo in your chart specification. See the javascript console for the full traceback.`));\n",
       "    }\n",
       "\n",
       "    if(typeof define === \"function\" && define.amd) {\n",
       "      requirejs.config({paths});\n",
       "      require([\"vega-embed\"], displayChart, err => showError(`Error loading script: ${err.message}`));\n",
       "    } else if (typeof vegaEmbed === \"function\") {\n",
       "      displayChart(vegaEmbed);\n",
       "    } else {\n",
       "      loadScript(\"vega\")\n",
       "        .then(() => loadScript(\"vega-lite\"))\n",
       "        .then(() => loadScript(\"vega-embed\"))\n",
       "        .catch(showError)\n",
       "        .then(() => displayChart(vegaEmbed));\n",
       "    }\n",
       "  })({\"config\": {\"view\": {\"continuousWidth\": 400, \"continuousHeight\": 300}}, \"data\": {\"name\": \"data-3d23a3381c61efd5a9c7a8abc82c6d65\"}, \"mark\": \"bar\", \"encoding\": {\"x\": {\"type\": \"quantitative\", \"aggregate\": \"mean\", \"field\": \"X\"}, \"y\": {\"type\": \"nominal\", \"field\": \"Series\"}}, \"$schema\": \"https://vega.github.io/schema/vega-lite/v4.8.1.json\", \"datasets\": {\"data-3d23a3381c61efd5a9c7a8abc82c6d65\": [{\"Series\": \"I\", \"X\": 10, \"Y\": 8.04}, {\"Series\": \"I\", \"X\": 8, \"Y\": 6.95}, {\"Series\": \"I\", \"X\": 13, \"Y\": 7.58}, {\"Series\": \"I\", \"X\": 9, \"Y\": 8.81}, {\"Series\": \"I\", \"X\": 11, \"Y\": 8.33}, {\"Series\": \"I\", \"X\": 14, \"Y\": 9.96}, {\"Series\": \"I\", \"X\": 6, \"Y\": 7.24}, {\"Series\": \"I\", \"X\": 4, \"Y\": 4.26}, {\"Series\": \"I\", \"X\": 12, \"Y\": 10.84}, {\"Series\": \"I\", \"X\": 7, \"Y\": 4.8100000000000005}, {\"Series\": \"I\", \"X\": 5, \"Y\": 5.68}, {\"Series\": \"II\", \"X\": 10, \"Y\": 9.14}, {\"Series\": \"II\", \"X\": 8, \"Y\": 8.14}, {\"Series\": \"II\", \"X\": 13, \"Y\": 8.74}, {\"Series\": \"II\", \"X\": 9, \"Y\": 8.77}, {\"Series\": \"II\", \"X\": 11, \"Y\": 9.26}, {\"Series\": \"II\", \"X\": 14, \"Y\": 8.1}, {\"Series\": \"II\", \"X\": 6, \"Y\": 6.13}, {\"Series\": \"II\", \"X\": 4, \"Y\": 3.1}, {\"Series\": \"II\", \"X\": 12, \"Y\": 9.13}, {\"Series\": \"II\", \"X\": 7, \"Y\": 7.26}, {\"Series\": \"II\", \"X\": 5, \"Y\": 4.74}, {\"Series\": \"III\", \"X\": 10, \"Y\": 7.46}, {\"Series\": \"III\", \"X\": 8, \"Y\": 6.77}, {\"Series\": \"III\", \"X\": 13, \"Y\": 12.74}, {\"Series\": \"III\", \"X\": 9, \"Y\": 7.11}, {\"Series\": \"III\", \"X\": 11, \"Y\": 7.8100000000000005}, {\"Series\": \"III\", \"X\": 14, \"Y\": 8.84}, {\"Series\": \"III\", \"X\": 6, \"Y\": 6.08}, {\"Series\": \"III\", \"X\": 4, \"Y\": 5.39}, {\"Series\": \"III\", \"X\": 12, \"Y\": 8.15}, {\"Series\": \"III\", \"X\": 7, \"Y\": 6.42}, {\"Series\": \"III\", \"X\": 5, \"Y\": 5.73}, {\"Series\": \"IV\", \"X\": 8, \"Y\": 6.58}, {\"Series\": \"IV\", \"X\": 8, \"Y\": 5.76}, {\"Series\": \"IV\", \"X\": 8, \"Y\": 7.71}, {\"Series\": \"IV\", \"X\": 8, \"Y\": 8.84}, {\"Series\": \"IV\", \"X\": 8, \"Y\": 8.47}, {\"Series\": \"IV\", \"X\": 8, \"Y\": 7.04}, {\"Series\": \"IV\", \"X\": 8, \"Y\": 5.25}, {\"Series\": \"IV\", \"X\": 19, \"Y\": 12.5}, {\"Series\": \"IV\", \"X\": 8, \"Y\": 5.5600000000000005}, {\"Series\": \"IV\", \"X\": 8, \"Y\": 7.91}, {\"Series\": \"IV\", \"X\": 8, \"Y\": 6.89}]}}, {\"mode\": \"vega-lite\"});\n",
       "</script>"
      ],
      "text/plain": [
       "alt.Chart(...)"
      ]
     },
     "execution_count": 94,
     "metadata": {},
     "output_type": "execute_result"
    }
   ],
   "source": [
    "alt.Chart(dataset).mark_bar().encode(\n",
    "    x='mean(X)',\n",
    "    y='Series',\n",
    ")"
   ]
  },
  {
   "cell_type": "code",
   "execution_count": 99,
   "id": "267a8a23-7d47-4d42-a0dd-bcd902c02c0a",
   "metadata": {},
   "outputs": [
    {
     "data": {
      "text/html": [
       "\n",
       "<div id=\"altair-viz-4e5ad9ecd38c4c779f6c215605045440\"></div>\n",
       "<script type=\"text/javascript\">\n",
       "  (function(spec, embedOpt){\n",
       "    let outputDiv = document.currentScript.previousElementSibling;\n",
       "    if (outputDiv.id !== \"altair-viz-4e5ad9ecd38c4c779f6c215605045440\") {\n",
       "      outputDiv = document.getElementById(\"altair-viz-4e5ad9ecd38c4c779f6c215605045440\");\n",
       "    }\n",
       "    const paths = {\n",
       "      \"vega\": \"https://cdn.jsdelivr.net/npm//vega@5?noext\",\n",
       "      \"vega-lib\": \"https://cdn.jsdelivr.net/npm//vega-lib?noext\",\n",
       "      \"vega-lite\": \"https://cdn.jsdelivr.net/npm//vega-lite@4.8.1?noext\",\n",
       "      \"vega-embed\": \"https://cdn.jsdelivr.net/npm//vega-embed@6?noext\",\n",
       "    };\n",
       "\n",
       "    function loadScript(lib) {\n",
       "      return new Promise(function(resolve, reject) {\n",
       "        var s = document.createElement('script');\n",
       "        s.src = paths[lib];\n",
       "        s.async = true;\n",
       "        s.onload = () => resolve(paths[lib]);\n",
       "        s.onerror = () => reject(`Error loading script: ${paths[lib]}`);\n",
       "        document.getElementsByTagName(\"head\")[0].appendChild(s);\n",
       "      });\n",
       "    }\n",
       "\n",
       "    function showError(err) {\n",
       "      outputDiv.innerHTML = `<div class=\"error\" style=\"color:red;\">${err}</div>`;\n",
       "      throw err;\n",
       "    }\n",
       "\n",
       "    function displayChart(vegaEmbed) {\n",
       "      vegaEmbed(outputDiv, spec, embedOpt)\n",
       "        .catch(err => showError(`Javascript Error: ${err.message}<br>This usually means there's a typo in your chart specification. See the javascript console for the full traceback.`));\n",
       "    }\n",
       "\n",
       "    if(typeof define === \"function\" && define.amd) {\n",
       "      requirejs.config({paths});\n",
       "      require([\"vega-embed\"], displayChart, err => showError(`Error loading script: ${err.message}`));\n",
       "    } else if (typeof vegaEmbed === \"function\") {\n",
       "      displayChart(vegaEmbed);\n",
       "    } else {\n",
       "      loadScript(\"vega\")\n",
       "        .then(() => loadScript(\"vega-lite\"))\n",
       "        .then(() => loadScript(\"vega-embed\"))\n",
       "        .catch(showError)\n",
       "        .then(() => displayChart(vegaEmbed));\n",
       "    }\n",
       "  })({\"config\": {\"view\": {\"continuousWidth\": 400, \"continuousHeight\": 300}}, \"data\": {\"name\": \"data-3d23a3381c61efd5a9c7a8abc82c6d65\"}, \"mark\": \"bar\", \"encoding\": {\"x\": {\"type\": \"quantitative\", \"aggregate\": \"median\", \"field\": \"X\"}, \"y\": {\"type\": \"nominal\", \"field\": \"Series\"}}, \"$schema\": \"https://vega.github.io/schema/vega-lite/v4.8.1.json\", \"datasets\": {\"data-3d23a3381c61efd5a9c7a8abc82c6d65\": [{\"Series\": \"I\", \"X\": 10, \"Y\": 8.04}, {\"Series\": \"I\", \"X\": 8, \"Y\": 6.95}, {\"Series\": \"I\", \"X\": 13, \"Y\": 7.58}, {\"Series\": \"I\", \"X\": 9, \"Y\": 8.81}, {\"Series\": \"I\", \"X\": 11, \"Y\": 8.33}, {\"Series\": \"I\", \"X\": 14, \"Y\": 9.96}, {\"Series\": \"I\", \"X\": 6, \"Y\": 7.24}, {\"Series\": \"I\", \"X\": 4, \"Y\": 4.26}, {\"Series\": \"I\", \"X\": 12, \"Y\": 10.84}, {\"Series\": \"I\", \"X\": 7, \"Y\": 4.8100000000000005}, {\"Series\": \"I\", \"X\": 5, \"Y\": 5.68}, {\"Series\": \"II\", \"X\": 10, \"Y\": 9.14}, {\"Series\": \"II\", \"X\": 8, \"Y\": 8.14}, {\"Series\": \"II\", \"X\": 13, \"Y\": 8.74}, {\"Series\": \"II\", \"X\": 9, \"Y\": 8.77}, {\"Series\": \"II\", \"X\": 11, \"Y\": 9.26}, {\"Series\": \"II\", \"X\": 14, \"Y\": 8.1}, {\"Series\": \"II\", \"X\": 6, \"Y\": 6.13}, {\"Series\": \"II\", \"X\": 4, \"Y\": 3.1}, {\"Series\": \"II\", \"X\": 12, \"Y\": 9.13}, {\"Series\": \"II\", \"X\": 7, \"Y\": 7.26}, {\"Series\": \"II\", \"X\": 5, \"Y\": 4.74}, {\"Series\": \"III\", \"X\": 10, \"Y\": 7.46}, {\"Series\": \"III\", \"X\": 8, \"Y\": 6.77}, {\"Series\": \"III\", \"X\": 13, \"Y\": 12.74}, {\"Series\": \"III\", \"X\": 9, \"Y\": 7.11}, {\"Series\": \"III\", \"X\": 11, \"Y\": 7.8100000000000005}, {\"Series\": \"III\", \"X\": 14, \"Y\": 8.84}, {\"Series\": \"III\", \"X\": 6, \"Y\": 6.08}, {\"Series\": \"III\", \"X\": 4, \"Y\": 5.39}, {\"Series\": \"III\", \"X\": 12, \"Y\": 8.15}, {\"Series\": \"III\", \"X\": 7, \"Y\": 6.42}, {\"Series\": \"III\", \"X\": 5, \"Y\": 5.73}, {\"Series\": \"IV\", \"X\": 8, \"Y\": 6.58}, {\"Series\": \"IV\", \"X\": 8, \"Y\": 5.76}, {\"Series\": \"IV\", \"X\": 8, \"Y\": 7.71}, {\"Series\": \"IV\", \"X\": 8, \"Y\": 8.84}, {\"Series\": \"IV\", \"X\": 8, \"Y\": 8.47}, {\"Series\": \"IV\", \"X\": 8, \"Y\": 7.04}, {\"Series\": \"IV\", \"X\": 8, \"Y\": 5.25}, {\"Series\": \"IV\", \"X\": 19, \"Y\": 12.5}, {\"Series\": \"IV\", \"X\": 8, \"Y\": 5.5600000000000005}, {\"Series\": \"IV\", \"X\": 8, \"Y\": 7.91}, {\"Series\": \"IV\", \"X\": 8, \"Y\": 6.89}]}}, {\"mode\": \"vega-lite\"});\n",
       "</script>"
      ],
      "text/plain": [
       "alt.Chart(...)"
      ]
     },
     "execution_count": 99,
     "metadata": {},
     "output_type": "execute_result"
    }
   ],
   "source": [
    "alt.Chart(dataset).mark_bar().encode(\n",
    "    x='median(X)',\n",
    "    y='Series',\n",
    ")"
   ]
  },
  {
   "cell_type": "code",
   "execution_count": 99,
   "id": "7f3381e2-92dd-4ebd-a934-c3edaede0f8e",
   "metadata": {},
   "outputs": [
    {
     "data": {
      "text/html": [
       "\n",
       "<div id=\"altair-viz-4e5ad9ecd38c4c779f6c215605045440\"></div>\n",
       "<script type=\"text/javascript\">\n",
       "  (function(spec, embedOpt){\n",
       "    let outputDiv = document.currentScript.previousElementSibling;\n",
       "    if (outputDiv.id !== \"altair-viz-4e5ad9ecd38c4c779f6c215605045440\") {\n",
       "      outputDiv = document.getElementById(\"altair-viz-4e5ad9ecd38c4c779f6c215605045440\");\n",
       "    }\n",
       "    const paths = {\n",
       "      \"vega\": \"https://cdn.jsdelivr.net/npm//vega@5?noext\",\n",
       "      \"vega-lib\": \"https://cdn.jsdelivr.net/npm//vega-lib?noext\",\n",
       "      \"vega-lite\": \"https://cdn.jsdelivr.net/npm//vega-lite@4.8.1?noext\",\n",
       "      \"vega-embed\": \"https://cdn.jsdelivr.net/npm//vega-embed@6?noext\",\n",
       "    };\n",
       "\n",
       "    function loadScript(lib) {\n",
       "      return new Promise(function(resolve, reject) {\n",
       "        var s = document.createElement('script');\n",
       "        s.src = paths[lib];\n",
       "        s.async = true;\n",
       "        s.onload = () => resolve(paths[lib]);\n",
       "        s.onerror = () => reject(`Error loading script: ${paths[lib]}`);\n",
       "        document.getElementsByTagName(\"head\")[0].appendChild(s);\n",
       "      });\n",
       "    }\n",
       "\n",
       "    function showError(err) {\n",
       "      outputDiv.innerHTML = `<div class=\"error\" style=\"color:red;\">${err}</div>`;\n",
       "      throw err;\n",
       "    }\n",
       "\n",
       "    function displayChart(vegaEmbed) {\n",
       "      vegaEmbed(outputDiv, spec, embedOpt)\n",
       "        .catch(err => showError(`Javascript Error: ${err.message}<br>This usually means there's a typo in your chart specification. See the javascript console for the full traceback.`));\n",
       "    }\n",
       "\n",
       "    if(typeof define === \"function\" && define.amd) {\n",
       "      requirejs.config({paths});\n",
       "      require([\"vega-embed\"], displayChart, err => showError(`Error loading script: ${err.message}`));\n",
       "    } else if (typeof vegaEmbed === \"function\") {\n",
       "      displayChart(vegaEmbed);\n",
       "    } else {\n",
       "      loadScript(\"vega\")\n",
       "        .then(() => loadScript(\"vega-lite\"))\n",
       "        .then(() => loadScript(\"vega-embed\"))\n",
       "        .catch(showError)\n",
       "        .then(() => displayChart(vegaEmbed));\n",
       "    }\n",
       "  })({\"config\": {\"view\": {\"continuousWidth\": 400, \"continuousHeight\": 300}}, \"data\": {\"name\": \"data-3d23a3381c61efd5a9c7a8abc82c6d65\"}, \"mark\": \"bar\", \"encoding\": {\"x\": {\"type\": \"quantitative\", \"aggregate\": \"median\", \"field\": \"X\"}, \"y\": {\"type\": \"nominal\", \"field\": \"Series\"}}, \"$schema\": \"https://vega.github.io/schema/vega-lite/v4.8.1.json\", \"datasets\": {\"data-3d23a3381c61efd5a9c7a8abc82c6d65\": [{\"Series\": \"I\", \"X\": 10, \"Y\": 8.04}, {\"Series\": \"I\", \"X\": 8, \"Y\": 6.95}, {\"Series\": \"I\", \"X\": 13, \"Y\": 7.58}, {\"Series\": \"I\", \"X\": 9, \"Y\": 8.81}, {\"Series\": \"I\", \"X\": 11, \"Y\": 8.33}, {\"Series\": \"I\", \"X\": 14, \"Y\": 9.96}, {\"Series\": \"I\", \"X\": 6, \"Y\": 7.24}, {\"Series\": \"I\", \"X\": 4, \"Y\": 4.26}, {\"Series\": \"I\", \"X\": 12, \"Y\": 10.84}, {\"Series\": \"I\", \"X\": 7, \"Y\": 4.8100000000000005}, {\"Series\": \"I\", \"X\": 5, \"Y\": 5.68}, {\"Series\": \"II\", \"X\": 10, \"Y\": 9.14}, {\"Series\": \"II\", \"X\": 8, \"Y\": 8.14}, {\"Series\": \"II\", \"X\": 13, \"Y\": 8.74}, {\"Series\": \"II\", \"X\": 9, \"Y\": 8.77}, {\"Series\": \"II\", \"X\": 11, \"Y\": 9.26}, {\"Series\": \"II\", \"X\": 14, \"Y\": 8.1}, {\"Series\": \"II\", \"X\": 6, \"Y\": 6.13}, {\"Series\": \"II\", \"X\": 4, \"Y\": 3.1}, {\"Series\": \"II\", \"X\": 12, \"Y\": 9.13}, {\"Series\": \"II\", \"X\": 7, \"Y\": 7.26}, {\"Series\": \"II\", \"X\": 5, \"Y\": 4.74}, {\"Series\": \"III\", \"X\": 10, \"Y\": 7.46}, {\"Series\": \"III\", \"X\": 8, \"Y\": 6.77}, {\"Series\": \"III\", \"X\": 13, \"Y\": 12.74}, {\"Series\": \"III\", \"X\": 9, \"Y\": 7.11}, {\"Series\": \"III\", \"X\": 11, \"Y\": 7.8100000000000005}, {\"Series\": \"III\", \"X\": 14, \"Y\": 8.84}, {\"Series\": \"III\", \"X\": 6, \"Y\": 6.08}, {\"Series\": \"III\", \"X\": 4, \"Y\": 5.39}, {\"Series\": \"III\", \"X\": 12, \"Y\": 8.15}, {\"Series\": \"III\", \"X\": 7, \"Y\": 6.42}, {\"Series\": \"III\", \"X\": 5, \"Y\": 5.73}, {\"Series\": \"IV\", \"X\": 8, \"Y\": 6.58}, {\"Series\": \"IV\", \"X\": 8, \"Y\": 5.76}, {\"Series\": \"IV\", \"X\": 8, \"Y\": 7.71}, {\"Series\": \"IV\", \"X\": 8, \"Y\": 8.84}, {\"Series\": \"IV\", \"X\": 8, \"Y\": 8.47}, {\"Series\": \"IV\", \"X\": 8, \"Y\": 7.04}, {\"Series\": \"IV\", \"X\": 8, \"Y\": 5.25}, {\"Series\": \"IV\", \"X\": 19, \"Y\": 12.5}, {\"Series\": \"IV\", \"X\": 8, \"Y\": 5.5600000000000005}, {\"Series\": \"IV\", \"X\": 8, \"Y\": 7.91}, {\"Series\": \"IV\", \"X\": 8, \"Y\": 6.89}]}}, {\"mode\": \"vega-lite\"});\n",
       "</script>"
      ],
      "text/plain": [
       "alt.Chart(...)"
      ]
     },
     "execution_count": 99,
     "metadata": {},
     "output_type": "execute_result"
    }
   ],
   "source": [
    "alt.Chart(dataset).mark_bar().encode(\n",
    "    x='median(X)',\n",
    "    y='Series',\n",
    ")"
   ]
  },
  {
   "cell_type": "markdown",
   "id": "e75bb0ac-dee0-4081-b3aa-4b140ecd6cb3",
   "metadata": {},
   "source": [
    "### Bins"
   ]
  },
  {
   "cell_type": "code",
   "execution_count": 111,
   "id": "290c12f4-a61b-4778-9ffd-6970f1af7393",
   "metadata": {},
   "outputs": [
    {
     "data": {
      "text/html": [
       "\n",
       "<div id=\"altair-viz-6c4820ab24e74faba8031cb83c396e10\"></div>\n",
       "<script type=\"text/javascript\">\n",
       "  (function(spec, embedOpt){\n",
       "    let outputDiv = document.currentScript.previousElementSibling;\n",
       "    if (outputDiv.id !== \"altair-viz-6c4820ab24e74faba8031cb83c396e10\") {\n",
       "      outputDiv = document.getElementById(\"altair-viz-6c4820ab24e74faba8031cb83c396e10\");\n",
       "    }\n",
       "    const paths = {\n",
       "      \"vega\": \"https://cdn.jsdelivr.net/npm//vega@5?noext\",\n",
       "      \"vega-lib\": \"https://cdn.jsdelivr.net/npm//vega-lib?noext\",\n",
       "      \"vega-lite\": \"https://cdn.jsdelivr.net/npm//vega-lite@4.8.1?noext\",\n",
       "      \"vega-embed\": \"https://cdn.jsdelivr.net/npm//vega-embed@6?noext\",\n",
       "    };\n",
       "\n",
       "    function loadScript(lib) {\n",
       "      return new Promise(function(resolve, reject) {\n",
       "        var s = document.createElement('script');\n",
       "        s.src = paths[lib];\n",
       "        s.async = true;\n",
       "        s.onload = () => resolve(paths[lib]);\n",
       "        s.onerror = () => reject(`Error loading script: ${paths[lib]}`);\n",
       "        document.getElementsByTagName(\"head\")[0].appendChild(s);\n",
       "      });\n",
       "    }\n",
       "\n",
       "    function showError(err) {\n",
       "      outputDiv.innerHTML = `<div class=\"error\" style=\"color:red;\">${err}</div>`;\n",
       "      throw err;\n",
       "    }\n",
       "\n",
       "    function displayChart(vegaEmbed) {\n",
       "      vegaEmbed(outputDiv, spec, embedOpt)\n",
       "        .catch(err => showError(`Javascript Error: ${err.message}<br>This usually means there's a typo in your chart specification. See the javascript console for the full traceback.`));\n",
       "    }\n",
       "\n",
       "    if(typeof define === \"function\" && define.amd) {\n",
       "      requirejs.config({paths});\n",
       "      require([\"vega-embed\"], displayChart, err => showError(`Error loading script: ${err.message}`));\n",
       "    } else if (typeof vegaEmbed === \"function\") {\n",
       "      displayChart(vegaEmbed);\n",
       "    } else {\n",
       "      loadScript(\"vega\")\n",
       "        .then(() => loadScript(\"vega-lite\"))\n",
       "        .then(() => loadScript(\"vega-embed\"))\n",
       "        .catch(showError)\n",
       "        .then(() => displayChart(vegaEmbed));\n",
       "    }\n",
       "  })({\"config\": {\"view\": {\"continuousWidth\": 400, \"continuousHeight\": 300}}, \"data\": {\"name\": \"data-3d23a3381c61efd5a9c7a8abc82c6d65\"}, \"mark\": \"bar\", \"encoding\": {\"x\": {\"type\": \"quantitative\", \"aggregate\": \"count\"}, \"y\": {\"type\": \"quantitative\", \"bin\": true, \"field\": \"Y\"}}, \"$schema\": \"https://vega.github.io/schema/vega-lite/v4.8.1.json\", \"datasets\": {\"data-3d23a3381c61efd5a9c7a8abc82c6d65\": [{\"Series\": \"I\", \"X\": 10, \"Y\": 8.04}, {\"Series\": \"I\", \"X\": 8, \"Y\": 6.95}, {\"Series\": \"I\", \"X\": 13, \"Y\": 7.58}, {\"Series\": \"I\", \"X\": 9, \"Y\": 8.81}, {\"Series\": \"I\", \"X\": 11, \"Y\": 8.33}, {\"Series\": \"I\", \"X\": 14, \"Y\": 9.96}, {\"Series\": \"I\", \"X\": 6, \"Y\": 7.24}, {\"Series\": \"I\", \"X\": 4, \"Y\": 4.26}, {\"Series\": \"I\", \"X\": 12, \"Y\": 10.84}, {\"Series\": \"I\", \"X\": 7, \"Y\": 4.8100000000000005}, {\"Series\": \"I\", \"X\": 5, \"Y\": 5.68}, {\"Series\": \"II\", \"X\": 10, \"Y\": 9.14}, {\"Series\": \"II\", \"X\": 8, \"Y\": 8.14}, {\"Series\": \"II\", \"X\": 13, \"Y\": 8.74}, {\"Series\": \"II\", \"X\": 9, \"Y\": 8.77}, {\"Series\": \"II\", \"X\": 11, \"Y\": 9.26}, {\"Series\": \"II\", \"X\": 14, \"Y\": 8.1}, {\"Series\": \"II\", \"X\": 6, \"Y\": 6.13}, {\"Series\": \"II\", \"X\": 4, \"Y\": 3.1}, {\"Series\": \"II\", \"X\": 12, \"Y\": 9.13}, {\"Series\": \"II\", \"X\": 7, \"Y\": 7.26}, {\"Series\": \"II\", \"X\": 5, \"Y\": 4.74}, {\"Series\": \"III\", \"X\": 10, \"Y\": 7.46}, {\"Series\": \"III\", \"X\": 8, \"Y\": 6.77}, {\"Series\": \"III\", \"X\": 13, \"Y\": 12.74}, {\"Series\": \"III\", \"X\": 9, \"Y\": 7.11}, {\"Series\": \"III\", \"X\": 11, \"Y\": 7.8100000000000005}, {\"Series\": \"III\", \"X\": 14, \"Y\": 8.84}, {\"Series\": \"III\", \"X\": 6, \"Y\": 6.08}, {\"Series\": \"III\", \"X\": 4, \"Y\": 5.39}, {\"Series\": \"III\", \"X\": 12, \"Y\": 8.15}, {\"Series\": \"III\", \"X\": 7, \"Y\": 6.42}, {\"Series\": \"III\", \"X\": 5, \"Y\": 5.73}, {\"Series\": \"IV\", \"X\": 8, \"Y\": 6.58}, {\"Series\": \"IV\", \"X\": 8, \"Y\": 5.76}, {\"Series\": \"IV\", \"X\": 8, \"Y\": 7.71}, {\"Series\": \"IV\", \"X\": 8, \"Y\": 8.84}, {\"Series\": \"IV\", \"X\": 8, \"Y\": 8.47}, {\"Series\": \"IV\", \"X\": 8, \"Y\": 7.04}, {\"Series\": \"IV\", \"X\": 8, \"Y\": 5.25}, {\"Series\": \"IV\", \"X\": 19, \"Y\": 12.5}, {\"Series\": \"IV\", \"X\": 8, \"Y\": 5.5600000000000005}, {\"Series\": \"IV\", \"X\": 8, \"Y\": 7.91}, {\"Series\": \"IV\", \"X\": 8, \"Y\": 6.89}]}}, {\"mode\": \"vega-lite\"});\n",
       "</script>"
      ],
      "text/plain": [
       "alt.Chart(...)"
      ]
     },
     "execution_count": 111,
     "metadata": {},
     "output_type": "execute_result"
    }
   ],
   "source": [
    "alt.Chart(dataset).mark_bar().encode(\n",
    "    x='count()',\n",
    "    y=alt.Y('Y', bin=True),\n",
    ")"
   ]
  },
  {
   "cell_type": "code",
   "execution_count": 109,
   "id": "14e1df5e-4c05-4588-90ac-8465b2b16737",
   "metadata": {},
   "outputs": [
    {
     "data": {
      "text/html": [
       "\n",
       "<div id=\"altair-viz-1cadbf683d644b469149bb8699612878\"></div>\n",
       "<script type=\"text/javascript\">\n",
       "  (function(spec, embedOpt){\n",
       "    let outputDiv = document.currentScript.previousElementSibling;\n",
       "    if (outputDiv.id !== \"altair-viz-1cadbf683d644b469149bb8699612878\") {\n",
       "      outputDiv = document.getElementById(\"altair-viz-1cadbf683d644b469149bb8699612878\");\n",
       "    }\n",
       "    const paths = {\n",
       "      \"vega\": \"https://cdn.jsdelivr.net/npm//vega@5?noext\",\n",
       "      \"vega-lib\": \"https://cdn.jsdelivr.net/npm//vega-lib?noext\",\n",
       "      \"vega-lite\": \"https://cdn.jsdelivr.net/npm//vega-lite@4.8.1?noext\",\n",
       "      \"vega-embed\": \"https://cdn.jsdelivr.net/npm//vega-embed@6?noext\",\n",
       "    };\n",
       "\n",
       "    function loadScript(lib) {\n",
       "      return new Promise(function(resolve, reject) {\n",
       "        var s = document.createElement('script');\n",
       "        s.src = paths[lib];\n",
       "        s.async = true;\n",
       "        s.onload = () => resolve(paths[lib]);\n",
       "        s.onerror = () => reject(`Error loading script: ${paths[lib]}`);\n",
       "        document.getElementsByTagName(\"head\")[0].appendChild(s);\n",
       "      });\n",
       "    }\n",
       "\n",
       "    function showError(err) {\n",
       "      outputDiv.innerHTML = `<div class=\"error\" style=\"color:red;\">${err}</div>`;\n",
       "      throw err;\n",
       "    }\n",
       "\n",
       "    function displayChart(vegaEmbed) {\n",
       "      vegaEmbed(outputDiv, spec, embedOpt)\n",
       "        .catch(err => showError(`Javascript Error: ${err.message}<br>This usually means there's a typo in your chart specification. See the javascript console for the full traceback.`));\n",
       "    }\n",
       "\n",
       "    if(typeof define === \"function\" && define.amd) {\n",
       "      requirejs.config({paths});\n",
       "      require([\"vega-embed\"], displayChart, err => showError(`Error loading script: ${err.message}`));\n",
       "    } else if (typeof vegaEmbed === \"function\") {\n",
       "      displayChart(vegaEmbed);\n",
       "    } else {\n",
       "      loadScript(\"vega\")\n",
       "        .then(() => loadScript(\"vega-lite\"))\n",
       "        .then(() => loadScript(\"vega-embed\"))\n",
       "        .catch(showError)\n",
       "        .then(() => displayChart(vegaEmbed));\n",
       "    }\n",
       "  })({\"config\": {\"view\": {\"continuousWidth\": 400, \"continuousHeight\": 300}}, \"data\": {\"name\": \"data-3d23a3381c61efd5a9c7a8abc82c6d65\"}, \"mark\": \"bar\", \"encoding\": {\"x\": {\"type\": \"quantitative\", \"aggregate\": \"count\"}, \"y\": {\"type\": \"quantitative\", \"bin\": {\"maxbins\": 5}, \"field\": \"Y\"}}, \"$schema\": \"https://vega.github.io/schema/vega-lite/v4.8.1.json\", \"datasets\": {\"data-3d23a3381c61efd5a9c7a8abc82c6d65\": [{\"Series\": \"I\", \"X\": 10, \"Y\": 8.04}, {\"Series\": \"I\", \"X\": 8, \"Y\": 6.95}, {\"Series\": \"I\", \"X\": 13, \"Y\": 7.58}, {\"Series\": \"I\", \"X\": 9, \"Y\": 8.81}, {\"Series\": \"I\", \"X\": 11, \"Y\": 8.33}, {\"Series\": \"I\", \"X\": 14, \"Y\": 9.96}, {\"Series\": \"I\", \"X\": 6, \"Y\": 7.24}, {\"Series\": \"I\", \"X\": 4, \"Y\": 4.26}, {\"Series\": \"I\", \"X\": 12, \"Y\": 10.84}, {\"Series\": \"I\", \"X\": 7, \"Y\": 4.8100000000000005}, {\"Series\": \"I\", \"X\": 5, \"Y\": 5.68}, {\"Series\": \"II\", \"X\": 10, \"Y\": 9.14}, {\"Series\": \"II\", \"X\": 8, \"Y\": 8.14}, {\"Series\": \"II\", \"X\": 13, \"Y\": 8.74}, {\"Series\": \"II\", \"X\": 9, \"Y\": 8.77}, {\"Series\": \"II\", \"X\": 11, \"Y\": 9.26}, {\"Series\": \"II\", \"X\": 14, \"Y\": 8.1}, {\"Series\": \"II\", \"X\": 6, \"Y\": 6.13}, {\"Series\": \"II\", \"X\": 4, \"Y\": 3.1}, {\"Series\": \"II\", \"X\": 12, \"Y\": 9.13}, {\"Series\": \"II\", \"X\": 7, \"Y\": 7.26}, {\"Series\": \"II\", \"X\": 5, \"Y\": 4.74}, {\"Series\": \"III\", \"X\": 10, \"Y\": 7.46}, {\"Series\": \"III\", \"X\": 8, \"Y\": 6.77}, {\"Series\": \"III\", \"X\": 13, \"Y\": 12.74}, {\"Series\": \"III\", \"X\": 9, \"Y\": 7.11}, {\"Series\": \"III\", \"X\": 11, \"Y\": 7.8100000000000005}, {\"Series\": \"III\", \"X\": 14, \"Y\": 8.84}, {\"Series\": \"III\", \"X\": 6, \"Y\": 6.08}, {\"Series\": \"III\", \"X\": 4, \"Y\": 5.39}, {\"Series\": \"III\", \"X\": 12, \"Y\": 8.15}, {\"Series\": \"III\", \"X\": 7, \"Y\": 6.42}, {\"Series\": \"III\", \"X\": 5, \"Y\": 5.73}, {\"Series\": \"IV\", \"X\": 8, \"Y\": 6.58}, {\"Series\": \"IV\", \"X\": 8, \"Y\": 5.76}, {\"Series\": \"IV\", \"X\": 8, \"Y\": 7.71}, {\"Series\": \"IV\", \"X\": 8, \"Y\": 8.84}, {\"Series\": \"IV\", \"X\": 8, \"Y\": 8.47}, {\"Series\": \"IV\", \"X\": 8, \"Y\": 7.04}, {\"Series\": \"IV\", \"X\": 8, \"Y\": 5.25}, {\"Series\": \"IV\", \"X\": 19, \"Y\": 12.5}, {\"Series\": \"IV\", \"X\": 8, \"Y\": 5.5600000000000005}, {\"Series\": \"IV\", \"X\": 8, \"Y\": 7.91}, {\"Series\": \"IV\", \"X\": 8, \"Y\": 6.89}]}}, {\"mode\": \"vega-lite\"});\n",
       "</script>"
      ],
      "text/plain": [
       "alt.Chart(...)"
      ]
     },
     "execution_count": 109,
     "metadata": {},
     "output_type": "execute_result"
    }
   ],
   "source": [
    "alt.Chart(dataset).mark_bar().encode(\n",
    "    x='count()',\n",
    "    y=alt.Y('Y', bin=alt.Bin(maxbins=5)),\n",
    ")"
   ]
  },
  {
   "cell_type": "markdown",
   "id": "2aaf1db7-0ae0-4501-a1ff-bfd5b76e3b70",
   "metadata": {},
   "source": [
    "## References\n",
    "\n",
    "- [Exploratory Data Visualization with Altair - Official Documentation](https://altair-viz.github.io/altair-tutorial/notebooks/02-Simple-Charts.html)\n",
    "- [Visualization Curriculum - UW Interactive Data Lab](https://uwdata.github.io/visualization-curriculum/intro.html)\n",
    "- [CheatSheet 100+ Part 1 - Raenish David](https://www.kaggle.com/raenish/cheatsheet-100-altair-plots-part-1-basic/)\n",
    "- [CheatSheet 100+ Part 2 - Raenish David](https://www.kaggle.com/raenish/cheatsheet-100-altair-plots-part-2-advanced)\n"
   ]
  }
 ],
 "metadata": {
  "kernelspec": {
   "display_name": "Python 3",
   "language": "python",
   "name": "python3"
  },
  "language_info": {
   "codemirror_mode": {
    "name": "ipython",
    "version": 3
   },
   "file_extension": ".py",
   "mimetype": "text/x-python",
   "name": "python",
   "nbconvert_exporter": "python",
   "pygments_lexer": "ipython3",
   "version": "3.8.10"
  },
  "widgets": {
   "application/vnd.jupyter.widget-state+json": {
    "state": {},
    "version_major": 2,
    "version_minor": 0
   }
  }
 },
 "nbformat": 4,
 "nbformat_minor": 5
}
