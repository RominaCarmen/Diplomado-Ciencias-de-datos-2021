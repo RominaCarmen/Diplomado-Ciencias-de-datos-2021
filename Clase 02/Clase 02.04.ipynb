{
 "cells": [
  {
   "cell_type": "markdown",
   "id": "03599fd9-cb7f-43a9-9ff8-a83af7935101",
   "metadata": {
    "tags": []
   },
   "source": [
    "# Animations Frame by Frame"
   ]
  },
  {
   "cell_type": "code",
   "execution_count": 1,
   "id": "45f7fdfc-0df5-4ab6-93c0-19675cab0e36",
   "metadata": {},
   "outputs": [],
   "source": [
    "from pathlib import Path\n",
    "Path(\"output/frames\").mkdir(exist_ok=True, parents=True)"
   ]
  },
  {
   "cell_type": "code",
   "execution_count": 2,
   "id": "2523e5ec-e165-4b59-9f35-2121057fcbe7",
   "metadata": {},
   "outputs": [],
   "source": [
    "import numpy as np\n",
    "\n",
    "from tqdm.notebook import tqdm\n",
    "\n",
    "from matplotlib import pyplot as plt\n",
    "from matplotlib import animation, rc\n",
    "\n",
    "plt.rcParams[\"figure.figsize\"] = 16, 4\n",
    "plt.style.use(\"bmh\")"
   ]
  },
  {
   "cell_type": "markdown",
   "id": "592a578e-4522-48d6-8a9d-6d57c122b9ce",
   "metadata": {},
   "source": [
    "## Saving Frame by Frame"
   ]
  },
  {
   "cell_type": "code",
   "execution_count": 3,
   "id": "2d20a846-e851-4359-814d-f2344069ecae",
   "metadata": {},
   "outputs": [
    {
     "data": {
      "application/vnd.jupyter.widget-view+json": {
       "model_id": "406a9a8a4c6f4ce58d6a8b5572a1fe35",
       "version_major": 2,
       "version_minor": 0
      },
      "text/plain": [
       "  0%|          | 0/377 [00:00<?, ?it/s]"
      ]
     },
     "metadata": {},
     "output_type": "display_data"
    }
   ],
   "source": [
    "frames = 377 # 6 seconds at 60fps\n",
    "\n",
    "for i in tqdm(range(frames)):\n",
    "    figure, ax = plt.subplots();\n",
    "    \n",
    "    step = i / 60\n",
    "    x = np.arange(0, 2 * np.pi, 0.05)\n",
    "    y = np.sin(x + step)\n",
    "    ax.plot(x, y, color=\"steelblue\")\n",
    "    ax.set_yticks([])\n",
    "    ax.set_xticks([])\n",
    "    \n",
    "    plt.tight_layout()\n",
    "    plt.savefig(f\"output/frames/frame_{str(i).zfill(3)}.png\")\n",
    "    plt.close()"
   ]
  },
  {
   "cell_type": "markdown",
   "id": "1b64fb70-bfdb-4a82-9e87-f712912a00f2",
   "metadata": {},
   "source": [
    "## Generate Video from Still Image"
   ]
  },
  {
   "cell_type": "code",
   "execution_count": 4,
   "id": "b4299452-bd56-4418-ad31-876c3a2d460b",
   "metadata": {},
   "outputs": [],
   "source": [
    "import subprocess"
   ]
  },
  {
   "cell_type": "code",
   "execution_count": 5,
   "id": "239d35f8-6eae-4ac1-88a2-59b6415cf7eb",
   "metadata": {},
   "outputs": [
    {
     "data": {
      "text/plain": [
       "CompletedProcess(args='ffmpeg -framerate 60 -i output/frames/frame_%03d.png output\\\\frame_by_frame_60fps.mp4', returncode=0)"
      ]
     },
     "execution_count": 5,
     "metadata": {},
     "output_type": "execute_result"
    }
   ],
   "source": [
    "output_file = Path(\"output/frame_by_frame_60fps.mp4\")\n",
    "\n",
    "if output_file.exists():\n",
    "    output_file.unlink()\n",
    "    \n",
    "subprocess.run(f\"ffmpeg -framerate 60 -i output/frames/frame_%03d.png {output_file}\")"
   ]
  },
  {
   "cell_type": "markdown",
   "id": "5f972afc-f041-442c-889d-463c8706d572",
   "metadata": {},
   "source": [
    "## Show Video"
   ]
  },
  {
   "cell_type": "code",
   "execution_count": 6,
   "id": "0a829374-7c6b-4e4b-bb53-2f133484be40",
   "metadata": {},
   "outputs": [],
   "source": [
    "from IPython.display import Video"
   ]
  },
  {
   "cell_type": "code",
   "execution_count": 7,
   "id": "5620a497-2d4b-40df-b005-9ef0201910ee",
   "metadata": {},
   "outputs": [
    {
     "data": {
      "text/html": [
       "<video src=\"output/frame_by_frame_60fps.mp4\" controls  >\n",
       "      Your browser does not support the <code>video</code> element.\n",
       "    </video>"
      ],
      "text/plain": [
       "<IPython.core.display.Video object>"
      ]
     },
     "execution_count": 7,
     "metadata": {},
     "output_type": "execute_result"
    }
   ],
   "source": [
    "Video(\"output/frame_by_frame_60fps.mp4\")"
   ]
  },
  {
   "cell_type": "markdown",
   "id": "05acd223-d762-48ef-8c6d-38faf48e50b3",
   "metadata": {},
   "source": [
    "## References\n",
    "\n",
    "[Create a video slideshow from images – FFmpeg](https://trac.ffmpeg.org/wiki/Slideshow)"
   ]
  }
 ],
 "metadata": {
  "kernelspec": {
   "display_name": "Python 3 (ipykernel)",
   "language": "python",
   "name": "python3"
  },
  "language_info": {
   "codemirror_mode": {
    "name": "ipython",
    "version": 3
   },
   "file_extension": ".py",
   "mimetype": "text/x-python",
   "name": "python",
   "nbconvert_exporter": "python",
   "pygments_lexer": "ipython3",
   "version": "3.8.5"
  }
 },
 "nbformat": 4,
 "nbformat_minor": 5
}
