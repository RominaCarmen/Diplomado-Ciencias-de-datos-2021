{
 "cells": [
  {
   "cell_type": "markdown",
   "metadata": {
    "slideshow": {
     "slide_type": "slide"
    }
   },
   "source": [
    "<h1><center>Visualización y Comunicación de Resultados<br><br><small>(Python Version)</small></center></h1> "
   ]
  },
  {
   "cell_type": "markdown",
   "metadata": {
    "slideshow": {
     "slide_type": "subslide"
    }
   },
   "source": [
    "## Contenido del Curso\n",
    "\n",
    "- **Clase 01**: Landscape de Data Visualization - Diferencias con BI, dashboards y soluciones gratis no open source\n",
    "- **Clase 02**: Animaciones con Matplotlib, nativas y con un wrapper - Uso de FFMpeg, Celluloid y FuncAnimation\n",
    "- **Clase 03**: Creación de Jupyter Apps con Widgets - Tipos de Widgets y como combinarlos - Programación de eventos\n",
    "- **Clase 04**: Gráficos Interactivos con Altair - Gramática de Gráficos e insersión en sitios estáticos mediante Javascript\n",
    "- **Clase 05**: Desarrollo de aplicaciones Web con Streamlit - Como desplegar la aplicación con NGrok y consideraciones de seguridad"
   ]
  },
  {
   "cell_type": "markdown",
   "metadata": {
    "slideshow": {
     "slide_type": "slide"
    }
   },
   "source": [
    "## Encuesta Diagnóstica\n",
    "\n",
    "Entrar en https://b.socrative.com/login/student/\n",
    "\n",
    "Room ID: **DIPLOMATURADS**"
   ]
  },
  {
   "cell_type": "markdown",
   "metadata": {
    "slideshow": {
     "slide_type": "slide"
    }
   },
   "source": [
    "## Python Data Visualization Landscape"
   ]
  },
  {
   "cell_type": "markdown",
   "metadata": {
    "slideshow": {
     "slide_type": "subslide"
    }
   },
   "source": [
    "<img src=../images/data_viz_landscape_all.png>\n",
    "\n",
    "<small>Source: https://pyviz.org/tools.html</small>"
   ]
  },
  {
   "cell_type": "markdown",
   "metadata": {
    "slideshow": {
     "slide_type": "subslide"
    }
   },
   "source": [
    "<img src=../images/data_viz_landscape_obsolete.png>\n",
    "\n",
    "<small>Source: https://pyviz.org/tools.html (With Modifications)</small>"
   ]
  },
  {
   "cell_type": "markdown",
   "metadata": {
    "slideshow": {
     "slide_type": "subslide"
    }
   },
   "source": [
    "<img src=../images/data_viz_landscape_most_popular.png>\n",
    "\n",
    "<small>Source: https://pyviz.org/tools.html (With Modifications)</small>"
   ]
  },
  {
   "cell_type": "markdown",
   "metadata": {
    "slideshow": {
     "slide_type": "subslide"
    }
   },
   "source": [
    "## Top 10 Popular\n",
    "\n",
    "| Library                                \t| Github Starts <img src=https://github.githubassets.com/favicons/favicon.png width=32>                  \t| Descargas |\n",
    "|--------------\t|----------------\t|------------\t|\n",
    "| Bokeh        \t| **15K**          \t| 1.7M\t/ Mes\t|\n",
    "| Matplotlib   \t| 14K            \t| **30M\t/ Mes**\t|\n",
    "| Plotly       \t| 10K            \t| 8M\t/ Mes\t|\n",
    "| Seaborn      \t| 8.7K           \t| 9.8M\t/ Mes\t|\n",
    "| Altair       \t| 6.9K           \t| 2.4M\t/ Mes\t|\n",
    "| BQplot       \t| 3.1K           \t| 62K\t/ Mes\t|\n",
    "| Plotnine     \t| 2.8K           \t| 221K\t/ Mes\t|\n",
    "| PyGal        \t| 2.4K           \t| 109K\t/ Mes\t|\n",
    "| Cufflinks    \t| 2.3K           \t| 208K\t/ Mes\t|\n",
    "| PyQtGraph    \t| 2.5K           \t| 71K\t/ Mes\t|\n",
    "\n",
    "<small>Source: https://pyviz.org/tools.html</small>"
   ]
  },
  {
   "cell_type": "markdown",
   "metadata": {
    "slideshow": {
     "slide_type": "subslide"
    }
   },
   "source": [
    "<center><img src=../images/trends.png width=1000></center>\n",
    "\n",
    "<small>Source: https://insights.stackoverflow.com/trends?tags=plotly%2Cbokeh%2Cmatplotlib%2Cseaborn%2Cggplot2</small>"
   ]
  },
  {
   "cell_type": "markdown",
   "metadata": {
    "slideshow": {
     "slide_type": "subslide"
    }
   },
   "source": [
    "## Domain Specific\n",
    "\n",
    "|| Library                                \t| Github Starts <img src=https://github.githubassets.com/favicons/favicon.png width=32>                  \t|\n",
    "|-------------------------\t|-------------\t|-------\t|\n",
    "|              Scientific \t| Vispy       \t| 2.7K  \t|\n",
    "|              Geospatial \t| Folium      \t| 5.4K  \t|\n",
    "|     Graphs and Networks \t| NetworkX    \t| 9.6K  \t|\n",
    "|              Large Data \t| Vaex        \t| 6.5K  \t|\n",
    "| Analysis and Diagnostic \t| Yellowbrick \t| 3.3K  \t|\n",
    "|                Datasets \t| Facets      \t| 6.7K  \t|\n",
    "|    Probabilistic Models \t| Arviz       \t| 1.1K  \t|\n",
    "\n",
    "<small>Source: https://pyviz.org/tools.html</small>"
   ]
  },
  {
   "cell_type": "markdown",
   "metadata": {
    "slideshow": {
     "slide_type": "slide"
    }
   },
   "source": [
    "## Open Source vs Proprietary"
   ]
  },
  {
   "cell_type": "markdown",
   "metadata": {
    "slideshow": {
     "slide_type": "subslide"
    }
   },
   "source": [
    "<img src=../images/dashboarding_landscape.png>"
   ]
  },
  {
   "cell_type": "markdown",
   "metadata": {
    "slideshow": {
     "slide_type": "slide"
    }
   },
   "source": [
    "## Ejemplos poco Ortodoxos"
   ]
  },
  {
   "cell_type": "markdown",
   "metadata": {
    "slideshow": {
     "slide_type": "subslide"
    }
   },
   "source": [
    "<center><img src=../images/meme1.jpg width=1000></center>"
   ]
  },
  {
   "cell_type": "markdown",
   "metadata": {
    "slideshow": {
     "slide_type": "subslide"
    }
   },
   "source": [
    "<center><img src=../images/meme2.jpg></center>"
   ]
  },
  {
   "cell_type": "markdown",
   "metadata": {
    "slideshow": {
     "slide_type": "subslide"
    }
   },
   "source": [
    "<center><img src=../images/meme3.jpg width=1000></center>"
   ]
  },
  {
   "cell_type": "markdown",
   "metadata": {
    "slideshow": {
     "slide_type": "subslide"
    }
   },
   "source": [
    "<center><img src=../images/meme4.jpg></center>"
   ]
  },
  {
   "cell_type": "markdown",
   "metadata": {
    "slideshow": {
     "slide_type": "slide"
    }
   },
   "source": [
    "## Material de Referencia"
   ]
  },
  {
   "cell_type": "markdown",
   "metadata": {
    "slideshow": {
     "slide_type": "subslide"
    }
   },
   "source": [
    "<center>\n",
    "<img width=200 src=\"https://images-na.ssl-images-amazon.com/images/I/61L6t6eXkGL.jpg\">\n",
    "<img width=200 src=\"https://images-na.ssl-images-amazon.com/images/I/41vijXFyhwL._SX399_BO1,204,203,200_.jpg\">\n",
    "</center>"
   ]
  },
  {
   "cell_type": "markdown",
   "metadata": {
    "slideshow": {
     "slide_type": "subslide"
    }
   },
   "source": [
    "## Must Read\n",
    "\n",
    "[Save the Pies for Dessert](https://www.perceptualedge.com/articles/visual_business_intelligence/save_the_pies_for_dessert.pdf)\n",
    "\n",
    "## Must Watch\n",
    "\n",
    "- [PyCon 2019 Talk | How to Think about Data Visualization | Jake VanderPlas](https://www.youtube.com/watch?v=vTingdk_pVM)\n",
    "- [PyCon 2019 Tutorial | Effective Data Visualization | Husni Almoubayyed](https://www.youtube.com/watch?v=cNXioWhEeJc)\n",
    "\n",
    "## Tutoriales\n",
    "\n",
    "- [SciPy 2019 Tutorial | 3.00 hs | Hannah Aizenman, Thomas Caswell](https://www.youtube.com/watch?v=Tr4DYo4v5AY)\n",
    "- [SciPy 2018 Tutorial | 3.25 hs | Benjamin Root & Hannah Aizenman](https://www.youtube.com/watch?v=6gdNUDs6QPc)"
   ]
  }
 ],
 "metadata": {
  "celltoolbar": "Slideshow",
  "kernelspec": {
   "display_name": "Python 3",
   "language": "python",
   "name": "python3"
  },
  "language_info": {
   "codemirror_mode": {
    "name": "ipython",
    "version": 3
   },
   "file_extension": ".py",
   "mimetype": "text/x-python",
   "name": "python",
   "nbconvert_exporter": "python",
   "pygments_lexer": "ipython3",
   "version": "3.8.5"
  }
 },
 "nbformat": 4,
 "nbformat_minor": 4
}
