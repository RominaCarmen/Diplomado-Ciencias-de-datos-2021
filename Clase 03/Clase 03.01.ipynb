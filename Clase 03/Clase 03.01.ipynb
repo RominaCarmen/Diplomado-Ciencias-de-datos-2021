{
 "cells": [
  {
   "cell_type": "markdown",
   "id": "b3767d2c-a0dd-4d1d-aa94-b029540ba831",
   "metadata": {},
   "source": [
    "# IPython Widgets - Basic Widgets"
   ]
  },
  {
   "cell_type": "code",
   "execution_count": 2,
   "id": "a809ab51-1d84-4021-8da7-d532ebdcc383",
   "metadata": {},
   "outputs": [],
   "source": [
    "import ipywidgets as widgets"
   ]
  },
  {
   "cell_type": "markdown",
   "id": "5c7df816-7699-4a0f-99ff-df5406094e16",
   "metadata": {},
   "source": [
    "## IntSlider"
   ]
  },
  {
   "cell_type": "code",
   "execution_count": 3,
   "id": "c25a55db-c44a-4fe2-b54f-1f5dd2079cc7",
   "metadata": {},
   "outputs": [
    {
     "data": {
      "application/vnd.jupyter.widget-view+json": {
       "model_id": "1bbc6a1216bf4d74963218eac6e8eec5",
       "version_major": 2,
       "version_minor": 0
      },
      "text/plain": [
       "IntSlider(value=0)"
      ]
     },
     "metadata": {},
     "output_type": "display_data"
    }
   ],
   "source": [
    "widgets.IntSlider()"
   ]
  },
  {
   "cell_type": "code",
   "execution_count": 4,
   "id": "3f463c30-713a-4be4-8fff-7a88a698950e",
   "metadata": {},
   "outputs": [
    {
     "data": {
      "application/vnd.jupyter.widget-view+json": {
       "model_id": "70f41438915a4f1fa1c9ca3b02e65bfd",
       "version_major": 2,
       "version_minor": 0
      },
      "text/plain": [
       "IntSlider(value=9, max=20, min=5, orientation='vertical', step=2)"
      ]
     },
     "metadata": {},
     "output_type": "display_data"
    }
   ],
   "source": [
    "widgets.IntSlider(min=5, max=20, step=2, value=9, orientation=\"vertical\")"
   ]
  },
  {
   "cell_type": "code",
   "execution_count": 5,
   "id": "5625a2ec-1f7f-49d0-bf3c-02192a20a8b7",
   "metadata": {},
   "outputs": [
    {
     "data": {
      "application/vnd.jupyter.widget-view+json": {
       "model_id": "79c5ed935d854876b3daa15a7629aadb",
       "version_major": 2,
       "version_minor": 0
      },
      "text/plain": [
       "IntSlider(value=9, description='Test:', max=20, min=5, step=2)"
      ]
     },
     "metadata": {},
     "output_type": "display_data"
    }
   ],
   "source": [
    "slider_params = dict(min=5, max=20, step=2, value=9, description='Test:')\n",
    "widgets.IntSlider(**slider_params)"
   ]
  },
  {
   "cell_type": "markdown",
   "id": "8db346d2-4a33-43ed-964c-49c8cec8e9ef",
   "metadata": {},
   "source": [
    "## Display Sync"
   ]
  },
  {
   "cell_type": "markdown",
   "id": "230850dd-c512-4dbf-9059-049dfbcbb8d6",
   "metadata": {},
   "source": [
    "### Default"
   ]
  },
  {
   "cell_type": "code",
   "execution_count": 6,
   "id": "49a91955-9ac3-4d68-9fb4-74269ecabd85",
   "metadata": {},
   "outputs": [
    {
     "data": {
      "application/vnd.jupyter.widget-view+json": {
       "model_id": "55b45398c3904bc8abba1195902833c5",
       "version_major": 2,
       "version_minor": 0
      },
      "text/plain": [
       "FloatSlider(value=9.0, max=20.0, min=5.0, step=0.5)"
      ]
     },
     "metadata": {},
     "output_type": "display_data"
    }
   ],
   "source": [
    "price = widgets.FloatSlider(min=5, max=20, step=0.5, value=9)\n",
    "price"
   ]
  },
  {
   "cell_type": "code",
   "execution_count": 7,
   "id": "b26a87f6-8bc3-494b-b51c-dce4cb81845c",
   "metadata": {},
   "outputs": [
    {
     "data": {
      "application/vnd.jupyter.widget-view+json": {
       "model_id": "55b45398c3904bc8abba1195902833c5",
       "version_major": 2,
       "version_minor": 0
      },
      "text/plain": [
       "FloatSlider(value=9.0, max=20.0, min=5.0, step=0.5)"
      ]
     },
     "metadata": {},
     "output_type": "display_data"
    }
   ],
   "source": [
    "price"
   ]
  },
  {
   "cell_type": "markdown",
   "id": "bdb4ba82-3474-438e-a375-7bb66cd74dd5",
   "metadata": {},
   "source": [
    "### Using Display"
   ]
  },
  {
   "cell_type": "code",
   "execution_count": 12,
   "id": "783362ff-6596-4363-bd76-0f45ddd0fd8d",
   "metadata": {},
   "outputs": [],
   "source": [
    "from IPython.display import display"
   ]
  },
  {
   "cell_type": "code",
   "execution_count": 13,
   "id": "7620243f-82ca-4aa8-a631-9f4bc8f09c49",
   "metadata": {},
   "outputs": [],
   "source": [
    "price = widgets.FloatSlider(min=5, max=20, step=0.5, value=9)"
   ]
  },
  {
   "cell_type": "code",
   "execution_count": 14,
   "id": "82ec4c36-1b54-4dd1-82aa-938c29c97864",
   "metadata": {},
   "outputs": [
    {
     "data": {
      "application/vnd.jupyter.widget-view+json": {
       "model_id": "8fd122897a5040259c040817e1e3cd3c",
       "version_major": 2,
       "version_minor": 0
      },
      "text/plain": [
       "FloatSlider(value=9.0, max=20.0, min=5.0, step=0.5)"
      ]
     },
     "metadata": {},
     "output_type": "display_data"
    }
   ],
   "source": [
    "price"
   ]
  },
  {
   "cell_type": "code",
   "execution_count": 15,
   "id": "5c10b926-0131-4991-b613-952c20706f65",
   "metadata": {},
   "outputs": [],
   "source": [
    "price;"
   ]
  },
  {
   "cell_type": "code",
   "execution_count": 16,
   "id": "35863600-3146-41e2-8626-e1b7b9d13262",
   "metadata": {},
   "outputs": [
    {
     "name": "stdout",
     "output_type": "stream",
     "text": [
      "Hello World\n"
     ]
    }
   ],
   "source": [
    "price\n",
    "print(\"Hello World\")"
   ]
  },
  {
   "cell_type": "markdown",
   "id": "dc548dc3-86b9-4fee-ba73-55d01ef53db1",
   "metadata": {},
   "source": [
    "## IntRangeSlider"
   ]
  },
  {
   "cell_type": "code",
   "execution_count": 17,
   "id": "c1fdcc4b-26ab-4096-859c-894a6f5b4996",
   "metadata": {},
   "outputs": [
    {
     "data": {
      "application/vnd.jupyter.widget-view+json": {
       "model_id": "a861e8c0521648d5945dffb86bef9a41",
       "version_major": 2,
       "version_minor": 0
      },
      "text/plain": [
       "IntRangeSlider(value=(25, 75))"
      ]
     },
     "metadata": {},
     "output_type": "display_data"
    }
   ],
   "source": [
    "widgets.IntRangeSlider()"
   ]
  },
  {
   "cell_type": "code",
   "execution_count": 13,
   "id": "c1e29838-7a68-4fc0-b8a8-b1dcc0345843",
   "metadata": {},
   "outputs": [
    {
     "data": {
      "application/vnd.jupyter.widget-view+json": {
       "model_id": "aad4bd414d044c1d9597538874c799b9",
       "version_major": 2,
       "version_minor": 0
      },
      "text/plain": [
       "IntRangeSlider(value=(9, 13), max=20, min=5, orientation='vertical', step=2)"
      ]
     },
     "metadata": {},
     "output_type": "display_data"
    }
   ],
   "source": [
    "widgets.IntRangeSlider(min=5, max=20, step=2, value=[9, 13], orientation=\"vertical\")"
   ]
  },
  {
   "cell_type": "markdown",
   "id": "e1589746-fabb-4ed1-8ff5-c56884eba1f7",
   "metadata": {},
   "source": [
    "## FloatSlider"
   ]
  },
  {
   "cell_type": "code",
   "execution_count": 14,
   "id": "1b8ef864-0af9-409c-89be-6217c1e21a24",
   "metadata": {},
   "outputs": [
    {
     "data": {
      "application/vnd.jupyter.widget-view+json": {
       "model_id": "2c4f07f58f67474aa82810c1a80d3902",
       "version_major": 2,
       "version_minor": 0
      },
      "text/plain": [
       "FloatSlider(value=0.0)"
      ]
     },
     "metadata": {},
     "output_type": "display_data"
    }
   ],
   "source": [
    "price = widgets.FloatSlider()\n",
    "price"
   ]
  },
  {
   "cell_type": "code",
   "execution_count": 15,
   "id": "289e3d70-3e43-4ff9-8a94-27683d93daf7",
   "metadata": {},
   "outputs": [
    {
     "data": {
      "text/plain": [
       "0.0"
      ]
     },
     "execution_count": 15,
     "metadata": {},
     "output_type": "execute_result"
    }
   ],
   "source": [
    "price.value"
   ]
  },
  {
   "cell_type": "code",
   "execution_count": 16,
   "id": "8ee9cac8-4ef9-47bb-b8dc-428bc4b9ab8e",
   "metadata": {},
   "outputs": [
    {
     "data": {
      "application/vnd.jupyter.widget-view+json": {
       "model_id": "7c77caedab384539a630ff29043ea7e5",
       "version_major": 2,
       "version_minor": 0
      },
      "text/plain": [
       "FloatSlider(value=9.0, max=20.0, min=5.0, orientation='vertical', step=0.5)"
      ]
     },
     "metadata": {},
     "output_type": "display_data"
    }
   ],
   "source": [
    "widgets.FloatSlider(min=5, max=20, step=0.5, value=9, orientation=\"vertical\")"
   ]
  },
  {
   "cell_type": "code",
   "execution_count": 17,
   "id": "60da0d28-9481-4e52-abf0-23ef8a2989a7",
   "metadata": {},
   "outputs": [
    {
     "data": {
      "application/vnd.jupyter.widget-view+json": {
       "model_id": "37a23b8660f14b79a552904ae932bde1",
       "version_major": 2,
       "version_minor": 0
      },
      "text/plain": [
       "FloatSlider(value=0.3, description='Test:', max=1.0, readout_format='.3f', step=0.005)"
      ]
     },
     "metadata": {},
     "output_type": "display_data"
    }
   ],
   "source": [
    "slider_params = {\n",
    "    \"min\": 0, \n",
    "    \"max\": 1, \n",
    "    \"step\": 0.005, \n",
    "    \"value\": 0.3,\n",
    "    \"description\": 'Test:',\n",
    "    \"readout_format\": '.3f',\n",
    "}\n",
    "widgets.FloatSlider(**slider_params)"
   ]
  },
  {
   "cell_type": "markdown",
   "id": "c6604084-7d26-4cc0-8bff-fa2038d6a1f0",
   "metadata": {},
   "source": [
    "## FloatRangeSlider"
   ]
  },
  {
   "cell_type": "code",
   "execution_count": 18,
   "id": "15549989-410c-4aec-9cb9-fe416f7b3f37",
   "metadata": {},
   "outputs": [
    {
     "data": {
      "application/vnd.jupyter.widget-view+json": {
       "model_id": "a1bed3b594084d77b8e37dc022ec78f2",
       "version_major": 2,
       "version_minor": 0
      },
      "text/plain": [
       "FloatRangeSlider(value=(25.0, 75.0))"
      ]
     },
     "metadata": {},
     "output_type": "display_data"
    }
   ],
   "source": [
    "widgets.FloatRangeSlider()"
   ]
  },
  {
   "cell_type": "code",
   "execution_count": 19,
   "id": "63698deb-9596-469f-aa93-4213c86f99ed",
   "metadata": {},
   "outputs": [
    {
     "data": {
      "application/vnd.jupyter.widget-view+json": {
       "model_id": "166d9268c0b04c78808c56a6b387b530",
       "version_major": 2,
       "version_minor": 0
      },
      "text/plain": [
       "FloatRangeSlider(value=(9.0, 13.0), max=20.0, min=5.0, orientation='vertical', step=0.5)"
      ]
     },
     "metadata": {},
     "output_type": "display_data"
    }
   ],
   "source": [
    "widgets.FloatRangeSlider(min=5, max=20, step=0.5, value=[9, 13], orientation=\"vertical\")"
   ]
  },
  {
   "cell_type": "markdown",
   "id": "c1d4d46d-9df3-40d5-a036-0a28bded1caf",
   "metadata": {},
   "source": [
    "## Checkbox"
   ]
  },
  {
   "cell_type": "code",
   "execution_count": 20,
   "id": "bb4122d1-ffac-4b92-9c55-52fb20188186",
   "metadata": {},
   "outputs": [
    {
     "data": {
      "application/vnd.jupyter.widget-view+json": {
       "model_id": "2db7789d6b2a4c53942a254554817743",
       "version_major": 2,
       "version_minor": 0
      },
      "text/plain": [
       "Checkbox(value=False, description='Accept Terms?')"
      ]
     },
     "metadata": {},
     "output_type": "display_data"
    }
   ],
   "source": [
    "terms_acceptance = widgets.Checkbox(value=False, description='Accept Terms?', disabled=False)\n",
    "terms_acceptance"
   ]
  },
  {
   "cell_type": "code",
   "execution_count": 21,
   "id": "143eea5f-bf76-45ea-bba6-3465e7678d87",
   "metadata": {},
   "outputs": [
    {
     "data": {
      "text/plain": [
       "False"
      ]
     },
     "execution_count": 21,
     "metadata": {},
     "output_type": "execute_result"
    }
   ],
   "source": [
    "terms_acceptance.value"
   ]
  },
  {
   "cell_type": "markdown",
   "id": "699c9e2c-e2dc-4c9a-84c0-ff79336803ad",
   "metadata": {},
   "source": [
    "## Button"
   ]
  },
  {
   "cell_type": "code",
   "execution_count": 22,
   "id": "980a5ce5-39f8-4ea7-b361-ada2239c89bc",
   "metadata": {},
   "outputs": [
    {
     "data": {
      "application/vnd.jupyter.widget-view+json": {
       "model_id": "2b31d750272d4577ab457abaae04dfce",
       "version_major": 2,
       "version_minor": 0
      },
      "text/plain": [
       "Button(description='I am a button', style=ButtonStyle())"
      ]
     },
     "metadata": {},
     "output_type": "display_data"
    }
   ],
   "source": [
    "button = widgets.Button(description=\"I am a button\")\n",
    "button"
   ]
  },
  {
   "cell_type": "code",
   "execution_count": 23,
   "id": "0fbc02b2-24fb-4ae2-a701-4072d748bea4",
   "metadata": {},
   "outputs": [
    {
     "data": {
      "text/plain": [
       "'I am a button'"
      ]
     },
     "execution_count": 23,
     "metadata": {},
     "output_type": "execute_result"
    }
   ],
   "source": [
    "button.description"
   ]
  },
  {
   "cell_type": "markdown",
   "id": "6c26b9b8-ae9b-44cb-9f98-69219035b4de",
   "metadata": {},
   "source": [
    "### Styles"
   ]
  },
  {
   "cell_type": "code",
   "execution_count": 24,
   "id": "4407eca5-4302-4783-8ccb-7b458c14aea5",
   "metadata": {},
   "outputs": [
    {
     "data": {
      "application/vnd.jupyter.widget-view+json": {
       "model_id": "33ae6557e23543be98500a0ef3f361b6",
       "version_major": 2,
       "version_minor": 0
      },
      "text/plain": [
       "Button(button_style='primary', description='primary', style=ButtonStyle())"
      ]
     },
     "metadata": {},
     "output_type": "display_data"
    },
    {
     "data": {
      "application/vnd.jupyter.widget-view+json": {
       "model_id": "137d3f7c83734502be474f4d2cef5528",
       "version_major": 2,
       "version_minor": 0
      },
      "text/plain": [
       "Button(button_style='success', description='success', style=ButtonStyle())"
      ]
     },
     "metadata": {},
     "output_type": "display_data"
    },
    {
     "data": {
      "application/vnd.jupyter.widget-view+json": {
       "model_id": "95d42122e8664a758769a9e45ee84f2d",
       "version_major": 2,
       "version_minor": 0
      },
      "text/plain": [
       "Button(button_style='info', description='info', style=ButtonStyle())"
      ]
     },
     "metadata": {},
     "output_type": "display_data"
    },
    {
     "data": {
      "application/vnd.jupyter.widget-view+json": {
       "model_id": "406cf23d033f4605a4fb7e9a4f919ed9",
       "version_major": 2,
       "version_minor": 0
      },
      "text/plain": [
       "Button(button_style='warning', description='warning', style=ButtonStyle())"
      ]
     },
     "metadata": {},
     "output_type": "display_data"
    },
    {
     "data": {
      "application/vnd.jupyter.widget-view+json": {
       "model_id": "f66873e2394c4683b215fbfced1d73ed",
       "version_major": 2,
       "version_minor": 0
      },
      "text/plain": [
       "Button(button_style='danger', description='danger', style=ButtonStyle())"
      ]
     },
     "metadata": {},
     "output_type": "display_data"
    },
    {
     "data": {
      "application/vnd.jupyter.widget-view+json": {
       "model_id": "5d9694d5fcd54ec791120b310c5f55c1",
       "version_major": 2,
       "version_minor": 0
      },
      "text/plain": [
       "Button(style=ButtonStyle())"
      ]
     },
     "metadata": {},
     "output_type": "display_data"
    }
   ],
   "source": [
    "for style in ['primary', 'success', 'info', 'warning', 'danger', '']:\n",
    "    button = widgets.Button(description=f\"{style}\", button_style=style)\n",
    "    display(button)"
   ]
  },
  {
   "cell_type": "markdown",
   "id": "b2cfea40-1aac-41eb-8fe2-0c2590ede5a7",
   "metadata": {},
   "source": [
    "## Dropdown"
   ]
  },
  {
   "cell_type": "code",
   "execution_count": 25,
   "id": "220dd2e4-c81b-4bcf-be43-030f3dd03731",
   "metadata": {},
   "outputs": [
    {
     "data": {
      "application/vnd.jupyter.widget-view+json": {
       "model_id": "a302f4020ca548799bffe36946de00c9",
       "version_major": 2,
       "version_minor": 0
      },
      "text/plain": [
       "Dropdown(description='Student:', index=1, options=(('John', '147852'), ('Peter', '369852'), ('Laura', '000525'…"
      ]
     },
     "metadata": {},
     "output_type": "display_data"
    }
   ],
   "source": [
    "options = [('John', \"147852\"), ('Peter', \"369852\"), ('Laura', \"000525\")]\n",
    "student_picker = widgets.Dropdown(options=options, value=\"369852\", description='Student:')\n",
    "student_picker"
   ]
  },
  {
   "cell_type": "code",
   "execution_count": 26,
   "id": "13e3c982-1498-46ce-b4e9-bdceffbb22b2",
   "metadata": {},
   "outputs": [
    {
     "data": {
      "text/plain": [
       "(1, '369852')"
      ]
     },
     "execution_count": 26,
     "metadata": {},
     "output_type": "execute_result"
    }
   ],
   "source": [
    "student_picker.index, student_picker.value"
   ]
  },
  {
   "cell_type": "markdown",
   "id": "aa0f97a5-5829-40b5-8499-7304436a12d0",
   "metadata": {},
   "source": [
    "## RadioButtons"
   ]
  },
  {
   "cell_type": "code",
   "execution_count": 27,
   "id": "37a8c676-9c58-44f8-b4f3-9f1f6e494c5f",
   "metadata": {},
   "outputs": [
    {
     "data": {
      "application/vnd.jupyter.widget-view+json": {
       "model_id": "44f6a637fd8548f881565f16a4857ff5",
       "version_major": 2,
       "version_minor": 0
      },
      "text/plain": [
       "RadioButtons(description='Experience:', index=1, options=('0 years', '< 1 year', '1-3 years', '3+ years'), val…"
      ]
     },
     "metadata": {},
     "output_type": "display_data"
    }
   ],
   "source": [
    "options = ['0 years', '< 1 year', '1-3 years', '3+ years']\n",
    "experience = widgets.RadioButtons(options=options, value='< 1 year', description='Experience:')\n",
    "experience"
   ]
  },
  {
   "cell_type": "code",
   "execution_count": 28,
   "id": "45ca2e1f-059f-472e-ae5e-aa771c31382b",
   "metadata": {},
   "outputs": [
    {
     "data": {
      "text/plain": [
       "(1, '< 1 year')"
      ]
     },
     "execution_count": 28,
     "metadata": {},
     "output_type": "execute_result"
    }
   ],
   "source": [
    "experience.index, experience.value"
   ]
  },
  {
   "cell_type": "markdown",
   "id": "116b81b7-58a5-43e5-bdfe-e0c84087d028",
   "metadata": {},
   "source": [
    "## Date picker"
   ]
  },
  {
   "cell_type": "code",
   "execution_count": 29,
   "id": "4f77540b-77f7-40e0-8d93-ae89289e15c7",
   "metadata": {},
   "outputs": [],
   "source": [
    "import datetime"
   ]
  },
  {
   "cell_type": "code",
   "execution_count": 30,
   "id": "9069b5bc-fe10-4bfe-bc9f-5d6ad4e19bf8",
   "metadata": {},
   "outputs": [
    {
     "data": {
      "application/vnd.jupyter.widget-view+json": {
       "model_id": "e2627cb1228d428f808185f5aa7c6d2c",
       "version_major": 2,
       "version_minor": 0
      },
      "text/plain": [
       "DatePicker(value=datetime.datetime(2021, 9, 21, 1, 25, 35, 490595), description='Birthday')"
      ]
     },
     "metadata": {},
     "output_type": "display_data"
    }
   ],
   "source": [
    "today = datetime.datetime.today()\n",
    "birthday = widgets.DatePicker(description='Birthday', value=today, disabled=False)\n",
    "birthday"
   ]
  },
  {
   "cell_type": "code",
   "execution_count": 31,
   "id": "f97eacae-e854-4641-86ed-e8f172aad2f4",
   "metadata": {},
   "outputs": [
    {
     "data": {
      "text/plain": [
       "datetime.datetime(2021, 9, 21, 1, 25, 35, 490595)"
      ]
     },
     "execution_count": 31,
     "metadata": {},
     "output_type": "execute_result"
    }
   ],
   "source": [
    "birthday.value"
   ]
  },
  {
   "cell_type": "markdown",
   "id": "50d8a1d1-89c5-40d8-a46c-a170aa9bab12",
   "metadata": {},
   "source": [
    "## Color picker"
   ]
  },
  {
   "cell_type": "code",
   "execution_count": 32,
   "id": "23b8ecf9-74e7-472b-af77-e4cd0948547b",
   "metadata": {},
   "outputs": [
    {
     "data": {
      "application/vnd.jupyter.widget-view+json": {
       "model_id": "985848856c2d4ee484cafd081bdecdd8",
       "version_major": 2,
       "version_minor": 0
      },
      "text/plain": [
       "ColorPicker(value='steelblue', description='Pick a color')"
      ]
     },
     "metadata": {},
     "output_type": "display_data"
    }
   ],
   "source": [
    "color = widgets.ColorPicker(description='Pick a color', value='steelblue')\n",
    "color"
   ]
  },
  {
   "cell_type": "code",
   "execution_count": 33,
   "id": "b2e33f4c-bed1-4ed3-b759-a1db696281f2",
   "metadata": {},
   "outputs": [
    {
     "data": {
      "text/plain": [
       "'steelblue'"
      ]
     },
     "execution_count": 33,
     "metadata": {},
     "output_type": "execute_result"
    }
   ],
   "source": [
    "color.value"
   ]
  },
  {
   "cell_type": "code",
   "execution_count": 34,
   "id": "f6bd690d-abac-4e6a-a96e-28e62c2844ad",
   "metadata": {},
   "outputs": [
    {
     "data": {
      "application/vnd.jupyter.widget-view+json": {
       "model_id": "2c4f07f58f67474aa82810c1a80d3902",
       "version_major": 2,
       "version_minor": 0
      },
      "text/plain": [
       "FloatSlider(value=0.0)"
      ]
     },
     "metadata": {},
     "output_type": "display_data"
    },
    {
     "name": "stdout",
     "output_type": "stream",
     "text": [
      "Hello World\n"
     ]
    }
   ],
   "source": [
    "display(price)\n",
    "print(\"Hello World\")"
   ]
  },
  {
   "cell_type": "markdown",
   "id": "39687679-9a12-489f-8982-849b587a73cd",
   "metadata": {},
   "source": [
    "## Appendix Colors:"
   ]
  },
  {
   "cell_type": "code",
   "execution_count": 35,
   "id": "5ed72367-67bd-46cb-a31c-d2c1e567535a",
   "metadata": {},
   "outputs": [],
   "source": [
    "import seaborn as sns\n",
    "from matplotlib import colors"
   ]
  },
  {
   "cell_type": "code",
   "execution_count": 36,
   "id": "2cc7f652-4c93-4275-bf6c-1982aa821ede",
   "metadata": {},
   "outputs": [
    {
     "data": {
      "text/html": [
       "<svg  width=\"550\" height=\"55\"><rect x=\"0\" y=\"0\" width=\"55\" height=\"55\" style=\"fill:#1f77b4;stroke-width:2;stroke:rgb(255,255,255)\"/><rect x=\"55\" y=\"0\" width=\"55\" height=\"55\" style=\"fill:#ff7f0e;stroke-width:2;stroke:rgb(255,255,255)\"/><rect x=\"110\" y=\"0\" width=\"55\" height=\"55\" style=\"fill:#2ca02c;stroke-width:2;stroke:rgb(255,255,255)\"/><rect x=\"165\" y=\"0\" width=\"55\" height=\"55\" style=\"fill:#d62728;stroke-width:2;stroke:rgb(255,255,255)\"/><rect x=\"220\" y=\"0\" width=\"55\" height=\"55\" style=\"fill:#9467bd;stroke-width:2;stroke:rgb(255,255,255)\"/><rect x=\"275\" y=\"0\" width=\"55\" height=\"55\" style=\"fill:#8c564b;stroke-width:2;stroke:rgb(255,255,255)\"/><rect x=\"330\" y=\"0\" width=\"55\" height=\"55\" style=\"fill:#e377c2;stroke-width:2;stroke:rgb(255,255,255)\"/><rect x=\"385\" y=\"0\" width=\"55\" height=\"55\" style=\"fill:#7f7f7f;stroke-width:2;stroke:rgb(255,255,255)\"/><rect x=\"440\" y=\"0\" width=\"55\" height=\"55\" style=\"fill:#bcbd22;stroke-width:2;stroke:rgb(255,255,255)\"/><rect x=\"495\" y=\"0\" width=\"55\" height=\"55\" style=\"fill:#17becf;stroke-width:2;stroke:rgb(255,255,255)\"/></svg>"
      ],
      "text/plain": [
       "[(0.12156862745098039, 0.4666666666666667, 0.7058823529411765),\n",
       " (1.0, 0.4980392156862745, 0.054901960784313725),\n",
       " (0.17254901960784313, 0.6274509803921569, 0.17254901960784313),\n",
       " (0.8392156862745098, 0.15294117647058825, 0.1568627450980392),\n",
       " (0.5803921568627451, 0.403921568627451, 0.7411764705882353),\n",
       " (0.5490196078431373, 0.33725490196078434, 0.29411764705882354),\n",
       " (0.8901960784313725, 0.4666666666666667, 0.7607843137254902),\n",
       " (0.4980392156862745, 0.4980392156862745, 0.4980392156862745),\n",
       " (0.7372549019607844, 0.7411764705882353, 0.13333333333333333),\n",
       " (0.09019607843137255, 0.7450980392156863, 0.8117647058823529)]"
      ]
     },
     "execution_count": 36,
     "metadata": {},
     "output_type": "execute_result"
    }
   ],
   "source": [
    "sns.color_palette()"
   ]
  },
  {
   "cell_type": "markdown",
   "id": "e7713908-a2a7-4c3c-843d-ecd8b032f36b",
   "metadata": {},
   "source": [
    "![RGB vs HSV](https://www.researchgate.net/profile/Vencislav-Popov/publication/323952018/figure/fig2/AS:607349488226304@1521814810246/a-the-RGB-color-space-black-arrows-show-the-three-main-color-dimensions-whose-values.png)"
   ]
  },
  {
   "cell_type": "markdown",
   "id": "c22240b9-7be5-42ee-a993-786786dc9cd1",
   "metadata": {},
   "source": [
    "### RGB"
   ]
  },
  {
   "cell_type": "code",
   "execution_count": 37,
   "id": "bda86b8b-b07c-4ba6-878b-ac49764f9a3a",
   "metadata": {},
   "outputs": [
    {
     "data": {
      "text/plain": [
       "[(0.12156862745098039, 0.4666666666666667, 0.7058823529411765),\n",
       " (1.0, 0.4980392156862745, 0.054901960784313725),\n",
       " (0.17254901960784313, 0.6274509803921569, 0.17254901960784313),\n",
       " (0.8392156862745098, 0.15294117647058825, 0.1568627450980392),\n",
       " (0.5803921568627451, 0.403921568627451, 0.7411764705882353),\n",
       " (0.5490196078431373, 0.33725490196078434, 0.29411764705882354),\n",
       " (0.8901960784313725, 0.4666666666666667, 0.7607843137254902),\n",
       " (0.4980392156862745, 0.4980392156862745, 0.4980392156862745),\n",
       " (0.7372549019607844, 0.7411764705882353, 0.13333333333333333),\n",
       " (0.09019607843137255, 0.7450980392156863, 0.8117647058823529)]"
      ]
     },
     "execution_count": 37,
     "metadata": {},
     "output_type": "execute_result"
    }
   ],
   "source": [
    "list(sns.color_palette())"
   ]
  },
  {
   "cell_type": "markdown",
   "id": "db91324b-415d-43be-8da7-2b1e43280cf1",
   "metadata": {},
   "source": [
    "### HEX"
   ]
  },
  {
   "cell_type": "code",
   "execution_count": 38,
   "id": "acf338f8-ac3f-4eab-abbf-a064b41234d9",
   "metadata": {},
   "outputs": [
    {
     "data": {
      "text/plain": [
       "['#1f77b4',\n",
       " '#ff7f0e',\n",
       " '#2ca02c',\n",
       " '#d62728',\n",
       " '#9467bd',\n",
       " '#8c564b',\n",
       " '#e377c2',\n",
       " '#7f7f7f',\n",
       " '#bcbd22',\n",
       " '#17becf']"
      ]
     },
     "execution_count": 38,
     "metadata": {},
     "output_type": "execute_result"
    }
   ],
   "source": [
    "[colors.to_hex(color) for color in sns.color_palette()]"
   ]
  },
  {
   "cell_type": "markdown",
   "id": "2cbcf87a-293d-49de-a43b-078e6289188a",
   "metadata": {},
   "source": [
    "### HSV"
   ]
  },
  {
   "cell_type": "code",
   "execution_count": 39,
   "id": "cd7b3b3f-594a-4b72-a433-2e1ee8ac1666",
   "metadata": {},
   "outputs": [
    {
     "data": {
      "text/plain": [
       "[array([0.56823266, 0.82777778, 0.70588235]),\n",
       " array([0.07814661, 0.94509804, 1.        ]),\n",
       " array([0.33333333, 0.725     , 0.62745098]),\n",
       " array([0.99904762, 0.81775701, 0.83921569]),\n",
       " array([0.75387597, 0.45502646, 0.74117647]),\n",
       " array([0.02820513, 0.46428571, 0.54901961]),\n",
       " array([0.88425926, 0.47577093, 0.89019608]),\n",
       " array([0.        , 0.        , 0.49803922]),\n",
       " array([0.16774194, 0.82010582, 0.74117647]),\n",
       " array([0.51539855, 0.88888889, 0.81176471])]"
      ]
     },
     "execution_count": 39,
     "metadata": {},
     "output_type": "execute_result"
    }
   ],
   "source": [
    "[colors.rgb_to_hsv(color) for color in sns.color_palette()]"
   ]
  },
  {
   "cell_type": "markdown",
   "id": "35680aa3-78db-49de-ae90-e3771b05815e",
   "metadata": {},
   "source": [
    "## Find Closest Named Color\n",
    "\n",
    "Find the closest named color based on HEX: \n",
    "[Closest named Color](https://wismuth.com/webcolors.html)"
   ]
  },
  {
   "cell_type": "code",
   "execution_count": 40,
   "id": "51e69a49-28d8-4158-a511-1b6c1500d047",
   "metadata": {},
   "outputs": [
    {
     "data": {
      "text/plain": [
       "'#1f77b4'"
      ]
     },
     "execution_count": 40,
     "metadata": {},
     "output_type": "execute_result"
    }
   ],
   "source": [
    "colors.to_hex(sns.color_palette()[0])"
   ]
  },
  {
   "cell_type": "code",
   "execution_count": 41,
   "id": "693cfe77-fa2b-436a-9e7d-50fa760907a4",
   "metadata": {},
   "outputs": [
    {
     "data": {
      "text/html": [
       "<svg  width=\"550\" height=\"55\"><rect x=\"0\" y=\"0\" width=\"55\" height=\"55\" style=\"fill:#4682b4;stroke-width:2;stroke:rgb(255,255,255)\"/><rect x=\"55\" y=\"0\" width=\"55\" height=\"55\" style=\"fill:#ff8c00;stroke-width:2;stroke:rgb(255,255,255)\"/><rect x=\"110\" y=\"0\" width=\"55\" height=\"55\" style=\"fill:#228b22;stroke-width:2;stroke:rgb(255,255,255)\"/><rect x=\"165\" y=\"0\" width=\"55\" height=\"55\" style=\"fill:#b22222;stroke-width:2;stroke:rgb(255,255,255)\"/><rect x=\"220\" y=\"0\" width=\"55\" height=\"55\" style=\"fill:#9370db;stroke-width:2;stroke:rgb(255,255,255)\"/><rect x=\"275\" y=\"0\" width=\"55\" height=\"55\" style=\"fill:#a0522d;stroke-width:2;stroke:rgb(255,255,255)\"/><rect x=\"330\" y=\"0\" width=\"55\" height=\"55\" style=\"fill:#da70d6;stroke-width:2;stroke:rgb(255,255,255)\"/><rect x=\"385\" y=\"0\" width=\"55\" height=\"55\" style=\"fill:#808080;stroke-width:2;stroke:rgb(255,255,255)\"/><rect x=\"440\" y=\"0\" width=\"55\" height=\"55\" style=\"fill:#daa520;stroke-width:2;stroke:rgb(255,255,255)\"/><rect x=\"495\" y=\"0\" width=\"55\" height=\"55\" style=\"fill:#00ced1;stroke-width:2;stroke:rgb(255,255,255)\"/></svg>"
      ],
      "text/plain": [
       "[(0.27450980392156865, 0.5098039215686274, 0.7058823529411765),\n",
       " (1.0, 0.5490196078431373, 0.0),\n",
       " (0.13333333333333333, 0.5450980392156862, 0.13333333333333333),\n",
       " (0.6980392156862745, 0.13333333333333333, 0.13333333333333333),\n",
       " (0.5764705882352941, 0.4392156862745098, 0.8588235294117647),\n",
       " (0.6274509803921569, 0.3215686274509804, 0.17647058823529413),\n",
       " (0.8549019607843137, 0.4392156862745098, 0.8392156862745098),\n",
       " (0.5019607843137255, 0.5019607843137255, 0.5019607843137255),\n",
       " (0.8549019607843137, 0.6470588235294118, 0.12549019607843137),\n",
       " (0.0, 0.807843137254902, 0.8196078431372549)]"
      ]
     },
     "execution_count": 41,
     "metadata": {},
     "output_type": "execute_result"
    }
   ],
   "source": [
    "colors_names = [\n",
    "    \"steelblue\",\n",
    "    \"darkorange\",\n",
    "    \"forestgreen\",\n",
    "    \"firebrick\",  # or crimson\n",
    "    \"mediumpurple\", # or slateblue\n",
    "    \"sienna\",\n",
    "    \"orchid\",\n",
    "    \"gray\",\n",
    "    \"goldenrod\", # or yellowgreen\n",
    "    \"darkturquoise\"\n",
    "]\n",
    "sns.color_palette(colors_names)"
   ]
  },
  {
   "cell_type": "markdown",
   "id": "20e03830-9a71-4c47-8289-0b115cc220ed",
   "metadata": {},
   "source": [
    "![Matplotlib Colors](https://matplotlib.org/stable/_images/sphx_glr_named_colors_003.png)\n",
    "\n",
    "[Source](https://matplotlib.org/stable/gallery/color/named_colors.html#sphx-glr-gallery-color-named-colors-py)"
   ]
  }
 ],
 "metadata": {
  "kernelspec": {
   "display_name": "Python 3",
   "language": "python",
   "name": "python3"
  },
  "language_info": {
   "codemirror_mode": {
    "name": "ipython",
    "version": 3
   },
   "file_extension": ".py",
   "mimetype": "text/x-python",
   "name": "python",
   "nbconvert_exporter": "python",
   "pygments_lexer": "ipython3",
   "version": "3.8.10"
  }
 },
 "nbformat": 4,
 "nbformat_minor": 5
}
