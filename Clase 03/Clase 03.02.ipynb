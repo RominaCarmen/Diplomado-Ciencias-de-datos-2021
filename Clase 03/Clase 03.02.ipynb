{
 "cells": [
  {
   "cell_type": "markdown",
   "id": "63a095b7-ee17-4cdf-8265-23143ed085e4",
   "metadata": {},
   "source": [
    "# IPython Widgets - Containers"
   ]
  },
  {
   "cell_type": "code",
   "execution_count": 1,
   "id": "e217d5fb-397b-4b83-94c6-3b71475775ea",
   "metadata": {},
   "outputs": [],
   "source": [
    "import ipywidgets as widgets"
   ]
  },
  {
   "cell_type": "markdown",
   "id": "19ef76d5-5231-4954-b387-072df9f87e9d",
   "metadata": {},
   "source": [
    "## Layout and Styling"
   ]
  },
  {
   "cell_type": "markdown",
   "id": "90b0fc46-387c-47a1-b1f5-52442fe18d23",
   "metadata": {},
   "source": [
    "### Layout"
   ]
  },
  {
   "cell_type": "code",
   "execution_count": 2,
   "id": "646f6ce0-8533-4621-9399-9f49308496ae",
   "metadata": {},
   "outputs": [
    {
     "data": {
      "application/vnd.jupyter.widget-view+json": {
       "model_id": "1ec1ac493aac430e9d2b5002f8cf2e61",
       "version_major": 2,
       "version_minor": 0
      },
      "text/plain": [
       "IntSlider(value=0, description='Amount of years of Experience', layout=Layout(width='500px'))"
      ]
     },
     "metadata": {},
     "output_type": "display_data"
    }
   ],
   "source": [
    "description = \"Amount of years of Experience\"\n",
    "layout = widgets.Layout(width=\"500px\")\n",
    "widgets.IntSlider(description=description, layout=layout)"
   ]
  },
  {
   "cell_type": "markdown",
   "id": "cfdd6b65-ed0f-48b3-b894-f52bf3f52b34",
   "metadata": {},
   "source": [
    "### Style"
   ]
  },
  {
   "cell_type": "code",
   "execution_count": 3,
   "id": "0b4da678-cb51-4e8c-a629-c4b57de7cbc8",
   "metadata": {},
   "outputs": [
    {
     "data": {
      "application/vnd.jupyter.widget-view+json": {
       "model_id": "1bb9ff45d0784d98aa8726ed138b82ad",
       "version_major": 2,
       "version_minor": 0
      },
      "text/plain": [
       "IntSlider(value=0, description='Amount of years of Experience', style=SliderStyle(description_width='180px'))"
      ]
     },
     "metadata": {},
     "output_type": "display_data"
    }
   ],
   "source": [
    "style = {'description_width': '180px'}\n",
    "widgets.IntSlider(description=description, style=style)"
   ]
  },
  {
   "cell_type": "markdown",
   "id": "f16ae356-4c27-4c5f-8aae-173094b32c18",
   "metadata": {},
   "source": [
    "### Style and Layout"
   ]
  },
  {
   "cell_type": "code",
   "execution_count": 4,
   "id": "89450a94-0757-4b10-964e-2262a0ae4bf5",
   "metadata": {},
   "outputs": [
    {
     "data": {
      "application/vnd.jupyter.widget-view+json": {
       "model_id": "af16e5223116482980eb1e28d452186e",
       "version_major": 2,
       "version_minor": 0
      },
      "text/plain": [
       "IntSlider(value=0, description='Amount of years of Experience', layout=Layout(width='500px'), style=SliderStyl…"
      ]
     },
     "metadata": {},
     "output_type": "display_data"
    }
   ],
   "source": [
    "widgets.IntSlider(description=description, style=style, layout=layout)"
   ]
  },
  {
   "cell_type": "markdown",
   "id": "81f66ed7-5b7b-4b9d-aafa-32e1b5707ecb",
   "metadata": {},
   "source": [
    "## Row-Column Based"
   ]
  },
  {
   "cell_type": "markdown",
   "id": "50bd90c9-4ab4-4a8f-8ae8-d3e78796a01d",
   "metadata": {},
   "source": [
    "### Box"
   ]
  },
  {
   "cell_type": "code",
   "execution_count": 5,
   "id": "fb819e1f-ab34-4ff4-bc79-ba163bd9780c",
   "metadata": {},
   "outputs": [
    {
     "data": {
      "application/vnd.jupyter.widget-view+json": {
       "model_id": "22b280ca0d474484835fcfacdc96c74d",
       "version_major": 2,
       "version_minor": 0
      },
      "text/plain": [
       "Box(children=(Button(description='0', style=ButtonStyle()), Button(description='1', style=ButtonStyle()), Butt…"
      ]
     },
     "metadata": {},
     "output_type": "display_data"
    }
   ],
   "source": [
    "items = [widgets.Button(description=str(i)) for i in range(4)]\n",
    "widgets.Box(items)"
   ]
  },
  {
   "cell_type": "markdown",
   "id": "d50a09dc-8565-410a-acdc-b04e83a99f4f",
   "metadata": {},
   "source": [
    "### HBox"
   ]
  },
  {
   "cell_type": "code",
   "execution_count": 6,
   "id": "2902313c-f11c-4f86-b966-e1ce59bc10e1",
   "metadata": {},
   "outputs": [
    {
     "data": {
      "application/vnd.jupyter.widget-view+json": {
       "model_id": "ff683af0e18e418880cfc4ad5b3a910d",
       "version_major": 2,
       "version_minor": 0
      },
      "text/plain": [
       "HBox(children=(Button(description='0', style=ButtonStyle()), Button(description='1', style=ButtonStyle()), But…"
      ]
     },
     "metadata": {},
     "output_type": "display_data"
    }
   ],
   "source": [
    "items = [widgets.Button(description=str(i)) for i in range(4)]\n",
    "widgets.HBox(items)"
   ]
  },
  {
   "cell_type": "markdown",
   "id": "a3d1c785-06a4-489b-9c64-9dbe4b81ec1c",
   "metadata": {},
   "source": [
    "### VBox"
   ]
  },
  {
   "cell_type": "code",
   "execution_count": 7,
   "id": "4d59000d-fcec-4a0d-a68e-a3201a25fa99",
   "metadata": {},
   "outputs": [
    {
     "data": {
      "application/vnd.jupyter.widget-view+json": {
       "model_id": "f878a94061084bcfab138bbbdeaa527b",
       "version_major": 2,
       "version_minor": 0
      },
      "text/plain": [
       "VBox(children=(Button(description='0', style=ButtonStyle()), Button(description='1', style=ButtonStyle()), But…"
      ]
     },
     "metadata": {},
     "output_type": "display_data"
    }
   ],
   "source": [
    "items = [widgets.Button(description=str(i)) for i in range(4)]\n",
    "widgets.VBox(items)"
   ]
  },
  {
   "cell_type": "markdown",
   "id": "319bae74-53f3-473e-91f5-0648f57c67b8",
   "metadata": {},
   "source": [
    "### Combining Boxes"
   ]
  },
  {
   "cell_type": "code",
   "execution_count": 8,
   "id": "25cc29d8-de34-4cb0-aaac-de6f0a88b18d",
   "metadata": {},
   "outputs": [
    {
     "data": {
      "application/vnd.jupyter.widget-view+json": {
       "model_id": "5c5834a56cf4478dbbb1b3f459be1b7b",
       "version_major": 2,
       "version_minor": 0
      },
      "text/plain": [
       "VBox(children=(HBox(children=(Button(description='1', style=ButtonStyle()), Button(description='2', style=Butt…"
      ]
     },
     "metadata": {},
     "output_type": "display_data"
    }
   ],
   "source": [
    "button_1 = widgets.Button(description=\"1\")\n",
    "button_2 = widgets.Button(description=\"2\")\n",
    "button_3 = widgets.Button(description=\"3\")\n",
    "button_4 = widgets.Button(description=\"4\")\n",
    "\n",
    "left_box = widgets.HBox([button_1, button_2])\n",
    "right_box = widgets.HBox([button_3, button_4])\n",
    "\n",
    "widgets.VBox([left_box, right_box])"
   ]
  },
  {
   "cell_type": "markdown",
   "id": "e4aa0848-04c0-4c87-b4ab-a1293be68050",
   "metadata": {},
   "source": [
    "## Grid Based"
   ]
  },
  {
   "cell_type": "code",
   "execution_count": 9,
   "id": "c2ced1cf-adda-47a3-a266-7a75f90f24d2",
   "metadata": {},
   "outputs": [],
   "source": [
    "from ipywidgets import GridspecLayout"
   ]
  },
  {
   "cell_type": "code",
   "execution_count": 10,
   "id": "757ee510-c385-4f33-ad73-44827d7b95f7",
   "metadata": {},
   "outputs": [
    {
     "data": {
      "application/vnd.jupyter.widget-view+json": {
       "model_id": "3b758c207ef6405fbdb2a3d9c8389bba",
       "version_major": 2,
       "version_minor": 0
      },
      "text/plain": [
       "GridspecLayout(children=(Button(description='1', layout=Layout(grid_area='widget001', width='auto'), style=But…"
      ]
     },
     "metadata": {},
     "output_type": "display_data"
    }
   ],
   "source": [
    "grid = GridspecLayout(2, 2, height='100%')\n",
    "\n",
    "button_1 = widgets.Button(description=\"1\", layout=widgets.Layout(width=\"auto\"))\n",
    "button_2 = widgets.Button(description=\"2\", layout=widgets.Layout(width=\"auto\"))\n",
    "button_3 = widgets.Button(description=\"3\", layout=widgets.Layout(width=\"auto\"))\n",
    "\n",
    "grid[0, :] = button_1\n",
    "grid[1, 0] = button_2\n",
    "grid[1, 1] = button_3\n",
    "\n",
    "grid[1, 1].description = \"I am the blue one\"\n",
    "grid"
   ]
  },
  {
   "cell_type": "markdown",
   "id": "c165dd39-34a2-4c74-b55b-2c3ae28de40f",
   "metadata": {},
   "source": [
    "## Template Based"
   ]
  },
  {
   "cell_type": "markdown",
   "id": "5d26fac3-dd68-4eae-bb60-b3fdc72c6037",
   "metadata": {},
   "source": [
    "### TwoByTwoLayout"
   ]
  },
  {
   "cell_type": "code",
   "execution_count": 11,
   "id": "815a1345-0796-4612-ba46-8adf4eb12892",
   "metadata": {},
   "outputs": [
    {
     "data": {
      "application/vnd.jupyter.widget-view+json": {
       "model_id": "bfc2b373f51445faba1b5704e70645ee",
       "version_major": 2,
       "version_minor": 0
      },
      "text/plain": [
       "TwoByTwoLayout(children=(Button(description='1', layout=Layout(grid_area='top-left', width='auto'), style=Butt…"
      ]
     },
     "metadata": {},
     "output_type": "display_data"
    }
   ],
   "source": [
    "button_1 = widgets.Button(description=\"1\", layout=widgets.Layout(width=\"auto\"))\n",
    "button_2 = widgets.Button(description=\"2\", layout=widgets.Layout(width=\"auto\"))\n",
    "button_3 = widgets.Button(description=\"3\", layout=widgets.Layout(width=\"auto\"))\n",
    "button_4 = widgets.Button(description=\"4\", layout=widgets.Layout(width=\"auto\"))\n",
    "\n",
    "widgets.TwoByTwoLayout(top_left=button_1,\n",
    "                       top_right=button_2,\n",
    "                       bottom_left=button_3,\n",
    "                       bottom_right=button_4)"
   ]
  },
  {
   "cell_type": "markdown",
   "id": "09788a98-77c6-4dc5-a958-0df8d490f585",
   "metadata": {},
   "source": [
    "### AppLayout"
   ]
  },
  {
   "cell_type": "code",
   "execution_count": 12,
   "id": "8544ed95-f27b-441e-b488-f13808bc8ef5",
   "metadata": {},
   "outputs": [
    {
     "data": {
      "application/vnd.jupyter.widget-view+json": {
       "model_id": "c367aa31c54a40d6957d8edb24851a62",
       "version_major": 2,
       "version_minor": 0
      },
      "text/plain": [
       "AppLayout(children=(Button(description='1', layout=Layout(grid_area='header', height='auto', width='auto'), st…"
      ]
     },
     "metadata": {},
     "output_type": "display_data"
    }
   ],
   "source": [
    "button_1 = widgets.Button(description=\"1\", layout=widgets.Layout(width=\"auto\", height=\"auto\"))\n",
    "button_2 = widgets.Button(description=\"2\", layout=widgets.Layout(width=\"auto\", height=\"auto\"))\n",
    "button_3 = widgets.Button(description=\"3\", layout=widgets.Layout(width=\"auto\", height=\"auto\"))\n",
    "button_4 = widgets.Button(description=\"4\", layout=widgets.Layout(width=\"auto\", height=\"auto\"))\n",
    "button_5 = widgets.Button(description=\"5\", layout=widgets.Layout(width=\"auto\", height=\"auto\"))\n",
    "\n",
    "widgets.AppLayout(header=button_1,\n",
    "                  left_sidebar=button_2,\n",
    "                  center=button_3,\n",
    "                  right_sidebar=button_4,\n",
    "                  footer=button_5)"
   ]
  },
  {
   "cell_type": "code",
   "execution_count": null,
   "id": "f1b0d090-e704-47ec-a4a4-0b4cf9ccf3fc",
   "metadata": {},
   "outputs": [],
   "source": []
  }
 ],
 "metadata": {
  "kernelspec": {
   "display_name": "Python 3",
   "language": "python",
   "name": "python3"
  },
  "language_info": {
   "codemirror_mode": {
    "name": "ipython",
    "version": 3
   },
   "file_extension": ".py",
   "mimetype": "text/x-python",
   "name": "python",
   "nbconvert_exporter": "python",
   "pygments_lexer": "ipython3",
   "version": "3.8.10"
  }
 },
 "nbformat": 4,
 "nbformat_minor": 5
}
