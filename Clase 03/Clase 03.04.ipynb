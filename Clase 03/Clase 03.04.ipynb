{
 "cells": [
  {
   "cell_type": "markdown",
   "id": "19e47eda-35b0-4064-97aa-32e8137f484e",
   "metadata": {},
   "source": [
    "# IPython Widgets - Activity"
   ]
  },
  {
   "cell_type": "code",
   "execution_count": 12,
   "id": "ca9c9ef9-a7cf-4eb2-84ff-8a40db290452",
   "metadata": {},
   "outputs": [],
   "source": [
    "import numpy as np\n",
    "import matplotlib.pyplot as plt\n",
    "\n",
    "import ipywidgets as widgets\n",
    "from IPython.display import display"
   ]
  },
  {
   "cell_type": "markdown",
   "id": "2bbf1485-18de-44da-baf0-c23f84402954",
   "metadata": {},
   "source": [
    "## Exercise 1\n",
    "\n",
    "Make a slider that has initial value -2, minimum value -10, maximum value 10 with a step of 0.05"
   ]
  },
  {
   "cell_type": "code",
   "execution_count": 2,
   "id": "2ff495d0-c408-4997-b296-9698da12ed81",
   "metadata": {},
   "outputs": [
    {
     "data": {
      "application/vnd.jupyter.widget-view+json": {
       "model_id": "517b7c440e144b409357c5dfe3b9fdbd",
       "version_major": 2,
       "version_minor": 0
      },
      "text/plain": [
       "FloatSlider(value=-2.0, max=10.0, min=-10.0, step=0.05)"
      ]
     },
     "metadata": {},
     "output_type": "display_data"
    }
   ],
   "source": [
    "widgets.FloatSlider(min=-10, max=10, step=0.05, value=-2)"
   ]
  },
  {
   "cell_type": "markdown",
   "id": "235fa77a-a083-44e3-abd9-088646fc2cd3",
   "metadata": {},
   "source": [
    "## Exercise 2\n",
    "\n",
    "Make 3 sliders:\n",
    "- All should range from -10 to 10\n",
    "- The first one's value determines the second's minimum\n",
    "- The third one's value determines the second's maximum"
   ]
  },
  {
   "cell_type": "code",
   "execution_count": 19,
   "id": "e75091cb-9027-481b-91c7-1f40045a1a8a",
   "metadata": {},
   "outputs": [
    {
     "data": {
      "application/vnd.jupyter.widget-view+json": {
       "model_id": "428add22a28b47b5b7e33e66b05f96ae",
       "version_major": 2,
       "version_minor": 0
      },
      "text/plain": [
       "VBox(children=(FloatSlider(value=0.0, description='$a$', max=0.0, min=-10.0), FloatSlider(value=0.0, descripti…"
      ]
     },
     "metadata": {},
     "output_type": "display_data"
    }
   ],
   "source": [
    "#Martin\n",
    "possible_low = widgets.FloatSlider(min=-10, max=10, description=\"$a$\")\n",
    "possible_med = widgets.FloatSlider(min=-10, max=10, description=\"$b$\")\n",
    "possible_high = widgets.FloatSlider(min=-10, max=10, description=\"$c$\")\n",
    "\n",
    "widgets.link((possible_low, 'value'), (possible_med, 'min'))\n",
    "widgets.link((possible_high, 'value'), (possible_med, 'max'))\n",
    "widgets.link((possible_high, 'value'), (possible_low, 'max'))\n",
    "widgets.link((possible_low, 'value'), (possible_high, 'min'))\n",
    "\n",
    "widgets.VBox([possible_low, possible_med, possible_high])"
   ]
  },
  {
   "cell_type": "markdown",
   "id": "35f98098-f507-408e-8fcb-9e1300a86066",
   "metadata": {},
   "source": [
    "## Exercise 3\n",
    "\n",
    "Plot the function:\n",
    "\n",
    "$$a x^2 + b x + c$$\n",
    "\n",
    "Varying $a$, $b$, $c$ with sliders"
   ]
  },
  {
   "cell_type": "code",
   "execution_count": 17,
   "id": "38227b7f-c2ef-4838-9373-3c7af0c8de3d",
   "metadata": {
    "tags": []
   },
   "outputs": [],
   "source": [
    "def cuadratic(a, b, c):\n",
    "    x=np.linspace(-3,3,11);\n",
    "    y=a*x**2+b*x+c;\n",
    "    plt.plot(x,y);\n",
    "    plt.title(\"Parabola curve\")\n",
    "    plt.xlabel(\"x axis\")\n",
    "    plt.ylabel(\"y axis\")\n",
    "    plt.legend(\"y=x^2\");\n",
    "    plt.grid()\n",
    "    plt.show()"
   ]
  },
  {
   "cell_type": "code",
   "execution_count": 18,
   "id": "ad2894bf-fa00-44ce-aa62-f96de221784a",
   "metadata": {},
   "outputs": [
    {
     "data": {
      "application/vnd.jupyter.widget-view+json": {
       "model_id": "a3b4387c97df4c16a5bb58a91a800d28",
       "version_major": 2,
       "version_minor": 0
      },
      "text/plain": [
       "interactive(children=(FloatSlider(value=0.0, description='$a$', max=5.0, min=-5.0), FloatSlider(value=1.0, des…"
      ]
     },
     "metadata": {},
     "output_type": "display_data"
    }
   ],
   "source": [
    "possible_a = widgets.FloatSlider(min=-5, max=5, value=0, description=\"$a$\")\n",
    "possible_b = widgets.FloatSlider(min=0.01, max=2, value=1, step=0.01, description=\"$b$\")\n",
    "possible_c = widgets.FloatSlider(min=0.01, max=2, value=1, step=0.01, description=\"$c$\")\n",
    "\n",
    "widgets.interact(cuadratic, a=possible_a, b=possible_b, c=possible_c);"
   ]
  },
  {
   "cell_type": "code",
   "execution_count": null,
   "id": "45803270-59d2-4a70-b605-8cdcc8c27e75",
   "metadata": {},
   "outputs": [],
   "source": []
  },
  {
   "cell_type": "markdown",
   "id": "8213e4c3-f5bd-4308-8b42-36404d6d3c82",
   "metadata": {},
   "source": [
    "## Exercise 4\n",
    "\n",
    "Re-do the previous exercise but position the sliders as shown in the picture\n",
    "\n",
    "![image.png](../images/exercise4.png)"
   ]
  },
  {
   "cell_type": "code",
   "execution_count": null,
   "id": "d199017a-5bc3-4d2d-9f20-31edefa82f84",
   "metadata": {},
   "outputs": [],
   "source": []
  },
  {
   "cell_type": "code",
   "execution_count": null,
   "id": "65205ab1-34fa-402c-a4d9-6f19abd49609",
   "metadata": {},
   "outputs": [],
   "source": []
  },
  {
   "cell_type": "markdown",
   "id": "6a0371d0-bb3d-4184-8a42-cdf6cd64b485",
   "metadata": {},
   "source": [
    "## Exercise 5\n",
    "\n",
    "Sample random points from a unit square, the minimum and maximum in each dimension should be controlled with sliders. Show the points using a scatterplot."
   ]
  },
  {
   "cell_type": "code",
   "execution_count": null,
   "id": "0f5849e2-6137-4453-baf6-3000929885fc",
   "metadata": {},
   "outputs": [],
   "source": []
  },
  {
   "cell_type": "markdown",
   "id": "20dc5c1f-a829-46f4-b7bd-8ca0064ba7f5",
   "metadata": {},
   "source": [
    "## Exercise 6\n",
    "\n",
    "Plot an histogram of an Exponential distribution or a Poisson based on a checkbox and varying $\\lambda$ from 1 to 5 with a slider. The color of the histogram should be determined by a color picker.\n"
   ]
  },
  {
   "cell_type": "code",
   "execution_count": null,
   "id": "fd3215ea-8258-418b-bcaf-47ce3017f43f",
   "metadata": {},
   "outputs": [],
   "source": []
  },
  {
   "cell_type": "markdown",
   "id": "f945af30-d4e3-4995-bc80-ee1ae786dc96",
   "metadata": {},
   "source": [
    "## Exercise 7\n",
    "\n",
    "Show a basic user interface (label and text field) to ask for a password and show a label below if the password is shorter than 8 saying \"Password too short\" otherwise show \"Password is long enough\""
   ]
  },
  {
   "cell_type": "code",
   "execution_count": null,
   "id": "45739265-7887-45bb-96cb-cb2f67a1624d",
   "metadata": {},
   "outputs": [],
   "source": []
  }
 ],
 "metadata": {
  "kernelspec": {
   "display_name": "Python 3",
   "language": "python",
   "name": "python3"
  },
  "language_info": {
   "codemirror_mode": {
    "name": "ipython",
    "version": 3
   },
   "file_extension": ".py",
   "mimetype": "text/x-python",
   "name": "python",
   "nbconvert_exporter": "python",
   "pygments_lexer": "ipython3",
   "version": "3.8.10"
  }
 },
 "nbformat": 4,
 "nbformat_minor": 5
}
