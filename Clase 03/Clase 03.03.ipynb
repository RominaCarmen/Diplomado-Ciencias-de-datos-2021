{
 "cells": [
  {
   "cell_type": "markdown",
   "id": "3f2f7917-7782-4a92-a053-773c9518aedb",
   "metadata": {},
   "source": [
    "# IPython Widgets - Interactivity"
   ]
  },
  {
   "cell_type": "code",
   "execution_count": 1,
   "id": "4f2fac02-3adc-456c-b5f3-6cf0cd52fe26",
   "metadata": {},
   "outputs": [],
   "source": [
    "import numpy as np\n",
    "import matplotlib.pyplot as plt\n",
    "\n",
    "import ipywidgets as widgets\n",
    "from IPython.display import display"
   ]
  },
  {
   "cell_type": "code",
   "execution_count": 2,
   "id": "633fbde2-582b-4d6e-b984-a273ace7d92f",
   "metadata": {},
   "outputs": [],
   "source": [
    "plt.style.use(\"bmh\")\n",
    "plt.rcParams[\"figure.figsize\"] = 16, 5"
   ]
  },
  {
   "cell_type": "markdown",
   "id": "4c2a12d3-8f5a-4789-9d3b-4de647b8861e",
   "metadata": {},
   "source": [
    "## Dependencies"
   ]
  },
  {
   "cell_type": "markdown",
   "id": "10fd2722-091d-47d2-ade0-0d4eb12ccade",
   "metadata": {},
   "source": [
    "### Linking Attributes"
   ]
  },
  {
   "cell_type": "code",
   "execution_count": 3,
   "id": "09f794ee-2c5f-4b54-bdc7-cb4f30d43d7d",
   "metadata": {},
   "outputs": [
    {
     "data": {
      "application/vnd.jupyter.widget-view+json": {
       "model_id": "167ed962ad324e53b57c78d927031126",
       "version_major": 2,
       "version_minor": 0
      },
      "text/plain": [
       "VBox(children=(FloatSlider(value=0.0, description='$a$', max=1.0, min=-5.0, step=0.05), FloatSlider(value=1.0,…"
      ]
     },
     "metadata": {},
     "output_type": "display_data"
    }
   ],
   "source": [
    "possible_low = widgets.FloatSlider(min=-5, max=5, value=0, step=0.05, description=\"$a$\")\n",
    "possible_high = widgets.FloatSlider(min=-5, max=5, value=1, step=0.05, description=\"$b$\")\n",
    "\n",
    "widgets.link((possible_low, 'value'), (possible_high, 'min'))\n",
    "widgets.link((possible_high, 'value'), (possible_low, 'max'))\n",
    "\n",
    "widgets.VBox([possible_low, possible_high])"
   ]
  },
  {
   "cell_type": "markdown",
   "id": "551ad007-bab2-40ea-9e2e-c4cc14a8a425",
   "metadata": {},
   "source": [
    "### Observing Change"
   ]
  },
  {
   "cell_type": "code",
   "execution_count": 4,
   "id": "a0f164d2-5707-4a38-b54c-37b81f64c01c",
   "metadata": {},
   "outputs": [],
   "source": [
    "from functools import partial"
   ]
  },
  {
   "cell_type": "code",
   "execution_count": 5,
   "id": "89c5f25c-6c68-4420-81cf-06c594cdfb24",
   "metadata": {},
   "outputs": [
    {
     "data": {
      "application/vnd.jupyter.widget-view+json": {
       "model_id": "a626d3e570194725b33edc5a5d14c799",
       "version_major": 2,
       "version_minor": 0
      },
      "text/plain": [
       "VBox(children=(Label(value='Are you old enough to drive?'), IntSlider(value=15, description='Age', layout=Layo…"
      ]
     },
     "metadata": {},
     "output_type": "display_data"
    }
   ],
   "source": [
    "def old_enough(age):\n",
    "    return 'Old enough' if age >= 16 else 'NOT old enough'\n",
    "\n",
    "def can_drive_caption(change, caption):\n",
    "    caption.value = old_enough(change.new)\n",
    "\n",
    "title = widgets.Label(value=\"Are you old enough to drive?\", layout=widgets.Layout(fontsize=75))\n",
    "\n",
    "age_slider = widgets.IntSlider(min=10, max=30, value=15, description='Age', layout={\"width\":\"600px\"})\n",
    "\n",
    "caption = widgets.Label(value=old_enough(age_slider.value))\n",
    "can_drive_callback = partial(can_drive_caption, caption=caption)\n",
    "\n",
    "age_slider.observe(can_drive_callback, names='value')\n",
    "\n",
    "widgets.VBox([title, age_slider, caption])"
   ]
  },
  {
   "cell_type": "markdown",
   "id": "f35f1870-aefc-41f0-85f2-e366e66c2f0f",
   "metadata": {},
   "source": [
    "## React To Function"
   ]
  },
  {
   "cell_type": "markdown",
   "id": "3192783e-bf36-41b4-927e-314b77214c89",
   "metadata": {},
   "source": [
    "### Interact"
   ]
  },
  {
   "cell_type": "code",
   "execution_count": 4,
   "id": "54e7b403-41bb-4520-957d-1afab8b71862",
   "metadata": {},
   "outputs": [],
   "source": [
    "def f(mu, sigma):\n",
    "    sample = np.random.normal(mu, sigma, size=10_000)\n",
    "    plt.hist(sample, bins=30)\n",
    "    plt.xlim(-10, 10)\n",
    "    plt.show()"
   ]
  },
  {
   "cell_type": "code",
   "execution_count": 5,
   "id": "7e006c33-430e-408f-bf17-e3ccb582ccc4",
   "metadata": {},
   "outputs": [
    {
     "data": {
      "application/vnd.jupyter.widget-view+json": {
       "model_id": "cd8b3119b18a43168c35726033436f72",
       "version_major": 2,
       "version_minor": 0
      },
      "text/plain": [
       "interactive(children=(FloatSlider(value=0.0, description='$\\\\mu$', max=5.0, min=-5.0), FloatSlider(value=1.0, …"
      ]
     },
     "metadata": {},
     "output_type": "display_data"
    }
   ],
   "source": [
    "possible_mu = widgets.FloatSlider(min=-5, max=5, value=0, description=\"$\\mu$\")\n",
    "possible_sigma = widgets.FloatSlider(min=0.01, max=2, value=1, step=0.01, description=\"$\\sigma$\")\n",
    "\n",
    "widgets.interact(f, mu=possible_mu, sigma=possible_sigma);"
   ]
  },
  {
   "cell_type": "markdown",
   "id": "66c40efa-fc12-4800-933f-0055eb6dc4a6",
   "metadata": {},
   "source": [
    "#### Interact as Decorator"
   ]
  },
  {
   "cell_type": "code",
   "execution_count": 8,
   "id": "290b3004-7ffc-4f24-963b-0c00c830a518",
   "metadata": {},
   "outputs": [
    {
     "data": {
      "application/vnd.jupyter.widget-view+json": {
       "model_id": "6d29dc0989cc45869998005490e8c282",
       "version_major": 2,
       "version_minor": 0
      },
      "text/plain": [
       "interactive(children=(FloatSlider(value=0.0, description='$\\\\mu$', max=5.0, min=-5.0), FloatSlider(value=1.0, …"
      ]
     },
     "metadata": {},
     "output_type": "display_data"
    }
   ],
   "source": [
    "possible_mu = widgets.FloatSlider(min=-5, max=5, value=0, description=\"$\\mu$\")\n",
    "possible_sigma = widgets.FloatSlider(min=0.01, max=2, value=1, step=0.01, description=\"$\\sigma$\")\n",
    "\n",
    "@widgets.interact(mu=possible_mu, sigma=possible_sigma)\n",
    "def f(mu, sigma):\n",
    "    sample = np.random.normal(mu, sigma, size=10_000)\n",
    "    plt.hist(sample, bins=30)\n",
    "    plt.xlim(-10, 10)\n",
    "    plt.show()"
   ]
  },
  {
   "cell_type": "markdown",
   "id": "249482b0-2636-4883-bafb-17d8193f4ac2",
   "metadata": {},
   "source": [
    "#### Continous Update"
   ]
  },
  {
   "cell_type": "code",
   "execution_count": 9,
   "id": "137e18f1-9946-4373-890c-7315de163dcb",
   "metadata": {},
   "outputs": [
    {
     "data": {
      "application/vnd.jupyter.widget-view+json": {
       "model_id": "44243f3e25e94ae5b7640f53edd7c417",
       "version_major": 2,
       "version_minor": 0
      },
      "text/plain": [
       "interactive(children=(FloatSlider(value=0.0, continuous_update=False, description='$\\\\mu$', max=5.0, min=-5.0)…"
      ]
     },
     "metadata": {},
     "output_type": "display_data"
    }
   ],
   "source": [
    "possible_mu = widgets.FloatSlider(min=-5, max=5, value=0, description=\"$\\mu$\", \n",
    "                                  continuous_update=False)\n",
    "possible_sigma = widgets.FloatSlider(min=0.01, max=2, value=1, step=0.01, description=\"$\\sigma$\", \n",
    "                                     continuous_update=False)\n",
    "\n",
    "@widgets.interact(mu=possible_mu, sigma=possible_sigma)\n",
    "def f(mu, sigma):\n",
    "    sample = np.random.normal(mu, sigma, size=10_000)\n",
    "    plt.hist(sample, bins=30)\n",
    "    plt.xlim(-10, 10)\n",
    "    plt.show()"
   ]
  },
  {
   "cell_type": "markdown",
   "id": "8a74eacb-75ca-4b95-b5dd-6092c728a769",
   "metadata": {},
   "source": [
    "## Interactive"
   ]
  },
  {
   "cell_type": "code",
   "execution_count": 10,
   "id": "e5d9512f-5170-42b4-8c8d-44c2ade0222f",
   "metadata": {},
   "outputs": [],
   "source": [
    "def f(mu, sigma):\n",
    "    sample = np.random.normal(mu, sigma, size=10_000)\n",
    "    plt.hist(sample, bins=30)\n",
    "    plt.xlim(-10, 10)\n",
    "    plt.show()"
   ]
  },
  {
   "cell_type": "code",
   "execution_count": 11,
   "id": "58f32a63-1e58-4e48-89cf-412f6247d329",
   "metadata": {},
   "outputs": [
    {
     "data": {
      "application/vnd.jupyter.widget-view+json": {
       "model_id": "256f8f28fe2244438e5cb7eb62a13ead",
       "version_major": 2,
       "version_minor": 0
      },
      "text/plain": [
       "interactive(children=(FloatSlider(value=0.0, description='$\\\\mu$', max=5.0, min=-5.0), FloatSlider(value=1.0, …"
      ]
     },
     "metadata": {},
     "output_type": "display_data"
    }
   ],
   "source": [
    "possible_mu = widgets.FloatSlider(min=-5, max=5, value=0, description=\"$\\mu$\")\n",
    "possible_sigma = widgets.FloatSlider(min=0.01, max=2, value=1, step=0.01, description=\"$\\sigma$\")\n",
    "\n",
    "interactive_function = widgets.interactive(f, mu=possible_mu, sigma=possible_sigma);\n",
    "interactive_function"
   ]
  },
  {
   "cell_type": "code",
   "execution_count": 12,
   "id": "d809971b-5ceb-45fa-9546-ab0e203888c8",
   "metadata": {},
   "outputs": [],
   "source": [
    "interactive_function.children;"
   ]
  },
  {
   "cell_type": "code",
   "execution_count": 13,
   "id": "50038d8d-d4ac-49ee-ba43-73842b97175c",
   "metadata": {},
   "outputs": [],
   "source": [
    "*controls, output = interactive_function.children"
   ]
  },
  {
   "cell_type": "code",
   "execution_count": 14,
   "id": "cb4e1607-5b83-4561-8719-6766cbfe6b9b",
   "metadata": {},
   "outputs": [
    {
     "data": {
      "application/vnd.jupyter.widget-view+json": {
       "model_id": "23d84f67a6ee49a39877e3507028c8c7",
       "version_major": 2,
       "version_minor": 0
      },
      "text/plain": [
       "HBox(children=(VBox(children=(FloatSlider(value=0.0, description='$\\\\mu$', max=5.0, min=-5.0), FloatSlider(val…"
      ]
     },
     "metadata": {},
     "output_type": "display_data"
    }
   ],
   "source": [
    "controls_column = widgets.VBox(controls, layout=widgets.Layout(width=\"700px\"))\n",
    "widgets.HBox([controls_column, output])"
   ]
  },
  {
   "cell_type": "markdown",
   "id": "53f14560-3409-49a7-81b1-cfe5616b8c35",
   "metadata": {},
   "source": [
    "## Interactive Output"
   ]
  },
  {
   "cell_type": "code",
   "execution_count": 21,
   "id": "b890e777-dff7-416e-b964-440fcbfc0cff",
   "metadata": {},
   "outputs": [],
   "source": [
    "def f(mu, sigma):\n",
    "    sample = np.random.normal(mu, sigma, size=10_000)\n",
    "    plt.hist(sample, bins=30)\n",
    "    plt.xlim(-10, 10)\n",
    "    plt.show()"
   ]
  },
  {
   "cell_type": "code",
   "execution_count": 22,
   "id": "dacf9f49-d95f-4082-b332-70734c5c60cb",
   "metadata": {},
   "outputs": [
    {
     "data": {
      "application/vnd.jupyter.widget-view+json": {
       "model_id": "311137b2d7a246f498ba181eb4cc323d",
       "version_major": 2,
       "version_minor": 0
      },
      "text/plain": [
       "HBox(children=(VBox(children=(FloatSlider(value=0.0, continuous_update=False, description='$\\\\mu$', max=5.0, m…"
      ]
     },
     "metadata": {},
     "output_type": "display_data"
    }
   ],
   "source": [
    "possible_mu = widgets.FloatSlider(min=-5, max=5, value=0, description=\"$\\mu$\", \n",
    "                                  continuous_update=False)\n",
    "possible_sigma = widgets.FloatSlider(min=0.01, max=2, value=1, step=0.01, description=\"$\\sigma$\", \n",
    "                                     continuous_update=False)\n",
    "\n",
    "output_function = widgets.interactive_output(f, {\"mu\":possible_mu, \"sigma\":possible_sigma})\n",
    "\n",
    "controls_column = widgets.VBox([possible_mu, possible_sigma], layout=widgets.Layout(width=\"700px\"))\n",
    "frame = widgets.HBox([controls_column, output_function])\n",
    "display(frame)"
   ]
  },
  {
   "cell_type": "markdown",
   "id": "ffc23bba-bcd0-4d06-af11-c8986e6563d5",
   "metadata": {},
   "source": [
    "## Interactive with Trigger"
   ]
  },
  {
   "cell_type": "code",
   "execution_count": 23,
   "id": "9648e476-c8a2-4e45-8f37-0b70efc7943b",
   "metadata": {},
   "outputs": [],
   "source": [
    "from functools import partial"
   ]
  },
  {
   "cell_type": "code",
   "execution_count": 27,
   "id": "f292c4a8-6a75-4868-a9e7-074da88cfdbe",
   "metadata": {},
   "outputs": [
    {
     "data": {
      "application/vnd.jupyter.widget-view+json": {
       "model_id": "19baeb86385d49afb4d264f09a953f3e",
       "version_major": 2,
       "version_minor": 0
      },
      "text/plain": [
       "VBox(children=(HBox(children=(VBox(children=(FloatSlider(value=0.0, description='$\\\\mu$', max=5.0, min=-5.0), …"
      ]
     },
     "metadata": {},
     "output_type": "display_data"
    }
   ],
   "source": [
    "output = widgets.Output()\n",
    "\n",
    "@output.capture(clear_output=True, wait=True)\n",
    "def f(mu, sigma):\n",
    "    sample = np.random.normal(mu, sigma, size=10_000)\n",
    "    plt.hist(sample, bins=30)\n",
    "    plt.xlim(-10, 10)\n",
    "    plt.show()\n",
    "\n",
    "def update_plot_with_output(widget, mu, sigma):\n",
    "    f(mu.value, sigma.value)\n",
    "\n",
    "possible_mu = widgets.FloatSlider(min=-5, max=5, value=0, description=\"$\\mu$\")\n",
    "possible_sigma = widgets.FloatSlider(min=0.01, max=2, value=1, step=0.01, description=\"$\\sigma$\")\n",
    "\n",
    "update_plot = partial(update_plot_with_output, mu=possible_mu, sigma=possible_sigma)\n",
    "\n",
    "button = widgets.Button(description=\"Update Plot\", layout=widgets.Layout(width=\"100%\"))\n",
    "button.on_click(update_plot)\n",
    "\n",
    "sliders = widgets.VBox([possible_mu, possible_sigma], layout=widgets.Layout(width=\"100%\"))\n",
    "\n",
    "controls_layout = widgets.Layout(display='flex', align_items='center')\n",
    "controls = widgets.HBox([sliders, button], layout=controls_layout)\n",
    "frame = widgets.VBox([controls, output])\n",
    "\n",
    "update_plot(None) # First Run\n",
    "\n",
    "display(frame)"
   ]
  },
  {
   "cell_type": "markdown",
   "id": "fc7fd764-4ead-4900-99e5-8e0ba75983fc",
   "metadata": {},
   "source": [
    "## Dynamically Adding Widgets"
   ]
  },
  {
   "cell_type": "code",
   "execution_count": 19,
   "id": "e9fb1573-8b98-45d9-bc54-3e304c941d80",
   "metadata": {},
   "outputs": [
    {
     "data": {
      "application/vnd.jupyter.widget-view+json": {
       "model_id": "fed89eaa32ea4db69fbcf3a8646efc9c",
       "version_major": 2,
       "version_minor": 0
      },
      "text/plain": [
       "VBox(children=(IntSlider(value=1, description='Variables', max=5, min=1), VBox(children=(Button(description='1…"
      ]
     },
     "metadata": {},
     "output_type": "display_data"
    }
   ],
   "source": [
    "variable_count = widgets.IntSlider(min=1, max=5, value=1, description=\"Variables\")\n",
    "\n",
    "def update_container(count, container):\n",
    "    buttons = []\n",
    "    for i in range(1, count+1):\n",
    "        button = widgets.Button(description=str(i))\n",
    "        buttons.append(button)\n",
    "    container.children = buttons\n",
    "\n",
    "def generate_sliders(change, container):\n",
    "    update_container(change.new, container)\n",
    "\n",
    "container = widgets.VBox()\n",
    "update_container(variable_count.value, container)\n",
    "\n",
    "callback = partial(generate_sliders, container=container)\n",
    "variable_count.observe(callback, names='value')\n",
    "\n",
    "controls = widgets.VBox([variable_count, container])\n",
    "controls"
   ]
  }
 ],
 "metadata": {
  "kernelspec": {
   "display_name": "Python 3",
   "language": "python",
   "name": "python3"
  },
  "language_info": {
   "codemirror_mode": {
    "name": "ipython",
    "version": 3
   },
   "file_extension": ".py",
   "mimetype": "text/x-python",
   "name": "python",
   "nbconvert_exporter": "python",
   "pygments_lexer": "ipython3",
   "version": "3.8.10"
  }
 },
 "nbformat": 4,
 "nbformat_minor": 5
}
